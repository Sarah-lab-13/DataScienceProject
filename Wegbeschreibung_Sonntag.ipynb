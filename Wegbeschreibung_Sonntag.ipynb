{
 "cells": [
  {
   "cell_type": "code",
   "execution_count": 2,
   "metadata": {},
   "outputs": [],
   "source": [
    "from os import path\n",
    "xml_path = path.relpath(\"Data/pages_8_47.xml\")\n",
    "\n",
    "from bs4 import BeautifulSoup\n",
    "with open(xml_path, encoding='utf8') as file:\n",
    "    contents = file.read()\n",
    "    soup = BeautifulSoup(contents, 'xml')"
   ]
  },
  {
   "cell_type": "code",
   "execution_count": 3,
   "metadata": {},
   "outputs": [],
   "source": [
    "import re"
   ]
  },
  {
   "cell_type": "code",
   "execution_count": 4,
   "metadata": {},
   "outputs": [
    {
     "data": {
      "text/plain": [
       "[<hi rend=\"letterSpaced:true;\">Sonntag</hi>]"
      ]
     },
     "execution_count": 4,
     "metadata": {},
     "output_type": "execute_result"
    }
   ],
   "source": [
    "#soup.find_all('hi', string=re.compile(r'Sonntag'))"
   ]
  },
  {
   "cell_type": "markdown",
   "metadata": {},
   "source": [
    "Trying to get all the text - and placeTags for Sunday:"
   ]
  },
  {
   "cell_type": "code",
   "execution_count": 5,
   "metadata": {},
   "outputs": [],
   "source": [
    "start_tag = 'hi'\n",
    "start_string = 'Sonntag'\n",
    "end_tag = 'hi'\n",
    "end_string = 'Montag.'\n",
    "place_tag = 'placeName'\n",
    "should_start_parsing = False"
   ]
  },
  {
   "cell_type": "code",
   "execution_count": 6,
   "metadata": {},
   "outputs": [],
   "source": [
    "Sonntag = []\n",
    "Places = []\n",
    "for line in soup.find_all('l'):\n",
    "    if line.string == start_string and line.string.parent.name == start_tag:\n",
    "        should_start_parsing = True  \n",
    "\n",
    "    if should_start_parsing:\n",
    "        text = line.get_text()\n",
    "        Sonntag.append(text)\n",
    "        for child in line.descendants:\n",
    "            if child.name == place_tag:\n",
    "                for string in child.strings:\n",
    "                    Places.append(string) \n",
    "\n",
    "    if line.string == end_string and line.string.parent.name == end_tag:\n",
    "        should_start_parsing = False  \n",
    "        break"
   ]
  },
  {
   "cell_type": "code",
   "execution_count": 7,
   "metadata": {},
   "outputs": [
    {
     "name": "stdout",
     "output_type": "stream",
     "text": [
      "['Sonntag', 'Vormittag,', 'wo man nicht zu bestimmten Stunden in irgend eine', 'Anstalt eilen muß.', 'Wir beginnen von der k. k. Burg*). Tritt man', 'zur selben hinaus, so hat man den großen äuße=', 'ren Burgplatz vor sich, welcher durch 2 sich kreu=', 'zende Wege in 4 Rasenparterre abgetheilt ist. Rechts', 'und links führen in allen Ecken Wege auf den Wall;', 'gerade vor sich hat man das Burgthor, unter', 'Kaiser Franz I. von Nobile 1822 erbaut. Des Kaisers', '*)Alle Staatsanstalten haben das Prädikat kaiserlich=könig=', 'liche (k. k.), welches im Folgenden nur der Kürze wegen weg=', 'gelassen wird.', '5', 'Wahlspruch: Justitia Regnorum Fundamentum, ziert', 'die Stadtseite. Es ist 38 Klafter lang, und hat fünf', 'Durchgänge, welche durch 18 dorische Säulen gebil=', \"det werden, die 4' 7'' Durchmesser haben. Die mitt=\", 'lere Durchfahrt ist dem allerhöchsten Hofe vorbehal=', 'ten. Zu beiden Seiten des Gebäudes führen auch', 'Stiegen auf den Wall, die aber gewöhnlich verschlos=', 'sen sind, so wie der Aufgang auf die Plattform des', 'Thores. Man sollte aber in der Wachstube um das', 'Aufschließen ansuchen, da diese Plattform ein sehr', 'interessanter Standpunkt ist. Gerade vor sich hat man', 'die kaiserlichen Stallungen (von Fischer', 'von Erlach erbaut), 600 Fuß lang, welche 400 Pferde=', 'stände enthalten. Etwas weiter rechts ist das Ge=', 'bäude der ungarischen Garde (von demsel=', 'ben) und das Palais des Fürsten Auersperg.', 'Weiterhin sieht man das Gebäude des Geographi=', 'schen (Militär=)Jnstituts, das Kriminal=', 'Gebäude, das Kahlengebirge rc. Links von den Stal=', 'lungen führt die Mariahilfer Hauptstraße gegen Schön=', 'brunn. Neben dieser steht in der Tiefe die Grena=', 'dierkaserne, der Platz davor ist der Getreide=', 'markt und das hölzerne Gebäude auf diesem enthält', 'einen artesischen Brunnen. Weiterhin sieht', 'man die Akazien=Alleen an den Ufern der Wien mit', 'dem Kettenstege, der steinernen Brücke, jenseits der=', 'selben das Polytechnische Jnstitut und die', 'Karlskirche. — Wendet man sich gegen die Stadt um,', 'so hat man vor sich die Gebäude der Burg. Der', 'vorspringende Flügel enthält den Ritter= oder', '6', 'Ceremoniensaal. Links davon bezeichnet im', 'ersten Stockwerke der große Balkon mit Glaswänden', 'die Appartements Sr Majestät des Kaisers. Rechts', 'vom Rittersaal enthält der lange, etwas niedere Bau', 'das Antiken= und Mineralienkabinet, darü=', 'ber ragt links der kleine astronomische Thurm', 'der Burg empor, rechts die Kuppel des Hofbiblio=', 'thek=Gebäudes am Josephsplatze. Weiterhin steht', 'das schöne Palais des Erzherzogs Karl auf', 'dem Walle. Die kreuzende Straße auf dem Burg=', 'platze führt beiderseits zu kolossalen Gartenthoren,', 'links des Volksgartens, rechts des Burg=', 'gartens.', 'Den Burggarten darf man nicht unbesichtigt', 'lassen, da in den Frühstunden (außer der Hof wäre', 'etwa eben in demselben anwesend) der Besuch jedem', 'Gebildeten gestattet ist. Man wende sich nur an irgend', 'einen Gärtnergehilfen, oder an den Hrn. Hofgärtner,', 'um der Gewächshäuser willen. Dieser Pracht=', \"bau (von Remy) hat 568' Länge, 325' Höhe. Die\", 'Mitte des Raumes bildet der imposante Blumensaal,', \"72' lang, von 8 Säulen getragen, die 30' Höhe, 3'\", 'Durchmesser haben. Die große Porzellan=Vase im', 'Flügelsalon. Jm Garten selbst steht die Reiterstatue', 'des Gemahls von M. Theresia, Kaisers Franz I. (von', 'Moll).', 'Geht man nun auf den Wall rechts (Südwest)', 'am Palais des Erzherzogs Karl vorüber, so kömmt', 'man zu der Auffahrt vom Spitalplatze, am Hofbau=', 'amte vorbei, zum Kärnthnerthor=Theater.', '7', 'zu welchem ein bedeckter Gang vom Wall hinüber', 'führt. Wenige Schritte weiter steht man über dem', 'Kärnthnerthore und sieht in die Kärnthnerstraße', 'hinab. Auf dem Glacis sieht man die Brücke über', 'die Wien, welche zur Vorstadt Wieden, auf die', 'Straße nach Baden führt. Rechts steht das große', 'Starhembergische Freihaus, links das Polytech=', 'nische Jnstitut und die Karlskirche. Ueber das', 'Starhembergische Frelhaus hin steht man die Gebirge', 'des Wienerwaldes und an heiteren Tagen erblickt', 'man den Schneeberg in weiter Ferne empor', 'ragen. Jn der Vorstadt steht links von der Karls=', 'kirche das Sommerpalais des Fürsten ', 'Schwarzenberg, darüber ragt das Belvedere', 'empor, und hinter diesem rechts steht man die Rauch=', 'fänge im Bahnhofe der Raaber Eisenbahn.', 'Links vom Belvedere ist Kirche und Kloster der', 'Salesianerinnen, neben dem Schwarzenbergi=', 'schen Palais steht vorne die neue Kaserne (für', 'Jnfanterie und das Beschäl=Departement) Das Pa=', 'lais mit den großen Saalfenstern ist Eigenthum des', 'Erzherzogs Maximilian. Jm Stadtgraben', 'steht ein Militär=Magazin und ein kleiner Gar=', 'ten des Erzherzogs Karl, der in Verbindung mit dem', 'oberen ist, welcher den ganzen nun folgenden Ra=', 'velin einnimmt. Diesem gegenüber springt das Pa=', 'lais Kolowrat vor. Man kömmt nun auf dem', 'Walle zu den Stellen, wo mit Asphalt=Pflasterung', 'Proben gemacht wurden; links steht das Artille=', 'rie=Haupt=Zeugamt mit dem Blechthürmchen,', '8', 'und man erreicht das Karolinenthor. Jm Stadt=', 'graben befindet sich ein Garten des Erzherzogs', 'Karl. Vom Thore sieht man in der Stadt auf die', 'Seilerstätte hinab und die Weihburggasse aus=', 'wärts; die Brücke führt zur Mineralwässer=Trink=', 'kur=Anstalt und ihren Gartenanlagen auf dem', 'Glacis, weiterhin die Vorstadt Rennweg hinan.', 'Auf dem Ravelin steht links das neue Palais des', 'Herzogs von Koburg, 1842 erbaut.', 'Geht man auf der Courtine des Walles weiter', 'fort, so kömmt man an einem Hause vorüber, welches', 'ein Stockwerk hoch, etwas weiter zurück in der', 'Reihe steht, es ist die orientalische Akademie.', 'Gleich darauf ist man am Stubenthor, sieht in der', 'Stadt die Wollzeile hinauf, und außen auf die große', 'Steinbrücke über die Wienist Wien = Donau?, deren dammartige Ver=', 'längerung beiderseits von schönen hohen Pappeln ein=', 'gefaßt ist. Dort ist die Hauptstraße der VorstadtVorstadt = Bezirk', 'LandstraßeVorstadt = Bezirk, welche zur Linie (Barriere) von St.', 'Marx und nach Ungarn führt. Rechts von den Pap=', 'peln steht das stattliche Münzgebäude, dicht ne=', 'ben diesem links zieht sich der Neustädter Kanal', 'herab, und an ihm befindet sich, von den Bäumen ver=', 'steckt, die Stückbohrerei. Links von den Pap=', 'peln ist das Jnvalidenhaus, vor ihm das Ka=', 'nalbassin mit einem Holzmarkte. Auf dem Walle', 'steht dicht am Stubenthore Kloster und Kirche', 'der Dominikaner, vor welcher ein hoher', 'Ravelin auf dem Walle selbst vorspringt. Biegt man', 'um ihn herum, so kömmt man zu dem Gebäude der', '9', 'Hauptmauth und noch vor diesem ist die Fahr=', 'post, deren Wagenremisen mit Schiefer gedeckt sind.', 'Von der Hauptmauth führt eine offene Brücke ohne', 'Thor aufs Glacis zu den hölzernen Transitomagazinen', 'und hinter diesen ragt an der Vorstadt der imposante', 'neue Bau für die Hauptmauth (Zollamt) empor. Nach', 'dessen Vollendung wird (1843) das Gebäude auf dem', 'Walle eine andere Bestimmung erhalten.', 'Auf dem nächstfolgenden Ravelin erblickt man den', 'Donaukanal. Es ist ein malerischer Standpunkt:', 'Links hat man das Kahlengebirge, rechts die Bäume', 'des Praters zum Hintergrunde, vor sich am anderen', 'Ufer die Leopoldstadt; die Ferdinandsbrücke führt', 'vom Rothenthurm=Thore hinüber. Von ihr führt die', 'Taborstraße gerade fort (nördlich) zum Tabor, der', 'Linie gegen Mähren und Böhmen, rechts aber sieht', 'man zum Theil in die Jägerzeile hinein, durch', 'welche die berühmte Praterfahrt geht. Der Donau', 'abwärts sind die Fischerkähne, weiterhin landen die', 'Getreideschiffe und man sieht den großen Korn=', 'speicher. Unterhalb diesem steht die Franzens=', 'brücke. Die Bastei wird weiterhin am niedrigsten. Die', 'Vorstadt dießseits heißt unter den Weißgär=', 'bern und Erdberg. Ehe man zum Rothen=', 'thurmthore kommt, sieht man in der Stadt die', 'stark ansteigende Laurenzer=Gasse hinauf, deren', 'linke Seite von einem großen Gebäude (Laurenzerhof)', 'gebildet wird, in welchem die Staats=Buchhaltun=', 'gen und noch mehre andere Büreaus sich befinden.', 'Hat man das Thor passirt, so sieht man in der Stadt', '10', 'das Müllerische Palais mit doppelten Balko=', 'nen in seiner ganzen Länge. Jn der Leopoldstadt', 'drüben steht das Dianabad; die Karls=Ket=', 'tenbrücke verbindet die Ufer. Dießseits landen die', 'Salz= und Obstschiffe, und dieser Landungsplatz ist der', 'bekannte Schanzl. Jn der Stadt ist der Fisch=', 'markt, auf welchem Freitags auch hölzerne Fisch=', 'Buden aufgerichtet werden, man sieht die St. Ru=', 'prechtstiege hinauf und hat übermals einen Ra=', 'velin mit dem Fischerthore erreicht. Die Straße', 'in der Stadt heißt nun der Salzgries, das hohe', 'altersgraue Gebäude mit Gitterfenstern ist das Poli=', 'zeihaus, und weiterhin steht dicht am Walle die', 'Grenadierkaserne, die einzige in der Stadt.', 'Auf dem nahen Ravelin springt das Stabsstock=', 'haus (Militär=Arrest) weit vor. Diesem gegenüber', 'steht auf dem Ravelin (Elendbastei) ein kleines Ob=', 'servatorium des Generalstabes. Man steht nun', 'über dem neuen Thore; die Straße auf dem', 'GlacisEin Glacis ist eine Art Erdwall.  führt zur Augartenbrücke (mit hölzernen', 'Jochen) und hinter den Häusern der Leopoldstadt ragen', 'die Bäume des Augartens empor, an welchen die', 'Brigittenau stößt. Am dießseitigen Ufer reicht die', 'Vorstadt Roßau an den Donaukanal, weiterhin', 'Lichtenthal mit der Servitenkirche, dahinter die', 'Höhen von Döbling vor dem Kahlengebirge. Der', 'Berg zunächst an der Donau ist der Leopoldsberg.', 'wo die Herzogsburg der Babenberge stand, sein', 'Nachbar ist der größere Kahlenberg (Josephs=', 'berg).', '11', 'Auf der Bastei hat man neben sich das lange Dach', 'des Arsenales und der Proviantbäckerei.', 'Man geht hierauf etwas bergan zum Schot=', 'tenthore, 1841 neu erbaut, und sieht die Schot=', 'tengasse hinab, bis auf die Freiung und in die', 'Herrngasse hinein. Die Straße außer dem Thore', 'führt in die Währingergasse, deren linkes Eck', 'die Gewehrfabrik bildet. Hier fährt man zur', 'Nußdorfer Linie nach Döbling rc. Links von der', 'Gewehrfabrik steht die ehemalige Kirche der Schwarz=', 'spanier, jetzt das Garnisons=Bettmagazin.', 'Das große vorspringende Eckhaus ist das fürstlich', 'Esterhazische sogenannte rothe Haus, und an dieses', 'stößt die große Jnfanterie=Kaserne, welche', 'das Eck in die Alsergasse bildet; diese Gasse führt zur', 'Herrnalser Linie und nach Dornbach. Das gegenüber', 'stehende imposante Gebäude ist das Kriminale.', 'Man steht jetzt auf dem Ravelin Mölkerbastei.', 'Das Gäßchen links führt in die Teinfaltstraße hinab,', 'dann folgt das Palais Lubomirski mit der', 'Säulenhalle im ersten Stockwerke und das Fran=', 'zensthor, das jüngste aus allen. Der Weg über', 'das Glacis führt in die Josephstadt hinaus. Draußen', 'steht eine Reihe neuer Häuser, unter welchen das', 'geographische Jnstitut des Generalstabes an', 'einem Thürmchen kenntlich ist. Wo diese Häuserreihe', 'weiterhin endet, sieht man in die Kaisergasse', 'hinauf, wo das Josephstädter Theater und', 'die große Kavallerie=Kaserne sich befinden; es', 'ist der Weg in das berüchtigte Lerchenfeld. Der nächst', '12', 'folgende Ravelin, die Löwelbastei, berühmt durch', 'die heldenmüthige Vertheidigung gegen die Türken,', 'trägt jetzt das anmuthige Paradies=Gärtchen', 'mit Cortis=Kaffehhause, von welchem man hinab', 'in den Volksgarten kömmt. Jn der Stadt sieht', 'man die Schenkenstraße mit dem Palais Liech=', 'tenstein, zu welchem von der Bastei eine doppelte', 'Brücke hinüberführt, auch ist eine Anfahrt im neuesten', 'Style auf der Bastei erbaut. Man kömmt nun gegen', 'die Burg an der Staats=Kanzlei vorbei, zu der', 'eine eiserne Brücke hinüberführt; auf dem Walle selbst', 'ist ein Gärtchen des Fürsten Metternich. Unten ist', 'der Ballplatz. Die Anfahrt bei der Burg heißt', 'Bellaria.', 'Man steht nun wieder an dem äußeren Burgplatze,', 'auf welchem man jenseits den Rundgang begonnen', 'hat, und schließt mit einem Besuche des Volksgar=', 'tens. Unter Tags ist derselbe ein Haupttummelplatz', 'der Kinder, Abends kömmt dann die elegante Welt.', 'Ein zweites Kaffehaus von Corti ist eine sehr freund=', 'liche Halle im Halbkreise gebaut. Die beliebten Or=', 'chester von Strauß und Lanner spielen hier zuweilen.', 'Mitten im Volksgarten steht der Theseustem=', 'pel, von Nobile nach den Verhältnissen des athenien=', 'sischen erbaut, 76 lang, 48 breit, und für Cano=', 'vas Meisterwerk bestimmt, die Marmorgruppe des', 'Theseus. Jm Winter ist der Tempel verschlossen,', 'er wird aber bereitwillig geöffnet, wenn man sich', 'in der Wachstube der Hof=Burgwache (nicht der Gre=', 'nadier=Hauptwache) in der Durchfahrt in den Schwei=', '13', 'zerhof meldet. Das kleine Haus dicht an der Stadt=', 'mauer ist dem Kunstvereine eingeräumt, der darin', 'die von ihm angekauften Kunstwerke ausstellt; auch', 'für andere Expositionen dient das Gebäude.', 'Jn den folgenden Blättern wird eine Anweisung', 'gegeben, die Sehenswürdigkeiten Wiens in der Art zu', 'besuchen, daß der Weg zu den Anstalten, an den', 'Einlaßtagen derselben, zugleich so instruktiv gemacht', 'wird als möglich. Für die Nachmittage werden Aus=', 'flüge in die Umgebungen vorgeschlagen, wie sie sich', 'am besten vereinigen lassen. Nur auf das Wichtigste', 'wird aufmerksam gemacht, und es wird leicht sein,', 'auch darin wieder eine Auswahl nach Neigung und', 'Zeitverhältnissen zu treffen. Alles Angegebene zu', 'besehen ist natürlich nur bei sehr flüchtigen Durch=', 'gehen der Anstalten möglich.', 'Montag.']\n",
      "['k. k. Burg', 'Burgplatz', 'Burgthor', 'kaiserlichen Stallungen', 'Ge=', 'bäude der ungarischen Garde', ' ', 'Palais des ', 'Fürsten Auersperg', 'Gebäude des ', 'Geographi=', 'schen (Militär=)Jnstituts', 'Kriminal=', 'Gebäude', 'Kahlengebirge', 'Mariahilfer Hauptstraße', 'Schön=', 'brunn', 'Grena=', 'dierkaserne', 'Getreide=', 'markt', ' ', 'artesischen Brunnen', 'Akazien=Alleen', 'Wien', 'Kettenstege', 'der steinernen Brücke', 'Polytechnische Jnstitut', 'Karlskirche', 'Burg', 'Ritter=', 'Ceremoniensaal', 'Appartements ', 'Sr Majestät des Kaisers', 'Rittersaal', 'Antiken=', 'Mineralienkabinet', 'astronomische Thurm', 'Burg', 'Hofbiblio=', 'thek=Gebäudes', 'Josephsplatze', 'Palais des ', 'Erzherzogs Karl', 'Burg=', 'platze', 'Volksgartens', 'Burg=', 'gartens', 'Burggarten', 'Gewächshäuser', 'Wall', 'Palais des ', 'Erzherzogs Karl', ' ', 'Spitalplatze', 'Hofbau=', 'amte', 'Kärnthnerthor=Theater', 'Wall', 'Kärnthnerthore', 'Kärnthnerstraße', 'Wieden', 'Baden', 'Starhembergische ', 'Freihaus', 'Polytech=', 'nische Jnstitut', 'Karlskirche', 'Starhembergische Frelhaus', 'Wienerwaldes', 'Schneeberg', 'Karls=', 'kirche', 'Sommerpalais des ', 'Fürsten ', 'Schwarzenberg', 'Belvedere', 'Bahnhofe', 'Belvedere', 'Kirche und Kloster der', 'Salesianerinnen', 'Schwarzenbergi=', 'schen Palais', 'Kaserne', 'Pa=', 'lais', 'Stadtgraben', 'Pa=', 'lais Kolowrat', 'Artille=', 'rie=Haupt=Zeugamt', 'Karolinenthor', 'Stadt=', 'graben', 'Seilerstätte', ' ', 'Weihburggasse', 'Mineralwässer=Trink=', 'kur=Anstalt', 'Rennweg', 'Palais des', 'Herzogs von Koburg', 'orientalische Akademie', 'Stubenthor', 'Wollzeile', 'große', 'Steinbrücke', 'Wien', 'ist Wien = Donau?', 'Landstraße', 'Vorstadt = Bezirk', 'zur Linie (Barriere) von St.', 'Marx', 'Ungarn', 'Münzgebäude', 'Neustädter ', 'Kanal', 'Stückbohrere', 'i', 'Jnvalidenhaus', 'Ka=', 'nalbassin', 'Stubenthore', 'Kloster und Kirche', 'der ', 'Dominikaner', 'Ravelin', 'Hauptmauth', 'Fahr=', 'post', 'Hauptmauth', 'Glacis', 'Zollamt', 'Ravelin', 'Donaukanal', 'Kahlengebirge', 'Praters', 'Leopoldstadt', 'Ferdinandsbrücke', 'Rothenthurm=Thore', 'Taborstraße', 'Tabor', 'Mähren', 'Böhmen', 'Jägerzeile', 'Donau', 'Korn=', 'speicher', 'Franzens=', 'brücke', '.', 'Bastei', 'unter den ', 'Weißgär=', 'bern', 'Erdberg', 'Rothen=', 'thurmthore', 'Laurenzer=Gasse', 'Laurenzerhof', 'Staats=Buchhaltun=', 'gen', 'Müllerische Palais', 'Leopoldstadt', 'Dianabad', 'Karls=Ket=', 'tenbrücke', 'Schanzl', 'Fisch=', 'markt', 'St. Ru=', 'prechtstiege', 'Ra=', 'velin', 'Fischerthore', 'Salzgries', 'Poli=', 'zeihaus', 'Grenadierkaserne', 'Stabsstock=', 'haus', 'Elendbastei', 'Ob=', 'servatorium', 'Thore', 'Glacis', 'Ein Glacis ist eine Art Erdwall. ', 'Augartenbrücke', 'Leopoldstadt', 'Augartens', 'Brigittenau', 'Roßau', 'Lichtenthal', 'Servitenkirche', 'Döbling', 'Kahlengebirge', 'Leopoldsberg', 'Herzogsburg der Babenberge', 'Kahlenberg', 'Josephs=', 'berg', 'Bastei', 'Arsenales', 'Proviantbäckerei', 'Schot=', 'tenthore', 'Schot=', 'tengasse', 'Freiung', 'Herrngasse', 'Währingergasse', 'Gewehrfabrik', 'Döbling', 'Garnisons=', 'Bettmagazin', 'fürstlich', 'Esterhazische sogenannte ', 'rothe Haus', 'Jnfanterie=Kaserne', 'Alsergasse', 'Dornbach', 'Kriminale', 'Ravelin ', 'Mölkerbastei', 'Teinfaltstraße', 'Palais Lubomirski', 'Fran=', 'zensthor', 'Josephstadt', 'geographische Jnstitut', 'Kaisergasse', 'Josephstädter Theater', 'Kavallerie=Kaserne', 'Lerchenfeld', 'Löwelbastei', 'Paradies=Gärtchen', 'Cortis=Kaffehhause', 'Volksgarten', 'Schenkenstraße', 'Palais Liech=', 'tenstein', 'Staats=Kanzlei', 'Ballplatz', 'Bellaria', 'Burgplatze', 'Volksgar=', 'tens', 'zweites Kaffehaus von Corti', 'Volksgarten', 'Theseustem=', 'pel', 'Hof=Burgwache', 'Schwei=', 'zerhof', 'Kunstvereine']\n"
     ]
    }
   ],
   "source": [
    "#print(Sonntag)\n",
    "#print(Places)"
   ]
  },
  {
   "cell_type": "markdown",
   "metadata": {},
   "source": [
    "Cleaning and structuring the list of places:"
   ]
  },
  {
   "cell_type": "code",
   "execution_count": 8,
   "metadata": {},
   "outputs": [
    {
     "name": "stdout",
     "output_type": "stream",
     "text": [
      "['k. k. Burg', 'Burgplatz', 'Burgthor', 'kaiserlichen Stallungen', 'Ge=', 'bäude der ungarischen Garde', 'Palais des ', 'Fürsten Auersperg', 'Gebäude des ', 'Geographi=', 'schen (Militär=)Jnstituts', 'Kriminal=', 'Gebäude', 'Kahlengebirge', 'Mariahilfer Hauptstraße', 'Schön=', 'brunn', 'Grena=', 'dierkaserne', 'Getreide=', 'markt', 'artesischen Brunnen', 'Akazien=Alleen', 'Wien', 'Kettenstege', 'der steinernen Brücke', 'Polytechnische Jnstitut', 'Karlskirche', 'Burg', 'Ritter=', 'Ceremoniensaal', 'Appartements ', 'Sr Majestät des Kaisers', 'Rittersaal', 'Antiken=', 'Mineralienkabinet', 'astronomische Thurm', 'Burg', 'Hofbiblio=', 'thek=Gebäudes', 'Josephsplatze', 'Palais des ', 'Erzherzogs Karl', 'Burg=', 'platze', 'Volksgartens', 'Burg=', 'gartens', 'Burggarten', 'Gewächshäuser', 'Wall', 'Palais des ', 'Erzherzogs Karl', 'Spitalplatze', 'Hofbau=', 'amte', 'Kärnthnerthor=Theater', 'Wall', 'Kärnthnerthore', 'Kärnthnerstraße', 'Wieden', 'Baden', 'Starhembergische ', 'Freihaus', 'Polytech=', 'nische Jnstitut', 'Karlskirche', 'Starhembergische Frelhaus', 'Wienerwaldes', 'Schneeberg', 'Karls=', 'kirche', 'Sommerpalais des ', 'Fürsten ', 'Schwarzenberg', 'Belvedere', 'Bahnhofe', 'Belvedere', 'Kirche und Kloster der', 'Salesianerinnen', 'Schwarzenbergi=', 'schen Palais', 'Kaserne', 'Pa=', 'lais', 'Stadtgraben', 'Pa=', 'lais Kolowrat', 'Artille=', 'rie=Haupt=Zeugamt', 'Karolinenthor', 'Stadt=', 'graben', 'Seilerstätte', 'Weihburggasse', 'Mineralwässer=Trink=', 'kur=Anstalt', 'Rennweg', 'Palais des', 'Herzogs von Koburg', 'orientalische Akademie', 'Stubenthor', 'Wollzeile', 'große', 'Steinbrücke', 'Wien', 'ist Wien = Donau?', 'Landstraße', 'Vorstadt = Bezirk', 'zur Linie (Barriere) von St.', 'Marx', 'Ungarn', 'Münzgebäude', 'Neustädter ', 'Kanal', 'Stückbohrere', 'i', 'Jnvalidenhaus', 'Ka=', 'nalbassin', 'Stubenthore', 'Kloster und Kirche', 'der ', 'Dominikaner', 'Ravelin', 'Hauptmauth', 'Fahr=', 'post', 'Hauptmauth', 'Glacis', 'Zollamt', 'Ravelin', 'Donaukanal', 'Kahlengebirge', 'Praters', 'Leopoldstadt', 'Ferdinandsbrücke', 'Rothenthurm=Thore', 'Taborstraße', 'Tabor', 'Mähren', 'Böhmen', 'Jägerzeile', 'Donau', 'Korn=', 'speicher', 'Franzens=', 'brücke', '.', 'Bastei', 'unter den ', 'Weißgär=', 'bern', 'Erdberg', 'Rothen=', 'thurmthore', 'Laurenzer=Gasse', 'Laurenzerhof', 'Staats=Buchhaltun=', 'gen', 'Müllerische Palais', 'Leopoldstadt', 'Dianabad', 'Karls=Ket=', 'tenbrücke', 'Schanzl', 'Fisch=', 'markt', 'St. Ru=', 'prechtstiege', 'Ra=', 'velin', 'Fischerthore', 'Salzgries', 'Poli=', 'zeihaus', 'Grenadierkaserne', 'Stabsstock=', 'haus', 'Elendbastei', 'Ob=', 'servatorium', 'Thore', 'Glacis', 'Ein Glacis ist eine Art Erdwall. ', 'Augartenbrücke', 'Leopoldstadt', 'Augartens', 'Brigittenau', 'Roßau', 'Lichtenthal', 'Servitenkirche', 'Döbling', 'Kahlengebirge', 'Leopoldsberg', 'Herzogsburg der Babenberge', 'Kahlenberg', 'Josephs=', 'berg', 'Bastei', 'Arsenales', 'Proviantbäckerei', 'Schot=', 'tenthore', 'Schot=', 'tengasse', 'Freiung', 'Herrngasse', 'Währingergasse', 'Gewehrfabrik', 'Döbling', 'Garnisons=', 'Bettmagazin', 'fürstlich', 'Esterhazische sogenannte ', 'rothe Haus', 'Jnfanterie=Kaserne', 'Alsergasse', 'Dornbach', 'Kriminale', 'Ravelin ', 'Mölkerbastei', 'Teinfaltstraße', 'Palais Lubomirski', 'Fran=', 'zensthor', 'Josephstadt', 'geographische Jnstitut', 'Kaisergasse', 'Josephstädter Theater', 'Kavallerie=Kaserne', 'Lerchenfeld', 'Löwelbastei', 'Paradies=Gärtchen', 'Cortis=Kaffehhause', 'Volksgarten', 'Schenkenstraße', 'Palais Liech=', 'tenstein', 'Staats=Kanzlei', 'Ballplatz', 'Bellaria', 'Burgplatze', 'Volksgar=', 'tens', 'zweites Kaffehaus von Corti', 'Volksgarten', 'Theseustem=', 'pel', 'Hof=Burgwache', 'Schwei=', 'zerhof', 'Kunstvereine']\n"
     ]
    }
   ],
   "source": [
    "while(\" \" in Places):\n",
    "    Places.remove(\" \")\n",
    "print(Places) "
   ]
  },
  {
   "cell_type": "code",
   "execution_count": 21,
   "metadata": {},
   "outputs": [],
   "source": [
    "clean_places = []\n",
    "for e in Places:\n",
    "    if clean_places and clean_places[-1].endswith('='):\n",
    "        clean_places[-1] = clean_places[-1][:-1] + e\n",
    "    elif clean_places and (clean_places[-1].endswith('des ') or clean_places[-1].endswith('des')):\n",
    "        clean_places[-1] = clean_places[-1] + ' ' + e\n",
    "    elif clean_places and (clean_places[-1].endswith('der ') or clean_places[-1].endswith('der')): \n",
    "        clean_places[-1] = clean_places[-1] + ' ' + e       \n",
    "    else:\n",
    "        clean_places.append(e)\n"
   ]
  },
  {
   "cell_type": "code",
   "execution_count": 22,
   "metadata": {},
   "outputs": [
    {
     "name": "stdout",
     "output_type": "stream",
     "text": [
      "['k. k. Burg', 'Burgplatz', 'Burgthor', 'kaiserlichen Stallungen', 'Gebäude der ungarischen Garde', 'Palais des  Fürsten Auersperg', 'Gebäude des  Geographischen (Militär=)Jnstituts', 'KriminalGebäude', 'Kahlengebirge', 'Mariahilfer Hauptstraße', 'Schönbrunn', 'Grenadierkaserne', 'Getreidemarkt', 'artesischen Brunnen', 'Akazien=Alleen', 'Wien', 'Kettenstege', 'der steinernen Brücke', 'Polytechnische Jnstitut', 'Karlskirche', 'Burg', 'RitterCeremoniensaal', 'Appartements ', 'Sr Majestät des Kaisers', 'Rittersaal', 'AntikenMineralienkabinet', 'astronomische Thurm', 'Burg', 'Hofbibliothek=Gebäudes Josephsplatze', 'Palais des  Erzherzogs Karl', 'Burgplatze', 'Volksgartens', 'Burggartens', 'Burggarten', 'Gewächshäuser', 'Wall', 'Palais des  Erzherzogs Karl', 'Spitalplatze', 'Hofbauamte', 'Kärnthnerthor=Theater', 'Wall', 'Kärnthnerthore', 'Kärnthnerstraße', 'Wieden', 'Baden', 'Starhembergische ', 'Freihaus', 'Polytechnische Jnstitut', 'Karlskirche', 'Starhembergische Frelhaus', 'Wienerwaldes Schneeberg', 'Karlskirche', 'Sommerpalais des  Fürsten ', 'Schwarzenberg', 'Belvedere', 'Bahnhofe', 'Belvedere', 'Kirche und Kloster der Salesianerinnen', 'Schwarzenbergischen Palais', 'Kaserne', 'Palais', 'Stadtgraben', 'Palais Kolowrat', 'Artillerie=Haupt=Zeugamt', 'Karolinenthor', 'Stadtgraben', 'Seilerstätte', 'Weihburggasse', 'Mineralwässer=Trinkkur=Anstalt', 'Rennweg', 'Palais des Herzogs von Koburg', 'orientalische Akademie', 'Stubenthor', 'Wollzeile', 'große', 'Steinbrücke', 'Wien', 'ist Wien = Donau?', 'Landstraße', 'Vorstadt = Bezirk', 'zur Linie (Barriere) von St.', 'Marx', 'Ungarn', 'Münzgebäude', 'Neustädter ', 'Kanal', 'Stückbohrere', 'i', 'Jnvalidenhaus', 'Kanalbassin', 'Stubenthore', 'Kloster und Kirche', 'der  Dominikaner', 'Ravelin', 'Hauptmauth', 'Fahrpost', 'Hauptmauth', 'Glacis', 'Zollamt', 'Ravelin', 'Donaukanal', 'Kahlengebirge', 'Praters', 'Leopoldstadt', 'Ferdinandsbrücke', 'Rothenthurm=Thore', 'Taborstraße', 'Tabor', 'Mähren', 'Böhmen', 'Jägerzeile', 'Donau', 'Kornspeicher', 'Franzensbrücke', '.', 'Bastei', 'unter den ', 'Weißgärbern', 'Erdberg', 'Rothenthurmthore', 'Laurenzer=Gasse', 'Laurenzerhof', 'Staats=Buchhaltungen', 'Müllerische Palais', 'Leopoldstadt', 'Dianabad', 'Karls=Kettenbrücke', 'Schanzl', 'Fischmarkt', 'St. Ruprechtstiege', 'Ravelin', 'Fischerthore', 'Salzgries', 'Polizeihaus', 'Grenadierkaserne', 'Stabsstockhaus', 'Elendbastei', 'Observatorium', 'Thore', 'Glacis', 'Ein Glacis ist eine Art Erdwall. ', 'Augartenbrücke', 'Leopoldstadt', 'Augartens', 'Brigittenau', 'Roßau', 'Lichtenthal', 'Servitenkirche', 'Döbling', 'Kahlengebirge', 'Leopoldsberg', 'Herzogsburg der Babenberge', 'Kahlenberg', 'Josephsberg', 'Bastei', 'Arsenales', 'Proviantbäckerei', 'Schottenthore', 'Schottengasse', 'Freiung', 'Herrngasse', 'Währingergasse', 'Gewehrfabrik', 'Döbling', 'GarnisonsBettmagazin', 'fürstlich', 'Esterhazische sogenannte ', 'rothe Haus', 'Jnfanterie=Kaserne', 'Alsergasse', 'Dornbach', 'Kriminale', 'Ravelin ', 'Mölkerbastei', 'Teinfaltstraße', 'Palais Lubomirski', 'Franzensthor', 'Josephstadt', 'geographische Jnstitut', 'Kaisergasse', 'Josephstädter Theater', 'Kavallerie=Kaserne', 'Lerchenfeld', 'Löwelbastei', 'Paradies=Gärtchen', 'Cortis=Kaffehhause', 'Volksgarten', 'Schenkenstraße', 'Palais Liechtenstein', 'Staats=Kanzlei', 'Ballplatz', 'Bellaria', 'Burgplatze', 'Volksgartens', 'zweites Kaffehaus von Corti', 'Volksgarten', 'Theseustempel', 'Hof=Burgwache', 'Schweizerhof', 'Kunstvereine']\n"
     ]
    }
   ],
   "source": [
    "print(clean_places)"
   ]
  },
  {
   "cell_type": "markdown",
   "metadata": {},
   "source": [
    "Auch hier sind noch ein paar wenige Fehler enthalten, die sich aber durch eine Korrektur des Transkripts beheben lassen sollten."
   ]
  },
  {
   "cell_type": "markdown",
   "metadata": {},
   "source": [
    "There are several possibilities to normalize text - one idea could be, using the spacy-package, to lemmatize the places - the problem here although is that spacy splits words that belong together - as names - and the results of lemmatization themselves do not look too good (\"Stallunge\")"
   ]
  },
  {
   "cell_type": "code",
   "execution_count": 1,
   "metadata": {},
   "outputs": [],
   "source": [
    "#import spacy\n",
    "#nlp = spacy.load(\"de_core_news_sm\")"
   ]
  },
  {
   "cell_type": "code",
   "execution_count": 16,
   "metadata": {},
   "outputs": [],
   "source": [
    "#places_text = ' '.join(clean_places)\n",
    "#nlp_places = nlp(places_text)"
   ]
  },
  {
   "cell_type": "code",
   "execution_count": 17,
   "metadata": {},
   "outputs": [
    {
     "name": "stdout",
     "output_type": "stream",
     "text": [
      "['k.', 'k.', 'Burg', 'Burgplatz', 'Burgthor', 'kaiserlichen', 'Stallunge', 'Gebäude', 'der', 'ungarisch', 'Garde', 'Palais', 'der', 'Fürst', 'Auersperg', 'Gebäude', 'der', 'Geographische', '--', 'Militär=)Jnstituts', 'KriminalGebäude', 'Kahlengebirge', 'Mariahilfer', 'Hauptstraße', 'Schönbrunn', 'Grenadierkaserne', 'Getreidemarkt', 'artesisch', 'Brunnen', 'Akazie', '=', 'Alleen', 'Wien', 'Kettenstege', 'der', 'steinern', 'Brücke', 'Polytechnische', 'Jnstitut', 'karlskirch', 'Burg', 'RitterCeremoniensaal', 'Appartement', ' ', 'Sr', 'Majestät', 'der', 'Kaiser', 'Rittersaal', 'AntikenMineralienkabinet', 'astronomisch', 'Thurm', 'Burg', 'Hofbibliothek', '=', 'GebäudesJosephsplatze', 'Palais', 'der', 'Erzherzog', 'Karl', 'Burgplatze', 'Volksgarten', 'Burggarten', 'Burggarten', 'Gewächshäuser', 'Wall', 'Palais', 'der', 'Erzherzog', 'Karl', 'Spitalplatze', 'Hofbauamen', 'Kärnthnerthor', '=', 'Theater', 'Wall', 'Kärnthnerthore', 'Kärnthnerstraße', 'Wiede', 'Baden', 'Starhembergische', ' ', 'Freihaus', 'Polytechnische', 'Jnstitut', 'karlskirch', 'Starhembergische', 'Frelhaus', 'WienerwaldesSchneeberg', 'Karlskirch', 'Sommerpalais', 'der', 'Fürst', ' ', 'Schwarzenberg', 'Belvedere', 'Bahnhofe', 'Belvedere', 'Kirche', 'und', 'Kloster', 'derSalesianerinne', 'Schwarzenbergischen', 'Palai', 'Kaserne', 'Palais', 'Stadtgraben', 'Palais', 'Kolowrat', 'Artillerie', '=', 'Haupt', '=', 'Zeugamt', 'Karolinenthor', 'stadtgraben', 'seilerstätt', 'Weihburggas', 'Mineralwäss', '=', 'Trinkkur', '=', 'Anstalt', 'Rennweg', 'Palais', 'desHerzogs', 'von', 'Koburg', 'orientalisch', 'Akademie', 'Stubenthor', 'Wollzeile', 'groß', 'Steinbrücke', 'Wien', 'sein', 'Wien', '=', 'Donau', '--', 'Landstraße', 'Vorstadt', '=', 'Bezirk', 'zu', 'Linie', '--', 'Barriere', '--', 'von', 'St.', 'Marx', 'Ungarn', 'Münzgebäude', 'Neustädter', ' ', 'Kanal', 'Stückbohrere', 'i', 'Jnvalidenhaus', 'Kanalbassin', 'Stubenthore', 'Kloster', 'und', 'Kirche', 'der', 'Dominikaner', 'Ravelin', 'Hauptmauth', 'Fahrpost', 'Hauptmauth', 'Glacis', 'Zollamt', 'Ravelin', 'Donaukanal', 'Kahlengebirge', 'Prater', 'Leopoldstadt', 'Ferdinandsbrücke', 'Rothenthurm', '=', 'Thore', 'Taborstraße', 'Tabor', 'Mähr', 'Böhmen', 'Jägerzeile', 'Donau', 'Kornspeicher', 'Franzensbrücke', '--', 'Bastei', 'unter', 'der', ' ', 'Weißgärbern', 'Erdberg', 'Rothenthurmthore', 'Laurenzer', '=', 'Gasse', 'Laurenzerhof', 'Staat', '=', 'Buchhaltungen', 'Müllerische', 'Palais', 'Leopoldstadt', 'Dianabad', 'Karls', '=', 'Kettenbrücke', 'Schanzl', 'Fischmarkt', 'St.', 'Ruprechtstiege', 'Ravelin', 'Fischerthore', 'Salzgries', 'Polizeihaus', 'Grenadierkaserne', 'Stabsstockhaus', 'Elendbastei', 'Observatorium', 'Thore', 'Glacis', 'ein', 'Glacis', 'sein', 'ein', 'Art', 'Erdwall', '--', ' ', 'Augartenbrück', 'Leopoldstadt', 'Augarten', 'Brigittenau', 'Roßau', 'Lichtenthal', 'Servitenkirche', 'Döbling', 'Kahlengebirge', 'Leopoldsberg', 'Herzogsburg', 'der', 'Babenberge', 'Kahlenberg', 'Josephsberg', 'Bastei', 'Arsenales', 'Proviantbäckerei', 'Schottenthore', 'Schottengas', 'Freiung', 'Herrngasse', 'Währingergasse', 'Gewehrfabrik', 'Döbling', 'GarnisonsBettmagazin', 'fürstlich', 'Esterhazische', 'sogenannter', ' ', 'rothe', 'Haus', 'Jnfanterie', '=', 'Kaserne', 'Alsergasse', 'Dornbach', 'Kriminale', 'Ravelin', ' ', 'Mölkerbastei', 'Teinfaltstraße', 'Palais', 'Lubomirski', 'Franzensthor', 'Josephstadt', 'geographisch', 'Jnstitut', 'Kaisergasse', 'Josephstädter', 'Theater', 'Kavallerie', '=', 'Kaserne', 'Lerchenfeld', 'Löwelbastei', 'Paradies', '=', 'Gärtchen', 'Cortis', '=', 'Kaffehhause', 'Volksgarten', 'Schenkenstraße', 'Palais', 'Liechtenstein', 'Staat', '=', 'Kanzlei', 'Ballplatz', 'Bellaria', 'Burgplatze', 'Volksgarten', 'zweiter', 'Kaffehaus', 'von', 'Corti', 'Volksgarten', 'Theseustempel', 'Hof', '=', 'Burgwache', 'Schweizerhof', 'Kunstverein']\n"
     ]
    }
   ],
   "source": [
    "#lemma_list = []\n",
    "#for word in nlp_places: \n",
    "    #lemma = word.lemma_\n",
    "    #lemma_list.append(lemma)    \n",
    "#print(lemma_list)"
   ]
  },
  {
   "cell_type": "code",
   "execution_count": 41,
   "metadata": {},
   "outputs": [
    {
     "name": "stdout",
     "output_type": "stream",
     "text": [
      "200\n",
      "177\n"
     ]
    }
   ],
   "source": [
    "print(len(clean_places))\n",
    "print(len(set(clean_places)))"
   ]
  },
  {
   "cell_type": "markdown",
   "metadata": {},
   "source": [
    "Another Option would be fuzzy string matching "
   ]
  },
  {
   "cell_type": "code",
   "execution_count": 42,
   "metadata": {},
   "outputs": [],
   "source": [
    "import difflib as dl"
   ]
  },
  {
   "cell_type": "code",
   "execution_count": 53,
   "metadata": {},
   "outputs": [],
   "source": [
    "Similiar_words = []\n",
    "for word in clean_places:\n",
    "    close_words = [dl.get_close_matches(word, clean_places, cutoff= 0.9)]\n",
    "    Similiar_words.append(close_words)"
   ]
  },
  {
   "cell_type": "code",
   "execution_count": 67,
   "metadata": {},
   "outputs": [],
   "source": [
    "place_list = []\n",
    "for sublist in Similiar_words:\n",
    "    sublist = sorted(sublist)\n",
    "    place = sublist[0]\n",
    "    place_list.append(place)"
   ]
  },
  {
   "cell_type": "code",
   "execution_count": 69,
   "metadata": {},
   "outputs": [
    {
     "name": "stdout",
     "output_type": "stream",
     "text": [
      "200\n",
      "['k. k. Burg', 'Burgplatz', 'Burgthor', 'kaiserlichen Stallungen', 'Gebäude der ungarischen Garde', 'Palais des  Fürsten Auersperg', 'Gebäude des  Geographischen (Militär=)Jnstituts', 'KriminalGebäude', 'Kahlengebirge', 'Mariahilfer Hauptstraße', 'Schönbrunn', 'Grenadierkaserne', 'Getreidemarkt', 'artesischen Brunnen', 'Akazien=Alleen', 'Wien', 'Kettenstege', 'der steinernen Brücke', 'Polytechnische Jnstitut', 'Karlskirche', 'Burg', 'RitterCeremoniensaal', 'Appartements ', 'Sr Majestät des Kaisers', 'Rittersaal', 'AntikenMineralienkabinet', 'astronomische Thurm', 'Burg', 'Hofbibliothek=Gebäudes Josephsplatze', 'Palais des  Erzherzogs Karl', 'Burgplatz', 'Volksgarten', 'Burggarten', 'Burggarten', 'Gewächshäuser', 'Wall', 'Palais des  Erzherzogs Karl', 'Spitalplatze', 'Hofbauamte', 'Kärnthnerthor=Theater', 'Wall', 'Kärnthnerthore', 'Kärnthnerstraße', 'Wieden', 'Baden', 'Starhembergische ', 'Freihaus', 'Polytechnische Jnstitut', 'Karlskirche', 'Starhembergische Frelhaus', 'Wienerwaldes Schneeberg', 'Karlskirche', 'Sommerpalais des  Fürsten ', 'Schwarzenberg', 'Belvedere', 'Bahnhofe', 'Belvedere', 'Kirche und Kloster der Salesianerinnen', 'Schwarzenbergischen Palais', 'Kaserne', 'Palais', 'Stadtgraben', 'Palais Kolowrat', 'Artillerie=Haupt=Zeugamt', 'Karolinenthor', 'Stadtgraben', 'Seilerstätte', 'Weihburggasse', 'Mineralwässer=Trinkkur=Anstalt', 'Rennweg', 'Palais des Herzogs von Koburg', 'orientalische Akademie', 'Stubenthor', 'Wollzeile', 'große', 'Steinbrücke', 'Wien', 'ist Wien = Donau?', 'Landstraße', 'Vorstadt = Bezirk', 'zur Linie (Barriere) von St.', 'Marx', 'Ungarn', 'Münzgebäude', 'Neustädter ', 'Kanal', 'Stückbohrere', 'i', 'Jnvalidenhaus', 'Kanalbassin', 'Stubenthor', 'Kloster und Kirche', 'der  Dominikaner', 'Ravelin', 'Hauptmauth', 'Fahrpost', 'Hauptmauth', 'Glacis', 'Zollamt', 'Ravelin', 'Donaukanal', 'Kahlengebirge', 'Praters', 'Leopoldstadt', 'Ferdinandsbrücke', 'Rothenthurm=Thore', 'Taborstraße', 'Tabor', 'Mähren', 'Böhmen', 'Jägerzeile', 'Donau', 'Kornspeicher', 'Franzensbrücke', '.', 'Bastei', 'unter den ', 'Weißgärbern', 'Erdberg', 'Rothenthurm=Thore', 'Laurenzer=Gasse', 'Laurenzerhof', 'Staats=Buchhaltungen', 'Müllerische Palais', 'Leopoldstadt', 'Dianabad', 'Karls=Kettenbrücke', 'Schanzl', 'Fischmarkt', 'St. Ruprechtstiege', 'Ravelin', 'Fischerthore', 'Salzgries', 'Polizeihaus', 'Grenadierkaserne', 'Stabsstockhaus', 'Elendbastei', 'Observatorium', 'Thore', 'Glacis', 'Ein Glacis ist eine Art Erdwall. ', 'Augartenbrücke', 'Leopoldstadt', 'Augartens', 'Brigittenau', 'Roßau', 'Lichtenthal', 'Servitenkirche', 'Döbling', 'Kahlengebirge', 'Leopoldsberg', 'Herzogsburg der Babenberge', 'Kahlenberg', 'Josephsberg', 'Bastei', 'Arsenales', 'Proviantbäckerei', 'Schottenthore', 'Schottengasse', 'Freiung', 'Herrngasse', 'Währingergasse', 'Gewehrfabrik', 'Döbling', 'GarnisonsBettmagazin', 'fürstlich', 'Esterhazische sogenannte ', 'rothe Haus', 'Jnfanterie=Kaserne', 'Alsergasse', 'Dornbach', 'Kriminale', 'Ravelin', 'Mölkerbastei', 'Teinfaltstraße', 'Palais Lubomirski', 'Franzensthor', 'Josephstadt', 'geographische Jnstitut', 'Kaisergasse', 'Josephstädter Theater', 'Kavallerie=Kaserne', 'Lerchenfeld', 'Löwelbastei', 'Paradies=Gärtchen', 'Cortis=Kaffehhause', 'Volksgarten', 'Schenkenstraße', 'Palais Liechtenstein', 'Staats=Kanzlei', 'Ballplatz', 'Bellaria', 'Burgplatz', 'Volksgarten', 'zweites Kaffehaus von Corti', 'Volksgarten', 'Theseustempel', 'Hof=Burgwache', 'Schweizerhof', 'Kunstvereine']\n"
     ]
    }
   ],
   "source": [
    "print(len(place_list))\n",
    "print(place_list)"
   ]
  },
  {
   "cell_type": "markdown",
   "metadata": {},
   "source": [
    "Now, there's only one 'Schreibweise' for each place."
   ]
  }
 ],
 "metadata": {
  "kernelspec": {
   "display_name": "Python 3",
   "language": "python",
   "name": "python3"
  },
  "language_info": {
   "codemirror_mode": {
    "name": "ipython",
    "version": 3
   },
   "file_extension": ".py",
   "mimetype": "text/x-python",
   "name": "python",
   "nbconvert_exporter": "python",
   "pygments_lexer": "ipython3",
   "version": "3.12.0"
  }
 },
 "nbformat": 4,
 "nbformat_minor": 2
}
