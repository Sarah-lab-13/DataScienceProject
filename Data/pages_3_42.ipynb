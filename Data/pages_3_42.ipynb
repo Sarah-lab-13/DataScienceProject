{
 "cells": [
  {
   "cell_type": "code",
   "execution_count": 1,
   "metadata": {},
   "outputs": [],
   "source": [
    "import re\n",
    "import pandas as pd\n",
    "\n",
    "\n",
    "with open(r'C:\\Users\\sarah\\Desktop\\git_folder\\DataScienceProject\\Data\\pages\\pages_3_42.txt') as file:\n",
    "    contents = file.read()"
   ]
  },
  {
   "cell_type": "code",
   "execution_count": 2,
   "metadata": {},
   "outputs": [
    {
     "name": "stdout",
     "output_type": "stream",
     "text": [
      "I. Wegweiser. Orientirung in Wien. Rundgang um die Bastei. Wenn es für jeden Reisenden unerläßlich i\n"
     ]
    }
   ],
   "source": [
    "print(contents[:100])"
   ]
  },
  {
   "cell_type": "code",
   "execution_count": 3,
   "metadata": {},
   "outputs": [
    {
     "name": "stdout",
     "output_type": "stream",
     "text": [
      "27575 Mittwoch\n",
      "45140 Mittwoch\n",
      "46085 Mittwoch\n"
     ]
    }
   ],
   "source": [
    "m = re.compile(\"Mittwoch\")\n",
    "for day in m.finditer(contents):\n",
    "    print(day.start(), day.group())"
   ]
  },
  {
   "cell_type": "markdown",
   "metadata": {},
   "source": [
    "Will den Text bei MOntag, Dinstag, Mittwoch... trennen, das Problem ist aber, dass die Formatierungsdaten hier fehlen -> am einfachsten wäre, bei Zeilenumbruch + 'Tag-Regex' zu trennen, das hat allerdings Transkribus so nicht erkannt"
   ]
  },
  {
   "cell_type": "markdown",
   "metadata": {},
   "source": [
    "Vielleicht funktionierts mit XML?? "
   ]
  },
  {
   "cell_type": "code",
   "execution_count": 4,
   "metadata": {},
   "outputs": [
    {
     "name": "stderr",
     "output_type": "stream",
     "text": [
      "<>:1: SyntaxWarning: invalid escape sequence '\\w'\n",
      "<>:1: SyntaxWarning: invalid escape sequence '\\w'\n",
      "C:\\Users\\sarah\\AppData\\Local\\Temp\\ipykernel_13748\\2490891257.py:1: SyntaxWarning: invalid escape sequence '\\w'\n",
      "  re.findall('\\w(tng)', contents)\n"
     ]
    },
    {
     "data": {
      "text/plain": [
       "['tng', 'tng', 'tng']"
      ]
     },
     "execution_count": 4,
     "metadata": {},
     "output_type": "execute_result"
    }
   ],
   "source": [
    "re.findall('\\w(tng)', contents)"
   ]
  },
  {
   "cell_type": "code",
   "execution_count": 7,
   "metadata": {},
   "outputs": [],
   "source": [
    "import xml.etree.ElementTree as ET"
   ]
  },
  {
   "cell_type": "code",
   "execution_count": 8,
   "metadata": {},
   "outputs": [],
   "source": [
    "with open(r'C:\\Users\\sarah\\Desktop\\git_folder\\DataScienceProject\\Data\\pages\\pages_1_42_xml.xml') as file:\n",
    "    tree = ET.parse(file)"
   ]
  },
  {
   "cell_type": "code",
   "execution_count": 9,
   "metadata": {},
   "outputs": [
    {
     "name": "stdout",
     "output_type": "stream",
     "text": [
      "{http://www.tei-c.org/ns/1.0}teiHeader\n",
      "{http://www.tei-c.org/ns/1.0}facsimile\n",
      "{http://www.tei-c.org/ns/1.0}text\n"
     ]
    }
   ],
   "source": [
    "root = tree.getroot()\n",
    "for child in root:\n",
    "    print(child.tag)\n",
    "    "
   ]
  }
 ],
 "metadata": {
  "kernelspec": {
   "display_name": "Python 3",
   "language": "python",
   "name": "python3"
  },
  "language_info": {
   "codemirror_mode": {
    "name": "ipython",
    "version": 3
   },
   "file_extension": ".py",
   "mimetype": "text/x-python",
   "name": "python",
   "nbconvert_exporter": "python",
   "pygments_lexer": "ipython3",
   "version": "3.12.0"
  }
 },
 "nbformat": 4,
 "nbformat_minor": 2
}
