{
  "cells": [
    {
      "cell_type": "markdown",
      "metadata": {
        "id": "wgLsPgmYXgdf"
      },
      "source": [
        "# **Example: Named Entity Recognition within early modern arrival lists with GPT-3.5**"
      ]
    },
    {
      "cell_type": "code",
      "execution_count": null,
      "metadata": {
        "id": "4HhNZ9PRTgxM"
      },
      "outputs": [],
      "source": [
        "#Installing and importing necessary libraries\n",
        "\n",
        "!pip3 install git+https://github.com/promptslab/Promptify.git\n",
        "from promptify import Prompter, OpenAI, Pipeline\n",
        "import os"
      ]
    },
    {
      "cell_type": "code",
      "execution_count": null,
      "metadata": {
        "id": "e8Ksm-4clQAn"
      },
      "outputs": [],
      "source": [
        "#Defining function for NER\n",
        "\n",
        "def ner(text):\n",
        "    result = pipe.fit(text,\n",
        "                      domain = None,\n",
        "                      examples = one_shot,\n",
        "                      labels = [\"Person\", \"Stadttor\", \"Datum\", \"Herkunftsort\", \"Unterkunftsort\", \"Zielort\"])\n",
        "    return result[0][\"parsed\"][\"data\"][\"completion\"][0]"
      ]
    },
    {
      "cell_type": "code",
      "execution_count": null,
      "metadata": {
        "id": "Q1VTSg8XUATO"
      },
      "outputs": [],
      "source": [
        "#Defining the API key for the OpenAI model and creating an instance of the OpenAI model\n",
        "\n",
        "model = OpenAI(\"api-key\") #Add API key here (default model in Promptify: \"gpt-3.5-turbo\")\n",
        "prompter = Prompter('ner_adapted.jinja') #Template (\"ner_adapted.jinja\") must be stored in same folder as notebook\n",
        "pipe = Pipeline(prompter, model)"
      ]
    },
    {
      "cell_type": "code",
      "execution_count": null,
      "metadata": {
        "id": "6m1uW4aMbuTO"
      },
      "outputs": [],
      "source": [
        "#Defining the annotated example text\n",
        "\n",
        "one_shot_text = \"Ankunfft aller Hoch- und nidrigen Stands Persohnen. Den 25. May. Rothen-Thurn. Herr Graff Rechtern Almelo / Holländis. Gesandter / kombt von Regenspurg / logirt im Sintzendorffis. Garten. Den 26. dito. Herr Obrist Baron Hauben / kombt von Prag / logirt beym Herrn Baron Greiff. Stuben-Thor. Herr Eberhard Ubermüller von Hemmengen / Hauptman vom Neuburgis. Regiment / kombt auß Ungarn / logirt im Jägerhorn. Cärntner-Thor. Herr General Adjutant vom Cusanis. Regiment / kombt auß Ungarn / logirt im Matschackerhoff. Den 27. dito. Cärntner-Thor. Herr Obrist-Wachtmeister Baron Decano vom Toletischen Regiment / kombt von Presburg / logirt im Rosenbergis. Hauß. Herr Obrist-Wachtmeister Wagner / vom Hannoveris. Regiment / kombt von Kützsee / logirt im Matschackerhoff. Stuben-Thor. Herr Obrist-Lieutenant Rothenhan / und Herr Rittmeister Weyß / beede vom Hohenzollneris. Regiment / kommen von Presburg / logiren in der guldenen Aenten. (Tit.) Hr. Baron Dalbon komt von Turin / gehet zum Printz von Modena. Cärnter-Thor den 24. Sept. Herr Graf Spauer / komt auß Tyrol / log. im gullen Hirschen.\"\n",
        "\n",
        "one_shot = [[one_shot_text, [{'E': '25. May', 'T': 'Datum', 'S': 56, \"En\": 63},\n",
        "                        {'E': 'Rothen-Thurn', 'T': 'Stadttor', 'S': 65, \"En\": 77},\n",
        "                        {'E': 'Herr Graff Rechtern Almelo / Holländis. Gesandter', 'T': 'Person', 'S': 79, \"En\": 128},\n",
        "                        {'E': 'Regenspurg', 'T': 'Herkunftsort', 'S': 141, \"En\": 151},\n",
        "                        {'E': 'Sintzendorffis. Garten', 'T': 'Unterkunftsort', 'S': 164, \"En\": 186},\n",
        "                        {'E': '26. dito', 'T': 'Datum', 'S': 192, \"En\": 200},\n",
        "                        {'E': 'Herr Obrist Baron Hauben', 'T': 'Person', 'S': 202, \"En\": 226},\n",
        "                        {'E': 'Prag', 'T': 'Herkunftsort', 'S': 239, \"En\": 243},\n",
        "                        {'E': 'Herrn Baron Greiff', 'T': 'Unterkunftsort', 'S': 258, \"En\": 276},\n",
        "                        {'E': 'Stuben-Thor', 'T': 'Stadttor', 'S': 278, \"En\": 289},\n",
        "                        {'E': 'Herr Eberhard Ubermüller von Hemmengen / Hauptman vom Neuburgis. Regiment', 'T': 'Person', 'S': 291, \"En\": 364},\n",
        "                        {'E': 'Ungarn', 'T': 'Herkunftsort', 'S': 377, \"En\": 383},\n",
        "                        {'E': 'Jägerhorn', 'T': 'Unterkunftsort', 'S': 396, \"En\": 405},\n",
        "                        {'E': 'Cärntner-Thor', 'T': 'Stadttor', 'S': 407, \"En\": 420},\n",
        "                        {'E': 'Herr General Adjutant vom Cusanis. Regiment', 'T': 'Person', 'S': 422, \"En\": 465},\n",
        "                        {'E': 'Ungarn', 'T': 'Herkunftsort', 'S': 478, \"En\": 484},\n",
        "                        {'E': 'Matschackerhoff', 'T': 'Unterkunftsort', 'S': 497, \"En\": 512},\n",
        "                        {'E': '27. dito', 'T': 'Datum', 'S': 518, \"En\": 526},\n",
        "                        {'E': 'Cärntner-Thor', 'T': 'Stadttor', 'S': 528, \"En\": 541},\n",
        "                        {'E': 'Herr Obrist-Wachtmeister Baron Decano vom Toletischen Regiment', 'T': 'Person', 'S': 543, \"En\": 605},\n",
        "                        {'E': 'Presburg', 'T': 'Herkunftsort', 'S': 618, \"En\": 626},\n",
        "                        {'E': 'Rosenbergis. Hauß', 'T': 'Unterkunftsort', 'S': 639, \"En\": 656},\n",
        "                        {'E': 'Herr Obrist-Wachtmeister Wagner / vom Hannoveris. Regiment', 'T': 'Person', 'S': 658, \"En\": 716},\n",
        "                        {'E': 'Kützsee', 'T': 'Herkunftsort', 'S': 729, \"En\": 736},\n",
        "                        {'E': 'Matschackerhoff', 'T': 'Unterkunftsort', 'S': 749, \"En\": 764},\n",
        "                        {'E': 'Stuben-Thor', 'T': 'Stadttor', 'S': 766, \"En\": 777},\n",
        "                        {'E': 'Herr Obrist-Lieutenant Rothenhan / und Herr Rittmeister Weyß / beede vom Hohenzollneris. Regiment', 'T': 'Person', 'S': 779, \"En\": 876},\n",
        "                        {'E': 'Presburg', 'T': 'Herkunftsort', 'S': 890, \"En\": 898},\n",
        "                        {'E': 'guldenen Aenten', 'T': 'Unterkunftsort', 'S': 916, \"En\": 931},\n",
        "                        {'E': '(Tit.) Hr. Baron Dalbon', 'T': 'Person', 'S': 933, \"En\": 956},\n",
        "                        {'E': 'Turin', 'T': 'Herkunftsort', 'S': 966, \"En\": 971},\n",
        "                        {'E': 'Printz von Modena', 'T': 'Zielort', 'S': 984, \"En\": 1001},\n",
        "                        {'E': 'Cärnter-Thor', 'T': 'Stadttor', 'S': 1003, \"En\": 1015},\n",
        "                        {'E': '24. Sept.', 'T': 'Datum', 'S': 1020, \"En\": 1029},\n",
        "                        {'E': 'Herr Graf Spauer', 'T': 'Person', 'S': 1030, \"En\": 1046},\n",
        "                        {'E': 'Tyrol', 'T': 'Herkunftsort', 'S': 1058, 'En': 1063},\n",
        "                        {'E': 'gullen Hirschen', 'T': 'Unterkunftsort', 'S': 1074, 'En': 1089}\n",
        "                        ]]]"
      ]
    },
    {
      "cell_type": "code",
      "execution_count": null,
      "metadata": {
        "id": "ijyUtJ3scapq"
      },
      "outputs": [],
      "source": [
        "#Importing exemplary arrival lists\n",
        "\n",
        "folder_path = \"folder-path\" #Set to folder containing the text files\n",
        "\n",
        "texts = {}\n",
        "\n",
        "for file_name in os.listdir(folder_path):\n",
        "    if file_name.endswith('.txt'):\n",
        "        file_path = os.path.join(folder_path, file_name)\n",
        "        with open(file_path, 'r', encoding='utf-8') as file:\n",
        "            content = file.read()\n",
        "        key = os.path.splitext(file_name)[0].replace('_cleaned', '')\n",
        "        texts[key] = content\n",
        "\n",
        "print(\"Exemplary issues:\", ', '.join(sorted(texts.keys())))"
      ]
    },
    {
      "cell_type": "code",
      "execution_count": null,
      "metadata": {
        "id": "gjMkd8E0ODdH"
      },
      "outputs": [],
      "source": [
        "#Defining input text\n",
        "\n",
        "text = texts[\"1712-09-28\"]\n",
        "print(text)"
      ]
    },
    {
      "cell_type": "code",
      "execution_count": null,
      "metadata": {
        "id": "8FvHKqzhkSjy"
      },
      "outputs": [],
      "source": [
        "#Calling API\n",
        "\n",
        "result = ner(text)"
      ]
    },
    {
      "cell_type": "code",
      "execution_count": null,
      "metadata": {
        "id": "FOsx3k0_gsGW"
      },
      "outputs": [],
      "source": [
        "#Printing results\n",
        "\n",
        "for entity in result:\n",
        "  print(entity)"
      ]
    }
  ],
  "metadata": {
    "colab": {
      "provenance": []
    },
    "gpuClass": "standard",
    "kernelspec": {
      "display_name": "Python 3",
      "name": "python3"
    },
    "language_info": {
      "name": "python"
    }
  },
  "nbformat": 4,
  "nbformat_minor": 0
}
