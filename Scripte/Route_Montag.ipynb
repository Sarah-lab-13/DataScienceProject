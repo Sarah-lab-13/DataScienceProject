{
 "cells": [
  {
   "cell_type": "markdown",
   "metadata": {},
   "source": [
    "## Route Montag"
   ]
  },
  {
   "cell_type": "code",
   "execution_count": 1,
   "metadata": {},
   "outputs": [],
   "source": [
    "from os import path\n",
    "xml_path = path.relpath(\"../Data/pages_8_47.xml\")\n",
    "\n",
    "from bs4 import BeautifulSoup   \n",
    "with open(xml_path, encoding='utf8') as file:   \n",
    "    contents = file.read()\n",
    "    soup = BeautifulSoup(contents, 'xml')"
   ]
  },
  {
   "cell_type": "code",
   "execution_count": 11,
   "metadata": {},
   "outputs": [],
   "source": [
    "import re\n",
    "\n",
    "start_tag = 'hi'   \n",
    "start_string = 'Montag.'    \n",
    "end_tag = 'hi'     \n",
    "end_string = 'Dinstag.'     \n",
    "place_tag = 'placeName'     \n",
    "should_start_parsing = False   "
   ]
  },
  {
   "cell_type": "code",
   "execution_count": 12,
   "metadata": {},
   "outputs": [],
   "source": [
    "Montag = []        #here, the whole sunday text will be placed - in case we need it later on\n",
    "Places = []     #here, the places for our route will be stored\n",
    "for line in soup.find_all('l'):\n",
    "    if line.string == start_string and line.string.parent.name == start_tag:\n",
    "        should_start_parsing = True  \n",
    "\n",
    "    if should_start_parsing:\n",
    "        text = line.get_text()\n",
    "        Montag.append(text)\n",
    "        for child in line.descendants:\n",
    "            if child.name == place_tag:\n",
    "                for text in child.strings:\n",
    "                    #hier gibts Verbesserungsbedarf! -> Ziel ist, das die strings von placeTags, die durch andere Tags unterbrochen werden, \n",
    "                    #z.B- <placeName> Schloss <persName> Esterhazy </persName> </placeName>\n",
    "                    #nicht als getrennte, sondern ein string gespeichert werden. \n",
    "                    Places.append(text)          \n",
    "\n",
    "    if line.string == end_string and line.string.parent.name == end_tag:\n",
    "        should_start_parsing = False  \n",
    "        break"
   ]
  },
  {
   "cell_type": "code",
   "execution_count": 13,
   "metadata": {},
   "outputs": [
    {
     "name": "stdout",
     "output_type": "stream",
     "text": [
      "['kaiserlichen', 'Zeughauses', 'Renngasse Nr. 140', 'Renngasse', 'hohe Brücke', 'tiefen Graben', 'Schwert=', 'gasse', 'Maria Stiegen', 'Salzgries', 'Maria am Gestade', 'Stoß im Himmel', 'Wipplingerstraße', 'Rathhaus', 'Hofkanzlei', 'Quergasse', 'Judenplatz', 'den Hof.', 'Kirche zu den ', '7 Chören der Engel', 'bürgerliche Zeughaus', 'Bognergasse', 'Seitzerhof', 'Spenglergasse', 'Milchgäßchen', 'Petersplatz', 'Peterskirche', 'Polizei=', 'Oberdirektion', 'Feuerwache', 'Goldschmiedgasse', 'Stephansplatz', 'Gerolds', ' Buchhandlung', 'Stephansdom', 'Stephansplatze', 'Bischofgasse', 'Wollzeile', 'Schranders ', 'Kleidermagazin', 'Brief=', 'Post', 'Schaumburgs eleganter Bücher=', 'laden', 'Essiggäßchen', 'Bäckerstraße', 'Universitätsplatz', 'Universitäts=Gebäude', 'Sternwarte', 'Konvikt', 'Uni=', 'versitätshaus', 'Schulgasse', 'Dominkanerplatz', 'Universitätsbibllothek', 'Fahrpost', 'grie=', 'chische Kirche', 'Hauptmauth', 'Hôtel zur Stadt London', 'Klosternenburg', 'Sommer=', 'palais', 'Garten des ', 'Fürsten ', 'Liechtenstein', 'Rossau', 'Nußdorf', 'k. k. Fabriken', 'Kirchlehners', ' Gemälde=', 'sammlung', 'großen Kaffeehauses an', 'dem Donaustrome', 'Klosterneuburg', 'Kahlenberg', 'Döbling', 'Grinzing', 'Kahlenberge', '(ehma=', 'lige Kamaldulenser=) Kirche', 'Leopoldsberge', 'Herzogsburg der ', 'Babenberge', 'Theil des Erzherzogthums', ' von Unter=', 'österreich', 'kleinen Karpathen', 'Schneeberge', 'Kahlenberg', 'Kahlenbergerdörfel', 'Nußdorf', 'Heiligenstadt', 'Döbling', 'Tul=', 'nerhof', 'Währingergasse', 'Palais Dietrichstein', 'Josephinum', 'Waisenhaus', 'Kärnthnerthore', 'große Wienbrücke', 'Karlskirche', 'Martinolli', 'Palais ', 'Schwarzen=', 'berg', 'Heugasse', 'Belvedere', 'k. k. Gemäldegallerie', 'Gar=', 'ten für die österreichische Flora', 'Ambraser Sammlung', 'Kabinet äghptischer Alterthümer', 'unteren Belvedere', 'Haupt=', 'straße der Vorstadt ', 'Rennweg', 'Kirche und Kloster der ', 'Salesianerinnen', 'Mi=', 'Iitär=Medikamenten=Regie', 'botanischen Garten.', 'ViIIa Metternich', 'Neustädter Kanal', 'Palais der italienischen Garde', 'Haltergasse', 'Versuchsgarten den Landwirthschaftsgesellschaft', 'Garten der Gartenbaugesellschaft', 'Kanal', 'Thierarznei=Jnstitut', 'Kanonenbohrerei', 'Münzhaus', 'Jnvalidenhause', 'Wienbrücke', 'tu=', 'benthor ', 'Stadt London', 'Hauptmauth', 'goldene', 'Ente', 'König von Ungarn', 'Schulenstraße', 'Herrnals', 'Türkenschanze', 'Dornbach', 'Parke des ', 'Fürsten Schwarzenberg', 'Hameau', 'Briel', 'Baden', 'Laxenburg', 'Stephansplatze', 'Baden', 'Spinnerin', 'am Kreuz', 'Hetzendorf', 'Abgersdorf', 'Bertholds=', 'dorf', 'Brunn', 'Enzersdorf am Gebirge', 'Mödling', 'Liechtenstein', 'rechnologische Museum', 'Mineralienkabinet', 'Som=', 'merschloß', 'Liechtenstein', 'Briel', 'Klause', 'zu den', 'drei Raben', 'Felsenberg', 'Babenbergischen', ' Burg ', 'Medling', 'Hu=', 'sarentempel', 'Felsenthal', 'Möd=', 'ling', 'zum Bahn=', 'hofe', 'Baden', 'Tunnel', 'Elch=', 'kogel', 'Thalern', 'Gumpolds=', 'kirchen', 'Stationsplatze', 'Baden', 'Schwan', 'Redonte', 'Hirsch', 'Löwe', 'Sauer=', 'hof', ' Karolinenbad', 'Sauerhofe', 'Helenathal', 'Ruinen ', 'Rauhenstein', 'Rauheneck', 'Schar=', 'feneck', 'Urthels=', 'steine', 'Weilburg', 'Villa des ', 'Erzherzogs Karl', 'Wien', 'Mödling', 'Baden', 'Helenathal', 'Wien', 'Heiligen=Kreuz', 'Mödling', 'schwarzen Thurm', 'Liechtenstein', 'Ra=', 'benwirthshause', 'Gaden', 'Heiligen=Kreuz', 'Krainerhütten', 'Helenenthal', 'Weilburg', 'Baden', 'Laxenburg', 'Mödling', 'Laxenburg', 'Stationshof in Möd=', 'ling', 'Mödling', 'Rabenwirths=', 'hause.', ' Liech=', 'tenstein', ' Briel', 'Mödling', 'Laxenburg', 'Franzensburg ', 'Mödlinger', 'Bahnhofe', 'Baden', 'Baden', 'Helenenthal ', 'kaiserlichen Burg', 'kaiserlichen Gruft', 'Kapuzinerkirche am Neumarkt', 'Klo=', 'stergasse', 'Spitalplatz', 'Bürgerspital', 'Palais Lobkowitz', 'Augustinerkirche', ' Zanner', 'Josephsplatz', 'Reiter=', 'Statue ', 'Josephs des II', '.', 'Hofbibliothek', 'Redoutensäle', 'naturhistorischen Museen', 'kaiserliche Reitschule', 'Michaelerplatze', 'Naturalienmuseum', 'Naturalienkabinette', 'Josephplatzes', 'Hofbibliothek', 'Augustinergang', 'Antiken=', 'Kabinet', 'Mi=', 'neralien=Kabinet', 'Palais des ', 'Erz=', 'herzogs Karl', 'Privat=Bibliothek und Kupferstich=Sammlung', 'Blinden=Jnstitut', 'Casino', 'Schwan', 'neuen Markt', 'Stadt Frank=', 'furt', 'Matschakerhof', 'Spiegelgasse ', 'Schönbrunn', 'Hietzing', 'Mariahilf', 'Palais Esterhazy', 'Fünfhaus', 'Braunhirschen', 'Rustendorf', 'Schönbrunn', 'Orangerie', 'Tirolerhaus', 'Menagerie', 'Pflanzengarten', 'Hietzing', 'Villa', 'Hügel', 'Dommayers Casino', 'Penzing', 'deutsche Ordenskirche', 'Singerstraße', '„deutschen Hause', 'Stephansplatz', 'Graben', 'untere Breunerstraße', 'Josephsplatz', 'Hof=Wagen=Remisen', 'Hofbibliothek', 'kaiserlichen Appartements', 'Reichskanzlei', 'Schweizerhofe', 'Burgplatz', 'Burgkapelle', 'Schweizerhofe', 'Schatzkammer', 'Jo=', 'sephsplatz', 'Redou=', 'tenstiege', 'Augustinergang', 'Antikenkabinet', 'kais. Mineralienkabinet', 'Erzherzog Karl', 'wilder Mann', 'Kärnthnerstraße', 'Laxenburg', 'Poststraße', 'Laxenburg', 'Lusthaus', 'Rittergruft', 'Meierei', 'Rittersäule', 'Franzensburg', 'Turnierplatz', 'Sophien=Felsenbrücke', 'Fischerdörfchen', 'Tempel der Ein=', 'tracht', 'Karolinenhain', 'Dianen=', 'tempel', 'Löwenbrücke', 'kleine Prater', 'Gartensaal', 'Kärnthnerthor', 'Polytechnische Jnstitut', 'technologische Museum ', 'Sr. Maj. des Kaisers', 'Taubstummen=Jnstitut', 'Theresianum', 'Theresianum', 'Bahnhof der ', 'Raaber=', 'Bahn', 'Laxenburger Allee', 'Briel', 'Laxenburg', 'Mariabrunn', 'Hadersdorf', 'Poststraße', 'Penzing', 'Baum=', 'garten', 'Hütteldorf ', 'Auhofe', 'Mariabrunn', 'kais. Forst=Akademie', 'Hadersdorf', 'Haimbach', 'hohe Wand', 'Halterthal', 'Hütteldorf', 'Tulbingkogel', 'Mauerbach', 'Tulbingkogel']\n"
     ]
    }
   ],
   "source": [
    "while(\" \" in Places):\n",
    "    Places.remove(\" \")\n",
    "print(Places) \n",
    "\n",
    "clean_places = []\n",
    "for e in Places:\n",
    "    if clean_places and clean_places[-1].endswith('='):\n",
    "        clean_places[-1] = clean_places[-1][:-1] + e\n",
    "    elif clean_places and (clean_places[-1].endswith('des ') or clean_places[-1].endswith('des')):\n",
    "        clean_places[-1] = clean_places[-1] + ' ' + e\n",
    "    elif clean_places and (clean_places[-1].endswith('der ') or clean_places[-1].endswith('der')): \n",
    "        clean_places[-1] = clean_places[-1] + ' ' + e     \n",
    "    elif clean_places and clean_places[-1].endswith('den '): \n",
    "        clean_places[-1] = clean_places[-1] + ' ' + e \n",
    "    elif clean_places and (clean_places[-1].endswith('Fürsten ') or clean_places[-1].endswith('.')):\n",
    "        clean_places[-1] = clean_places[-1] + ' ' + e         \n",
    "    else:\n",
    "        clean_places.append(e)\n"
   ]
  },
  {
   "cell_type": "code",
   "execution_count": 14,
   "metadata": {},
   "outputs": [
    {
     "name": "stdout",
     "output_type": "stream",
     "text": [
      "['kaiserlichen', 'Zeughauses', 'Renngasse Nr. 140', 'Renngasse', 'hohe Brücke', 'tiefen Graben', 'Schwertgasse', 'Maria Stiegen', 'Salzgries', 'Maria am Gestade', 'Stoß im Himmel', 'Wipplingerstraße', 'Rathhaus', 'Hofkanzlei', 'Quergasse', 'Judenplatz', 'den Hof. Kirche zu den  7 Chören der Engel', 'bürgerliche Zeughaus', 'Bognergasse', 'Seitzerhof', 'Spenglergasse', 'Milchgäßchen', 'Petersplatz', 'Peterskirche', 'PolizeiOberdirektion', 'Feuerwache', 'Goldschmiedgasse', 'Stephansplatz', 'Gerolds', ' Buchhandlung', 'Stephansdom', 'Stephansplatze', 'Bischofgasse', 'Wollzeile', 'Schranders ', 'Kleidermagazin', 'BriefPost', 'Schaumburgs eleganter Bücherladen', 'Essiggäßchen', 'Bäckerstraße', 'Universitätsplatz', 'Universitäts=Gebäude', 'Sternwarte', 'Konvikt', 'Universitätshaus', 'Schulgasse', 'Dominkanerplatz', 'Universitätsbibllothek', 'Fahrpost', 'griechische Kirche', 'Hauptmauth', 'Hôtel zur Stadt London', 'Klosternenburg', 'Sommerpalais', 'Garten des  Fürsten  Liechtenstein', 'Rossau', 'Nußdorf', 'k. k. Fabriken', 'Kirchlehners', ' Gemäldesammlung', 'großen Kaffeehauses an', 'dem Donaustrome', 'Klosterneuburg', 'Kahlenberg', 'Döbling', 'Grinzing', 'Kahlenberge', '(ehmalige Kamaldulenser=) Kirche', 'Leopoldsberge', 'Herzogsburg der  Babenberge', 'Theil des Erzherzogthums', ' von Unterösterreich', 'kleinen Karpathen', 'Schneeberge', 'Kahlenberg', 'Kahlenbergerdörfel', 'Nußdorf', 'Heiligenstadt', 'Döbling', 'Tulnerhof', 'Währingergasse', 'Palais Dietrichstein', 'Josephinum', 'Waisenhaus', 'Kärnthnerthore', 'große Wienbrücke', 'Karlskirche', 'Martinolli', 'Palais ', 'Schwarzenberg', 'Heugasse', 'Belvedere', 'k. k. Gemäldegallerie', 'Garten für die österreichische Flora', 'Ambraser Sammlung', 'Kabinet äghptischer Alterthümer', 'unteren Belvedere', 'Hauptstraße der Vorstadt ', 'Rennweg', 'Kirche und Kloster der  Salesianerinnen', 'MiIitär=Medikamenten=Regie', 'botanischen Garten. ViIIa Metternich', 'Neustädter Kanal', 'Palais der italienischen Garde', 'Haltergasse', 'Versuchsgarten den Landwirthschaftsgesellschaft', 'Garten der Gartenbaugesellschaft', 'Kanal', 'Thierarznei=Jnstitut', 'Kanonenbohrerei', 'Münzhaus', 'Jnvalidenhause', 'Wienbrücke', 'tubenthor ', 'Stadt London', 'Hauptmauth', 'goldene', 'Ente', 'König von Ungarn', 'Schulenstraße', 'Herrnals', 'Türkenschanze', 'Dornbach', 'Parke des  Fürsten Schwarzenberg', 'Hameau', 'Briel', 'Baden', 'Laxenburg', 'Stephansplatze', 'Baden', 'Spinnerin', 'am Kreuz', 'Hetzendorf', 'Abgersdorf', 'Bertholdsdorf', 'Brunn', 'Enzersdorf am Gebirge', 'Mödling', 'Liechtenstein', 'rechnologische Museum', 'Mineralienkabinet', 'Sommerschloß', 'Liechtenstein', 'Briel', 'Klause', 'zu den', 'drei Raben', 'Felsenberg', 'Babenbergischen', ' Burg ', 'Medling', 'Husarentempel', 'Felsenthal', 'Mödling', 'zum Bahnhofe', 'Baden', 'Tunnel', 'Elchkogel', 'Thalern', 'Gumpoldskirchen', 'Stationsplatze', 'Baden', 'Schwan', 'Redonte', 'Hirsch', 'Löwe', 'Sauerhof', ' Karolinenbad', 'Sauerhofe', 'Helenathal', 'Ruinen ', 'Rauhenstein', 'Rauheneck', 'Scharfeneck', 'Urthelssteine', 'Weilburg', 'Villa des  Erzherzogs Karl', 'Wien', 'Mödling', 'Baden', 'Helenathal', 'Wien', 'Heiligen=Kreuz', 'Mödling', 'schwarzen Thurm', 'Liechtenstein', 'Rabenwirthshause', 'Gaden', 'Heiligen=Kreuz', 'Krainerhütten', 'Helenenthal', 'Weilburg', 'Baden', 'Laxenburg', 'Mödling', 'Laxenburg', 'Stationshof in Mödling', 'Mödling', 'Rabenwirthshause.  Liechtenstein', ' Briel', 'Mödling', 'Laxenburg', 'Franzensburg ', 'Mödlinger', 'Bahnhofe', 'Baden', 'Baden', 'Helenenthal ', 'kaiserlichen Burg', 'kaiserlichen Gruft', 'Kapuzinerkirche am Neumarkt', 'Klostergasse', 'Spitalplatz', 'Bürgerspital', 'Palais Lobkowitz', 'Augustinerkirche', ' Zanner', 'Josephsplatz', 'ReiterStatue ', 'Josephs des II', '. Hofbibliothek', 'Redoutensäle', 'naturhistorischen Museen', 'kaiserliche Reitschule', 'Michaelerplatze', 'Naturalienmuseum', 'Naturalienkabinette', 'Josephplatzes', 'Hofbibliothek', 'Augustinergang', 'AntikenKabinet', 'Mineralien=Kabinet', 'Palais des  Erzherzogs Karl', 'Privat=Bibliothek und Kupferstich=Sammlung', 'Blinden=Jnstitut', 'Casino', 'Schwan', 'neuen Markt', 'Stadt Frankfurt', 'Matschakerhof', 'Spiegelgasse ', 'Schönbrunn', 'Hietzing', 'Mariahilf', 'Palais Esterhazy', 'Fünfhaus', 'Braunhirschen', 'Rustendorf', 'Schönbrunn', 'Orangerie', 'Tirolerhaus', 'Menagerie', 'Pflanzengarten', 'Hietzing', 'Villa', 'Hügel', 'Dommayers Casino', 'Penzing', 'deutsche Ordenskirche', 'Singerstraße', '„deutschen Hause', 'Stephansplatz', 'Graben', 'untere Breunerstraße', 'Josephsplatz', 'Hof=Wagen=Remisen', 'Hofbibliothek', 'kaiserlichen Appartements', 'Reichskanzlei', 'Schweizerhofe', 'Burgplatz', 'Burgkapelle', 'Schweizerhofe', 'Schatzkammer', 'Josephsplatz', 'Redoutenstiege', 'Augustinergang', 'Antikenkabinet', 'kais. Mineralienkabinet', 'Erzherzog Karl', 'wilder Mann', 'Kärnthnerstraße', 'Laxenburg', 'Poststraße', 'Laxenburg', 'Lusthaus', 'Rittergruft', 'Meierei', 'Rittersäule', 'Franzensburg', 'Turnierplatz', 'Sophien=Felsenbrücke', 'Fischerdörfchen', 'Tempel der Eintracht', 'Karolinenhain', 'Dianentempel', 'Löwenbrücke', 'kleine Prater', 'Gartensaal', 'Kärnthnerthor', 'Polytechnische Jnstitut', 'technologische Museum ', 'Sr. Maj. des Kaisers', 'Taubstummen=Jnstitut', 'Theresianum', 'Theresianum', 'Bahnhof der  RaaberBahn', 'Laxenburger Allee', 'Briel', 'Laxenburg', 'Mariabrunn', 'Hadersdorf', 'Poststraße', 'Penzing', 'Baumgarten', 'Hütteldorf ', 'Auhofe', 'Mariabrunn', 'kais. Forst=Akademie', 'Hadersdorf', 'Haimbach', 'hohe Wand', 'Halterthal', 'Hütteldorf', 'Tulbingkogel', 'Mauerbach', 'Tulbingkogel']\n"
     ]
    }
   ],
   "source": [
    "print(clean_places)"
   ]
  }
 ],
 "metadata": {
  "kernelspec": {
   "display_name": "Python 3",
   "language": "python",
   "name": "python3"
  },
  "language_info": {
   "codemirror_mode": {
    "name": "ipython",
    "version": 3
   },
   "file_extension": ".py",
   "mimetype": "text/x-python",
   "name": "python",
   "nbconvert_exporter": "python",
   "pygments_lexer": "ipython3",
   "version": "3.12.0"
  }
 },
 "nbformat": 4,
 "nbformat_minor": 2
}
