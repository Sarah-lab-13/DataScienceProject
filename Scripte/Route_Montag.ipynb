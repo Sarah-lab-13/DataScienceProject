{
 "cells": [
  {
   "cell_type": "markdown",
   "metadata": {},
   "source": [
    "# Route Montag \n",
    "### (Vormittag) \n",
    "<br>\n",
    "Since the author recommends to visit surrounding cities in the afternoon (which are not on my map), I decided to limit my analysis to the late morning. <br>\n",
    "But of course, those would suffice as interesting sources as well. "
   ]
  },
  {
   "cell_type": "code",
   "execution_count": 10,
   "metadata": {},
   "outputs": [],
   "source": [
    "from os import path\n",
    "xml_path = path.relpath(\"../Data/pages_8_47.xml\")\n",
    "\n",
    "from bs4 import BeautifulSoup   \n",
    "with open(xml_path, encoding='utf8') as file:   \n",
    "    contents = file.read()\n",
    "    soup = BeautifulSoup(contents, 'xml')"
   ]
  },
  {
   "cell_type": "code",
   "execution_count": 15,
   "metadata": {},
   "outputs": [],
   "source": [
    "import re\n",
    "\n",
    "start_tag = 'hi'   \n",
    "start_string = 'Montag.'    \n",
    "end_tag = 'hi'     \n",
    "end_string = 'Dinstag.'  \n",
    "place_tag = 'placeName'     \n",
    "should_start_parsing = False   "
   ]
  },
  {
   "cell_type": "code",
   "execution_count": 16,
   "metadata": {},
   "outputs": [],
   "source": [
    "Montag = []        #here, the whole text will be placed - in case we need it later on\n",
    "Places = []     #here, the places for our route will be stored\n",
    "for line in soup.find_all('l'):\n",
    "    if line.string == start_string and line.string.parent.name == start_tag:\n",
    "        should_start_parsing = True  \n",
    "\n",
    "    if should_start_parsing:\n",
    "        text = line.get_text()\n",
    "        Montag.append(text)\n",
    "        for child in line.descendants:\n",
    "            if child.name == place_tag:\n",
    "                for text in child.strings:\n",
    "                    Places.append(text)          \n",
    "\n",
    "    if line.string == end_string and line.string.parent.name == end_tag:\n",
    "        should_start_parsing = False  \n",
    "        break"
   ]
  },
  {
   "cell_type": "code",
   "execution_count": 17,
   "metadata": {},
   "outputs": [
    {
     "name": "stdout",
     "output_type": "stream",
     "text": [
      "['kaiserlichen', 'Zeughauses', 'Renngasse Nr. 140', 'Renngasse', 'hohe Brücke', 'tiefen Graben', 'Schwert=', 'gasse', 'Maria Stiegen', 'Salzgries', 'Maria am Gestade', 'Stoß im Himmel', 'Wipplingerstraße', 'Rathhaus', 'Hofkanzlei', 'Quergasse', 'Judenplatz', 'den Hof.', 'Kirche zu den ', '7 Chören der Engel', 'bürgerliche Zeughaus', 'Bognergasse', 'Seitzerhof', 'Spenglergasse', 'Milchgäßchen', 'Petersplatz', 'Peterskirche', 'Polizei=', 'Oberdirektion', 'Feuerwache', 'Goldschmiedgasse', 'Stephansplatz', 'Gerolds', ' Buchhandlung', 'Stephansdom', 'Stephansplatze', 'Bischofgasse', 'Wollzeile', 'Schranders ', 'Kleidermagazin', 'Brief=', 'Post', 'Schaumburgs eleganter Bücher=', 'laden', 'Essiggäßchen', 'Bäckerstraße', 'Universitätsplatz', 'Universitäts=Gebäude', 'Sternwarte', 'Konvikt', 'Uni=', 'versitätshaus', 'Schulgasse', 'Dominkanerplatz', 'Universitätsbibllothek', 'Fahrpost', 'grie=', 'chische Kirche', 'Hauptmauth', 'Hôtel zur Stadt London', 'Klosternenburg', 'Sommer=', 'palais', 'Garten des ', 'Fürsten ', 'Liechtenstein', 'Rossau', 'Nußdorf', 'k. k. Fabriken', 'Kirchlehners', ' Gemälde=', 'sammlung', 'großen Kaffeehauses an', 'dem Donaustrome', 'Klosterneuburg', 'Kahlenberg', 'Döbling', 'Grinzing', 'Kahlenberge', '(ehma=', 'lige Kamaldulenser=) Kirche', 'Leopoldsberge', 'Herzogsburg der ', 'Babenberge', 'Theil des Erzherzogthums', ' von Unter=', 'österreich', 'kleinen Karpathen', 'Schneeberge', 'Kahlenberg', 'Kahlenbergerdörfel', 'Nußdorf', 'Heiligenstadt', 'Döbling', 'Tul=', 'nerhof', 'Währingergasse', 'Palais Dietrichstein', 'Josephinum', 'Waisenhaus', 'Kärnthnerthore', 'große Wienbrücke', 'Karlskirche', 'Martinolli', 'Palais ', 'Schwarzen=', 'berg', 'Heugasse', 'Belvedere', 'k. k. Gemäldegallerie', 'Gar=', 'ten für die österreichische Flora', 'Ambraser Sammlung', 'Kabinet äghptischer Alterthümer', 'unteren Belvedere', 'Haupt=', 'straße der Vorstadt ', 'Rennweg', 'Kirche und Kloster der ', 'Salesianerinnen', 'Mi=', 'Iitär=Medikamenten=Regie', 'botanischen Garten.', 'ViIIa Metternich', 'Neustädter Kanal', 'Palais der italienischen Garde', 'Haltergasse', 'Versuchsgarten den Landwirthschaftsgesellschaft', 'Garten der Gartenbaugesellschaft', 'Kanal', 'Thierarznei=Jnstitut', 'Kanonenbohrerei', 'Münzhaus', 'Jnvalidenhause', 'Wienbrücke', 'tu=', 'benthor ', 'Stadt London', 'Hauptmauth', 'goldene', 'Ente', 'König von Ungarn', 'Schulenstraße', 'Herrnals', 'Türkenschanze', 'Dornbach', 'Parke des ', 'Fürsten Schwarzenberg', 'Hameau', 'Briel', 'Baden', 'Laxenburg', 'Stephansplatze', 'Baden', 'Spinnerin', 'am Kreuz', 'Hetzendorf', 'Abgersdorf', 'Bertholds=', 'dorf', 'Brunn', 'Enzersdorf am Gebirge', 'Mödling', 'Liechtenstein', 'rechnologische Museum', 'Mineralienkabinet', 'Som=', 'merschloß', 'Liechtenstein', 'Briel', 'Klause', 'zu den', 'drei Raben', 'Felsenberg', 'Babenbergischen', ' Burg ', 'Medling', 'Hu=', 'sarentempel', 'Felsenthal', 'Möd=', 'ling', 'zum Bahn=', 'hofe', 'Baden', 'Tunnel', 'Elch=', 'kogel', 'Thalern', 'Gumpolds=', 'kirchen', 'Stationsplatze', 'Baden', 'Schwan', 'Redonte', 'Hirsch', 'Löwe', 'Sauer=', 'hof', ' Karolinenbad', 'Sauerhofe', 'Helenathal', 'Ruinen ', 'Rauhenstein', 'Rauheneck', 'Schar=', 'feneck', 'Urthels=', 'steine', 'Weilburg', 'Villa des ', 'Erzherzogs Karl', 'Wien', 'Mödling', 'Baden', 'Helenathal', 'Wien', 'Heiligen=Kreuz', 'Mödling', 'schwarzen Thurm', 'Liechtenstein', 'Ra=', 'benwirthshause', 'Gaden', 'Heiligen=Kreuz', 'Krainerhütten', 'Helenenthal', 'Weilburg', 'Baden', 'Laxenburg', 'Mödling', 'Laxenburg', 'Stationshof in Möd=', 'ling', 'Mödling', 'Rabenwirths=', 'hause.', ' Liech=', 'tenstein', ' Briel', 'Mödling', 'Laxenburg', 'Franzensburg ', 'Mödlinger', 'Bahnhofe', 'Baden', 'Baden', 'Helenenthal ', 'kaiserlichen Burg', 'kaiserlichen Gruft', 'Kapuzinerkirche am Neumarkt', 'Klo=', 'stergasse', 'Spitalplatz', 'Bürgerspital', 'Palais Lobkowitz', 'Augustinerkirche', ' Zanner', 'Josephsplatz', 'Reiter=', 'Statue ', 'Josephs des II', '.', 'Hofbibliothek', 'Redoutensäle', 'naturhistorischen Museen', 'kaiserliche Reitschule', 'Michaelerplatze', 'Naturalienmuseum', 'Naturalienkabinette', 'Josephplatzes', 'Hofbibliothek', 'Augustinergang', 'Antiken=', 'Kabinet', 'Mi=', 'neralien=Kabinet', 'Palais des ', 'Erz=', 'herzogs Karl', 'Privat=Bibliothek und Kupferstich=Sammlung', 'Blinden=Jnstitut', 'Casino', 'Schwan', 'neuen Markt', 'Stadt Frank=', 'furt', 'Matschakerhof', 'Spiegelgasse ', 'Schönbrunn', 'Hietzing', 'Mariahilf', 'Palais Esterhazy', 'Fünfhaus', 'Braunhirschen', 'Rustendorf', 'Schönbrunn', 'Orangerie', 'Tirolerhaus', 'Menagerie', 'Pflanzengarten', 'Hietzing', 'Villa', 'Hügel', 'Dommayers Casino', 'Penzing', 'deutsche Ordenskirche', 'Singerstraße', '„deutschen Hause', 'Stephansplatz', 'Graben', 'untere Breunerstraße', 'Josephsplatz', 'Hof=Wagen=Remisen', 'Hofbibliothek', 'kaiserlichen Appartements', 'Reichskanzlei', 'Schweizerhofe', 'Burgplatz', 'Burgkapelle', 'Schweizerhofe', 'Schatzkammer', 'Jo=', 'sephsplatz', 'Redou=', 'tenstiege', 'Augustinergang', 'Antikenkabinet', 'kais. Mineralienkabinet', 'Erzherzog Karl', 'wilder Mann', 'Kärnthnerstraße', 'Laxenburg', 'Poststraße', 'Laxenburg', 'Lusthaus', 'Rittergruft', 'Meierei', 'Rittersäule', 'Franzensburg', 'Turnierplatz', 'Sophien=Felsenbrücke', 'Fischerdörfchen', 'Tempel der Ein=', 'tracht', 'Karolinenhain', 'Dianen=', 'tempel', 'Löwenbrücke', 'kleine Prater', 'Gartensaal', 'Kärnthnerthor', 'Polytechnische Jnstitut', 'technologische Museum ', 'Sr. Maj. des Kaisers', 'Taubstummen=Jnstitut', 'Theresianum', 'Theresianum', 'Bahnhof der ', 'Raaber=', 'Bahn', 'Laxenburger Allee', 'Briel', 'Laxenburg', 'Mariabrunn', 'Hadersdorf', 'Poststraße', 'Penzing', 'Baum=', 'garten', 'Hütteldorf ', 'Auhofe', 'Mariabrunn', 'kais. Forst=Akademie', 'Hadersdorf', 'Haimbach', 'hohe Wand', 'Halterthal', 'Hütteldorf', 'Tulbingkogel', 'Mauerbach', 'Tulbingkogel']\n"
     ]
    }
   ],
   "source": [
    "while(\" \" in Places):\n",
    "    Places.remove(\" \")\n",
    "print(Places) \n",
    "\n",
    "clean_places = []\n",
    "for e in Places:\n",
    "    if clean_places and clean_places[-1].endswith('='):\n",
    "        clean_places[-1] = clean_places[-1][:-1] + e\n",
    "    elif clean_places and (clean_places[-1].endswith('des ') or clean_places[-1].endswith('des')):\n",
    "        clean_places[-1] = clean_places[-1] + ' ' + e\n",
    "    elif clean_places and (clean_places[-1].endswith('der ') or clean_places[-1].endswith('der')): \n",
    "        clean_places[-1] = clean_places[-1] + ' ' + e     \n",
    "    elif clean_places and clean_places[-1].endswith('den '): \n",
    "        clean_places[-1] = clean_places[-1] + ' ' + e \n",
    "    elif clean_places and (clean_places[-1].endswith('Fürsten ') or clean_places[-1].endswith('.')):\n",
    "        clean_places[-1] = clean_places[-1] + ' ' + e         \n",
    "    else:\n",
    "        clean_places.append(e)\n"
   ]
  },
  {
   "cell_type": "code",
   "execution_count": 18,
   "metadata": {},
   "outputs": [
    {
     "name": "stdout",
     "output_type": "stream",
     "text": [
      "['kaiserlichen', 'Zeughauses', 'Renngasse Nr. 140', 'Renngasse', 'hohe Brücke', 'tiefen Graben', 'Schwertgasse', 'Maria Stiegen', 'Salzgries', 'Maria am Gestade', 'Stoß im Himmel', 'Wipplingerstraße', 'Rathhaus', 'Hofkanzlei', 'Quergasse', 'Judenplatz', 'den Hof. Kirche zu den  7 Chören der Engel', 'bürgerliche Zeughaus', 'Bognergasse', 'Seitzerhof', 'Spenglergasse', 'Milchgäßchen', 'Petersplatz', 'Peterskirche', 'PolizeiOberdirektion', 'Feuerwache', 'Goldschmiedgasse', 'Stephansplatz', 'Gerolds', ' Buchhandlung', 'Stephansdom', 'Stephansplatze', 'Bischofgasse', 'Wollzeile', 'Schranders ', 'Kleidermagazin', 'BriefPost', 'Schaumburgs eleganter Bücherladen', 'Essiggäßchen', 'Bäckerstraße', 'Universitätsplatz', 'Universitäts=Gebäude', 'Sternwarte', 'Konvikt', 'Universitätshaus', 'Schulgasse', 'Dominkanerplatz', 'Universitätsbibllothek', 'Fahrpost', 'griechische Kirche', 'Hauptmauth', 'Hôtel zur Stadt London', 'Klosternenburg', 'Sommerpalais', 'Garten des  Fürsten  Liechtenstein', 'Rossau', 'Nußdorf', 'k. k. Fabriken', 'Kirchlehners', ' Gemäldesammlung', 'großen Kaffeehauses an', 'dem Donaustrome', 'Klosterneuburg', 'Kahlenberg', 'Döbling', 'Grinzing', 'Kahlenberge', '(ehmalige Kamaldulenser=) Kirche', 'Leopoldsberge', 'Herzogsburg der  Babenberge', 'Theil des Erzherzogthums', ' von Unterösterreich', 'kleinen Karpathen', 'Schneeberge', 'Kahlenberg', 'Kahlenbergerdörfel', 'Nußdorf', 'Heiligenstadt', 'Döbling', 'Tulnerhof', 'Währingergasse', 'Palais Dietrichstein', 'Josephinum', 'Waisenhaus', 'Kärnthnerthore', 'große Wienbrücke', 'Karlskirche', 'Martinolli', 'Palais ', 'Schwarzenberg', 'Heugasse', 'Belvedere', 'k. k. Gemäldegallerie', 'Garten für die österreichische Flora', 'Ambraser Sammlung', 'Kabinet äghptischer Alterthümer', 'unteren Belvedere', 'Hauptstraße der Vorstadt ', 'Rennweg', 'Kirche und Kloster der  Salesianerinnen', 'MiIitär=Medikamenten=Regie', 'botanischen Garten. ViIIa Metternich', 'Neustädter Kanal', 'Palais der italienischen Garde', 'Haltergasse', 'Versuchsgarten den Landwirthschaftsgesellschaft', 'Garten der Gartenbaugesellschaft', 'Kanal', 'Thierarznei=Jnstitut', 'Kanonenbohrerei', 'Münzhaus', 'Jnvalidenhause', 'Wienbrücke', 'tubenthor ', 'Stadt London', 'Hauptmauth', 'goldene', 'Ente', 'König von Ungarn', 'Schulenstraße', 'Herrnals', 'Türkenschanze', 'Dornbach', 'Parke des  Fürsten Schwarzenberg', 'Hameau', 'Briel', 'Baden', 'Laxenburg', 'Stephansplatze', 'Baden', 'Spinnerin', 'am Kreuz', 'Hetzendorf', 'Abgersdorf', 'Bertholdsdorf', 'Brunn', 'Enzersdorf am Gebirge', 'Mödling', 'Liechtenstein', 'rechnologische Museum', 'Mineralienkabinet', 'Sommerschloß', 'Liechtenstein', 'Briel', 'Klause', 'zu den', 'drei Raben', 'Felsenberg', 'Babenbergischen', ' Burg ', 'Medling', 'Husarentempel', 'Felsenthal', 'Mödling', 'zum Bahnhofe', 'Baden', 'Tunnel', 'Elchkogel', 'Thalern', 'Gumpoldskirchen', 'Stationsplatze', 'Baden', 'Schwan', 'Redonte', 'Hirsch', 'Löwe', 'Sauerhof', ' Karolinenbad', 'Sauerhofe', 'Helenathal', 'Ruinen ', 'Rauhenstein', 'Rauheneck', 'Scharfeneck', 'Urthelssteine', 'Weilburg', 'Villa des  Erzherzogs Karl', 'Wien', 'Mödling', 'Baden', 'Helenathal', 'Wien', 'Heiligen=Kreuz', 'Mödling', 'schwarzen Thurm', 'Liechtenstein', 'Rabenwirthshause', 'Gaden', 'Heiligen=Kreuz', 'Krainerhütten', 'Helenenthal', 'Weilburg', 'Baden', 'Laxenburg', 'Mödling', 'Laxenburg', 'Stationshof in Mödling', 'Mödling', 'Rabenwirthshause.  Liechtenstein', ' Briel', 'Mödling', 'Laxenburg', 'Franzensburg ', 'Mödlinger', 'Bahnhofe', 'Baden', 'Baden', 'Helenenthal ', 'kaiserlichen Burg', 'kaiserlichen Gruft', 'Kapuzinerkirche am Neumarkt', 'Klostergasse', 'Spitalplatz', 'Bürgerspital', 'Palais Lobkowitz', 'Augustinerkirche', ' Zanner', 'Josephsplatz', 'ReiterStatue ', 'Josephs des II', '. Hofbibliothek', 'Redoutensäle', 'naturhistorischen Museen', 'kaiserliche Reitschule', 'Michaelerplatze', 'Naturalienmuseum', 'Naturalienkabinette', 'Josephplatzes', 'Hofbibliothek', 'Augustinergang', 'AntikenKabinet', 'Mineralien=Kabinet', 'Palais des  Erzherzogs Karl', 'Privat=Bibliothek und Kupferstich=Sammlung', 'Blinden=Jnstitut', 'Casino', 'Schwan', 'neuen Markt', 'Stadt Frankfurt', 'Matschakerhof', 'Spiegelgasse ', 'Schönbrunn', 'Hietzing', 'Mariahilf', 'Palais Esterhazy', 'Fünfhaus', 'Braunhirschen', 'Rustendorf', 'Schönbrunn', 'Orangerie', 'Tirolerhaus', 'Menagerie', 'Pflanzengarten', 'Hietzing', 'Villa', 'Hügel', 'Dommayers Casino', 'Penzing', 'deutsche Ordenskirche', 'Singerstraße', '„deutschen Hause', 'Stephansplatz', 'Graben', 'untere Breunerstraße', 'Josephsplatz', 'Hof=Wagen=Remisen', 'Hofbibliothek', 'kaiserlichen Appartements', 'Reichskanzlei', 'Schweizerhofe', 'Burgplatz', 'Burgkapelle', 'Schweizerhofe', 'Schatzkammer', 'Josephsplatz', 'Redoutenstiege', 'Augustinergang', 'Antikenkabinet', 'kais. Mineralienkabinet', 'Erzherzog Karl', 'wilder Mann', 'Kärnthnerstraße', 'Laxenburg', 'Poststraße', 'Laxenburg', 'Lusthaus', 'Rittergruft', 'Meierei', 'Rittersäule', 'Franzensburg', 'Turnierplatz', 'Sophien=Felsenbrücke', 'Fischerdörfchen', 'Tempel der Eintracht', 'Karolinenhain', 'Dianentempel', 'Löwenbrücke', 'kleine Prater', 'Gartensaal', 'Kärnthnerthor', 'Polytechnische Jnstitut', 'technologische Museum ', 'Sr. Maj. des Kaisers', 'Taubstummen=Jnstitut', 'Theresianum', 'Theresianum', 'Bahnhof der  RaaberBahn', 'Laxenburger Allee', 'Briel', 'Laxenburg', 'Mariabrunn', 'Hadersdorf', 'Poststraße', 'Penzing', 'Baumgarten', 'Hütteldorf ', 'Auhofe', 'Mariabrunn', 'kais. Forst=Akademie', 'Hadersdorf', 'Haimbach', 'hohe Wand', 'Halterthal', 'Hütteldorf', 'Tulbingkogel', 'Mauerbach', 'Tulbingkogel']\n",
      "327\n"
     ]
    }
   ],
   "source": [
    "print(clean_places)\n",
    "print(len(clean_places))"
   ]
  },
  {
   "cell_type": "code",
   "execution_count": 6,
   "metadata": {},
   "outputs": [],
   "source": [
    "#manual refinement: \n",
    "import functools\n",
    "\n",
    "clean_places[0:2] = [functools.reduce(lambda x, y: x + ' ' + y, clean_places[0:2])]"
   ]
  },
  {
   "cell_type": "code",
   "execution_count": 7,
   "metadata": {},
   "outputs": [],
   "source": [
    "#again: compare words to compile a list with only one version of varying place_names in the list\n",
    "\n",
    "import difflib as dl\n",
    "\n",
    "Similiar_words = []\n",
    "for word in clean_places:\n",
    "    close_words = dl.get_close_matches(word, clean_places, cutoff= 0.9)     #find matches of similar written places\n",
    "    Similiar_words.append(close_words)                                      #gather them in a list\n",
    "\n",
    "place_list = []\n",
    "for sublist in Similiar_words:     #only the first word or version of every similar-places-combination gets chosen as 'standard'\n",
    "    sublist = sorted(sublist)\n",
    "    place = sublist[0]\n",
    "    place_list.append(place)  \n",
    "\n",
    "place_list_text= open('../Data/monday_place_list_text.txt','w', encoding='utf8')      #save the new list of places in a file\n",
    "for item in place_list:\n",
    "\tplace_list_text.write(item+\"\\n\")\n",
    "place_list_text.close()      "
   ]
  },
  {
   "cell_type": "markdown",
   "metadata": {},
   "source": [
    "Let's start building our coordinate-table! <br>\n",
    "As before, We will start with the df from Wien Geschichte Wiki, add the coordinates from the Gazetteer and finally compare it to the manually built dataframe! "
   ]
  },
  {
   "cell_type": "code",
   "execution_count": 8,
   "metadata": {},
   "outputs": [],
   "source": [
    "import pandas as pd\n",
    "csv_path = path.relpath(\"../Data/KULTURWIKIOGD.csv\")    #import the downloaded dataset\n",
    "usecolumns = ['OBJECTID', 'SHAPE', 'ADRESSE', 'SEITENNAME']    #since the dataset is pretty big, I decided to use only some of the columns for efficieny\n",
    "coordinates = pd.read_csv(csv_path,  index_col=\"OBJECTID\", usecols=usecolumns)\n",
    "\n",
    "from thefuzz import process, fuzz \n",
    "\n",
    "coordinates['MATCH_SCORE'] = coordinates['SEITENNAME'].apply(lambda x: process.extractOne(x, place_list, scorer=fuzz.ratio)[1]) \n",
    "# create a new column called MATCH_SCORE, where the resulting scores of the comparison between our place_list will be stored. \n",
    "\n",
    "coordinates = coordinates.sort_values('MATCH_SCORE', ascending=False)\n",
    "coordinates_choice = coordinates.drop(coordinates[coordinates['MATCH_SCORE'] <= 84].index) #I used 84 again as threshold, since it fit pretty well\n",
    "\n",
    "coordinates_choice['NEUE_NAMEN'] = coordinates_choice['SEITENNAME'].apply(lambda x: process.extractOne(x, place_list, scorer=fuzz.ratio)[0]) \n",
    "#  use uniform names for our places \n",
    "\n",
    "coordinates_choice = coordinates_choice.drop_duplicates(subset=['NEUE_NAMEN']) \n",
    "place_coord  = coordinates_choice.drop(columns = ['SEITENNAME', 'MATCH_SCORE']) #drop unnceccessary columns\n",
    "\n",
    "place_coord = place_coord.set_index('NEUE_NAMEN')  #set new index\n",
    "place_coord = place_coord.reindex(index=place_list) #re-index again: corresponding records get ordered according to the place list\n",
    "place_coord = place_coord.reset_index() #reset the index\n",
    "place_coord.reset_index(inplace=True)\n",
    "place_coord = place_coord.drop(columns=['index'])\n",
    "place_coord.to_csv('../Data/Montag_coord.csv', sep=',', index=False, encoding='utf-8') #save our new Dataframe of places"
   ]
  },
  {
   "cell_type": "code",
   "execution_count": 9,
   "metadata": {},
   "outputs": [
    {
     "data": {
      "text/html": [
       "<div>\n",
       "<style scoped>\n",
       "    .dataframe tbody tr th:only-of-type {\n",
       "        vertical-align: middle;\n",
       "    }\n",
       "\n",
       "    .dataframe tbody tr th {\n",
       "        vertical-align: top;\n",
       "    }\n",
       "\n",
       "    .dataframe thead th {\n",
       "        text-align: right;\n",
       "    }\n",
       "</style>\n",
       "<table border=\"1\" class=\"dataframe\">\n",
       "  <thead>\n",
       "    <tr style=\"text-align: right;\">\n",
       "      <th></th>\n",
       "      <th>NEUE_NAMEN</th>\n",
       "      <th>SHAPE</th>\n",
       "      <th>ADRESSE</th>\n",
       "    </tr>\n",
       "  </thead>\n",
       "  <tbody>\n",
       "    <tr>\n",
       "      <th>0</th>\n",
       "      <td>kaiserlichen Zeughauses</td>\n",
       "      <td>NaN</td>\n",
       "      <td>NaN</td>\n",
       "    </tr>\n",
       "    <tr>\n",
       "      <th>1</th>\n",
       "      <td>Renngasse Nr. 140</td>\n",
       "      <td>NaN</td>\n",
       "      <td>NaN</td>\n",
       "    </tr>\n",
       "    <tr>\n",
       "      <th>2</th>\n",
       "      <td>Renngasse</td>\n",
       "      <td>POINT (16.367211551082715 48.21277258486223)</td>\n",
       "      <td>01., Renngasse 12</td>\n",
       "    </tr>\n",
       "    <tr>\n",
       "      <th>3</th>\n",
       "      <td>hohe Brücke</td>\n",
       "      <td>POINT (16.368607210105097 48.21273703123713)</td>\n",
       "      <td>01., Hohe Brücke 120</td>\n",
       "    </tr>\n",
       "    <tr>\n",
       "      <th>4</th>\n",
       "      <td>tiefen Graben</td>\n",
       "      <td>POINT (16.36762957026213 48.212022628343945)</td>\n",
       "      <td>01., Tiefer Graben 12</td>\n",
       "    </tr>\n",
       "    <tr>\n",
       "      <th>...</th>\n",
       "      <td>...</td>\n",
       "      <td>...</td>\n",
       "      <td>...</td>\n",
       "    </tr>\n",
       "    <tr>\n",
       "      <th>321</th>\n",
       "      <td>Halterthal</td>\n",
       "      <td>NaN</td>\n",
       "      <td>NaN</td>\n",
       "    </tr>\n",
       "    <tr>\n",
       "      <th>322</th>\n",
       "      <td>Hütteldorf</td>\n",
       "      <td>NaN</td>\n",
       "      <td>NaN</td>\n",
       "    </tr>\n",
       "    <tr>\n",
       "      <th>323</th>\n",
       "      <td>Tulbingkogel</td>\n",
       "      <td>NaN</td>\n",
       "      <td>NaN</td>\n",
       "    </tr>\n",
       "    <tr>\n",
       "      <th>324</th>\n",
       "      <td>Mauerbach</td>\n",
       "      <td>NaN</td>\n",
       "      <td>NaN</td>\n",
       "    </tr>\n",
       "    <tr>\n",
       "      <th>325</th>\n",
       "      <td>Tulbingkogel</td>\n",
       "      <td>NaN</td>\n",
       "      <td>NaN</td>\n",
       "    </tr>\n",
       "  </tbody>\n",
       "</table>\n",
       "<p>326 rows × 3 columns</p>\n",
       "</div>"
      ],
      "text/plain": [
       "                  NEUE_NAMEN                                         SHAPE  \\\n",
       "0    kaiserlichen Zeughauses                                           NaN   \n",
       "1          Renngasse Nr. 140                                           NaN   \n",
       "2                  Renngasse  POINT (16.367211551082715 48.21277258486223)   \n",
       "3                hohe Brücke  POINT (16.368607210105097 48.21273703123713)   \n",
       "4              tiefen Graben  POINT (16.36762957026213 48.212022628343945)   \n",
       "..                       ...                                           ...   \n",
       "321               Halterthal                                           NaN   \n",
       "322               Hütteldorf                                           NaN   \n",
       "323             Tulbingkogel                                           NaN   \n",
       "324                Mauerbach                                           NaN   \n",
       "325             Tulbingkogel                                           NaN   \n",
       "\n",
       "                   ADRESSE  \n",
       "0                      NaN  \n",
       "1                      NaN  \n",
       "2        01., Renngasse 12  \n",
       "3     01., Hohe Brücke 120  \n",
       "4    01., Tiefer Graben 12  \n",
       "..                     ...  \n",
       "321                    NaN  \n",
       "322                    NaN  \n",
       "323                    NaN  \n",
       "324                    NaN  \n",
       "325                    NaN  \n",
       "\n",
       "[326 rows x 3 columns]"
      ]
     },
     "execution_count": 9,
     "metadata": {},
     "output_type": "execute_result"
    }
   ],
   "source": [
    "place_coord"
   ]
  },
  {
   "cell_type": "markdown",
   "metadata": {},
   "source": [
    "Again, let's also try the Gazetteer: "
   ]
  },
  {
   "cell_type": "code",
   "execution_count": null,
   "metadata": {},
   "outputs": [],
   "source": []
  }
 ],
 "metadata": {
  "kernelspec": {
   "display_name": "Python 3",
   "language": "python",
   "name": "python3"
  },
  "language_info": {
   "codemirror_mode": {
    "name": "ipython",
    "version": 3
   },
   "file_extension": ".py",
   "mimetype": "text/x-python",
   "name": "python",
   "nbconvert_exporter": "python",
   "pygments_lexer": "ipython3",
   "version": "3.12.0"
  }
 },
 "nbformat": 4,
 "nbformat_minor": 2
}
