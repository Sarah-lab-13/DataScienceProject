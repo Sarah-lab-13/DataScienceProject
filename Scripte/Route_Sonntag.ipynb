{
 "cells": [
  {
   "cell_type": "markdown",
   "metadata": {},
   "source": [
    "# Test Case: \n",
    "### _A Sunday walk_"
   ]
  },
  {
   "cell_type": "markdown",
   "metadata": {},
   "source": [
    "First, we'll have to import and parse the text to make it readable in Python. <br> Here - in theory - we have different possibilities: \n",
    "- Use NER: packages like spacy make it possible to analyze text on various levels, including Named Entitiy Recognition. Using NER, you can not only divide sentences, tokens or assign POS-tags, but also automatically detect places / placenames. \n",
    "- Use XML: By manually annotating the places of interest in our source, we can simply export them as a list."
   ]
  },
  {
   "cell_type": "markdown",
   "metadata": {},
   "source": [
    "Since performance using only NER was in my specific case very poor -\n",
    "<br> it matched a lot of places that were not relevant, as well as left some out - I decided to go for manual annotation.\n",
    "<br> Nonetheless, it might be helpful for your project, so if you would still like to try it, I will provide the code here: "
   ]
  },
  {
   "cell_type": "code",
   "execution_count": 1,
   "metadata": {},
   "outputs": [],
   "source": [
    "## I used os for my project in order better organize my files, but it's not mandatory.\n",
    "from os import path\n",
    "xml_path = path.relpath(\"../Data/pages_8_47.xml\")\n",
    "\n",
    "## I used the python-module BeautifulSoup for XML-Parsing.\n",
    "\n",
    "\n",
    "from bs4 import BeautifulSoup   #import the module\n",
    "with open(xml_path, encoding='utf8') as file:   #load & parse the whole text and turn it into an BeautifulSoup object for further analysis.\n",
    "    contents = file.read()\n",
    "    soup = BeautifulSoup(contents, 'xml')"
   ]
  },
  {
   "cell_type": "markdown",
   "metadata": {},
   "source": [
    "I exported the whole text as an XML-file from Transkribus (you can, of course, also export only single pages). <br>\n",
    "But since I want to extract only the places of interest for Sunday, I have to divide the text beforehand. <br>\n",
    "The following code uses a combination of tags and strings in order to split the text correctly. <br>\n",
    "<br>\n",
    "Every chapter of the book corresponds to a weekday - and so do the headings (aka \"Sunday\" is a heading) <br>\n",
    "I decided to use this structural particularity to my advantage: By combining a filter of structural tags as well as strings, you can divide the text efficiently without having to worry about reoccuring Sundays, Mondays etc. in the text."
   ]
  },
  {
   "cell_type": "code",
   "execution_count": 2,
   "metadata": {},
   "outputs": [],
   "source": [
    "## first, we have to define which day we want to analyze:\n",
    "## of course, this can be changed accordingly - e.g. from Sunday to Monday, etc.\n",
    "\n",
    "import re\n",
    "\n",
    "start_tag = 'hi'    #hi corresponds the the tag <hi> in XML, which marks a word as highlighted, e.g. bold or cursiv - as it is in a heading\n",
    "start_string = 'Sonntag'    #the start of split\n",
    "\n",
    "end_tag = 'hi'     \n",
    "end_string = 'Montag.'     # the end of split \n",
    "place_tag = 'placeName'     # specific tags to extract - you could always also extract the whole text, or other marked entities like Person Names or Titles\n",
    "should_start_parsing = False    #has to be False in order for the function to work"
   ]
  },
  {
   "cell_type": "code",
   "execution_count": 3,
   "metadata": {},
   "outputs": [],
   "source": [
    "Sonntag = []        #here, the whole sunday text will be placed - in case we need it later on\n",
    "Places = []     #here, the places for our route will be stored\n",
    "for line in soup.find_all('l'):\n",
    "    if line.string == start_string and line.string.parent.name == start_tag:\n",
    "        should_start_parsing = True  \n",
    "\n",
    "    if should_start_parsing:\n",
    "        text = line.get_text()\n",
    "        Sonntag.append(text)\n",
    "        for child in line.descendants:\n",
    "            if child.name == place_tag:\n",
    "                for text in child.strings:\n",
    "                    #hier gibts Verbesserungsbedarf! -> Ziel ist, das die strings von placeTags, die durch andere Tags unterbrochen werden, \n",
    "                    #z.B- <placeName> Schloss <persName> Esterhazy </persName> </placeName>\n",
    "                    #nicht als getrennte, sondern ein string gespeichert werden. \n",
    "                    Places.append(text)          \n",
    "\n",
    "    if line.string == end_string and line.string.parent.name == end_tag:\n",
    "        should_start_parsing = False  \n",
    "        break"
   ]
  },
  {
   "cell_type": "markdown",
   "metadata": {},
   "source": [
    "Cleaning and structuring the list of places:"
   ]
  },
  {
   "cell_type": "code",
   "execution_count": 22,
   "metadata": {},
   "outputs": [
    {
     "name": "stdout",
     "output_type": "stream",
     "text": [
      "['k. k. Burg', 'Burgplatz', 'Burgthor', 'kaiserlichen Stallungen', 'Ge=', 'bäude der ungarischen Garde', 'Palais des ', 'Fürsten Auersperg', 'Gebäude des ', 'Geographi=', 'schen (Militär=)Jnstituts', 'Kriminal=', 'Gebäude', 'Kahlengebirge', 'Mariahilfer Hauptstraße', 'Schön=', 'brunn', 'Grena=', 'dierkaserne', 'Getreide=', 'markt', 'artesischen Brunnen', 'Akazien=Alleen', 'Wien', 'Kettenstege', 'der steinernen Brücke', 'Polytechnische Jnstitut', 'Karlskirche', 'Burg', 'Ritter=', 'Ceremoniensaal', 'Appartements ', 'Sr Majestät des Kaisers', 'Rittersaal', 'Antiken=', 'Mineralienkabinet', 'astronomische Thurm', 'Burg', 'Hofbiblio=', 'thek=Gebäudes', 'Josephsplatze', 'Palais des ', 'Erzherzogs Karl', 'Burg=', 'platze', 'Volksgartens', 'Burg=', 'gartens', 'Burggarten', 'Gewächshäuser', 'Wall', 'Palais des ', 'Erzherzogs Karl', 'Spitalplatze', 'Hofbau=', 'amte', 'Kärnthnerthor=Theater', 'Wall', 'Kärnthnerthore', 'Kärnthnerstraße', 'Wieden', 'Baden', 'Starhembergische ', 'Freihaus', 'Polytech=', 'nische Jnstitut', 'Karlskirche', 'Starhembergische Frelhaus', 'Wienerwaldes', 'Schneeberg', 'Karls=', 'kirche', 'Sommerpalais des ', 'Fürsten ', 'Schwarzenberg', 'Belvedere', 'Bahnhofe', 'Belvedere', 'Kirche und Kloster der', 'Salesianerinnen', 'Schwarzenbergi=', 'schen Palais', 'Kaserne', 'Pa=', 'lais', 'Stadtgraben', 'Pa=', 'lais Kolowrat', 'Artille=', 'rie=Haupt=Zeugamt', 'Karolinenthor', 'Stadt=', 'graben', 'Seilerstätte', 'Weihburggasse', 'Mineralwässer=Trink=', 'kur=Anstalt', 'Rennweg', 'Palais des', 'Herzogs von Koburg', 'orientalische Akademie', 'Stubenthor', 'Wollzeile', 'große', 'Steinbrücke', 'Wien', 'ist Wien = Donau?', 'Landstraße', 'Vorstadt = Bezirk', 'zur Linie (Barriere) von St.', 'Marx', 'Ungarn', 'Münzgebäude', 'Neustädter ', 'Kanal', 'Stückbohrerei', 'Jnvalidenhaus', 'Ka=', 'nalbassin', 'Stubenthore', 'Kloster und Kirche', 'der ', 'Dominikaner', 'Ravelin', 'Hauptmauth', 'Fahr=', 'post', 'Hauptmauth', 'Glacis', 'Zollamt', 'Ravelin', 'Donaukanal', 'Kahlengebirge', 'Praters', 'Leopoldstadt', 'Ferdinandsbrücke', 'Rothenthurm=Thore', 'Taborstraße', 'Tabor', 'Mähren', 'Böhmen', 'Jägerzeile', 'Donau', 'Korn=', 'speicher', 'Franzens=', 'brücke', '.', 'Bastei', 'unter den ', 'Weißgär=', 'bern', 'Erdberg', 'Rothen=', 'thurmthore', 'Laurenzer=Gasse', 'Laurenzerhof', 'Staats=Buchhaltun=', 'gen', 'Müllerische Palais', 'Leopoldstadt', 'Dianabad', 'Karls=Ket=', 'tenbrücke', 'Schanzl', 'Fisch=', 'markt', 'St. Ru=', 'prechtstiege', 'Ra=', 'velin', 'Fischerthore', 'Salzgries', 'Poli=', 'zeihaus', 'Grenadierkaserne', 'Stabsstock=', 'haus', 'Elendbastei', 'Ob=', 'servatorium', 'Thore', 'Glacis', 'Augartenbrücke', 'Leopoldstadt', 'Augartens', 'Brigittenau', 'Roßau', 'Lichtenthal', 'Servitenkirche', 'Döbling', 'Kahlengebirge', 'Leopoldsberg', 'Herzogsburg der Babenberge', 'Kahlenberg', 'Josephs=', 'berg', 'Bastei', 'Arsenales', 'Proviantbäckerei', 'Schot=', 'tenthore', 'Schot=', 'tengasse', 'Freiung', 'Herrngasse', 'Währingergasse', 'Gewehrfabrik', 'Döbling', 'Garnisons=', 'Bettmagazin', 'fürstlich', 'Esterhazische sogenannte ', 'rothe Haus', 'Jnfanterie=Kaserne', 'Alsergasse', 'Dornbach', 'Kriminale', 'Ravelin ', 'Mölkerbastei', 'Teinfaltstraße', 'Palais Lubomirski', 'Fran=', 'zensthor', 'Josephstadt', 'geographische Jnstitut', 'Kaisergasse', 'Josephstädter Theater', 'Kavallerie=Kaserne', 'Lerchenfeld', 'Löwelbastei', 'Paradies=Gärtchen', 'Cortis=Kaffehhause', 'Volksgarten', 'Schenkenstraße', 'Palais Liech=', 'tenstein', 'Staats=Kanzlei', 'Ballplatz', 'Bellaria', 'Burgplatze', 'Volksgar=', 'tens', 'zweites Kaffehaus von Corti', 'Volksgarten', 'Theseustem=', 'pel', 'Hof=Burgwache', 'Schwei=', 'zerhof', 'Kunstvereine']\n"
     ]
    }
   ],
   "source": [
    "while(\" \" in Places):\n",
    "    Places.remove(\" \")\n",
    "print(Places) "
   ]
  },
  {
   "cell_type": "code",
   "execution_count": 23,
   "metadata": {},
   "outputs": [],
   "source": [
    "clean_places = []\n",
    "for e in Places:\n",
    "    if clean_places and clean_places[-1].endswith('='):\n",
    "        clean_places[-1] = clean_places[-1][:-1] + e\n",
    "    elif clean_places and (clean_places[-1].endswith('des ') or clean_places[-1].endswith('des')):\n",
    "        clean_places[-1] = clean_places[-1] + ' ' + e\n",
    "    elif clean_places and (clean_places[-1].endswith('der ') or clean_places[-1].endswith('der')): \n",
    "        clean_places[-1] = clean_places[-1] + ' ' + e     \n",
    "    elif clean_places and clean_places[-1].endswith('den '): \n",
    "        clean_places[-1] = clean_places[-1] + ' ' + e \n",
    "    elif clean_places and (clean_places[-1].endswith('Fürsten ') or clean_places[-1].endswith('.')):\n",
    "        clean_places[-1] = clean_places[-1] + ' ' + e         \n",
    "    else:\n",
    "        clean_places.append(e)\n"
   ]
  },
  {
   "cell_type": "markdown",
   "metadata": {},
   "source": [
    "Some manual refinements for removing comments which were also exported: "
   ]
  },
  {
   "cell_type": "code",
   "execution_count": 24,
   "metadata": {},
   "outputs": [],
   "source": [
    "clean_places.remove('ist Wien = Donau?')\n",
    "clean_places.remove('Vorstadt = Bezirk')"
   ]
  },
  {
   "cell_type": "markdown",
   "metadata": {},
   "source": [
    "Places that were seperated & have to be combined for further analysis: <br>\n",
    "große Steinbrücke, Starhembergisches Freihaus, Appartements Sr. Majestät, 'fürstlich''Esterhazische sogenannte ''rothe Haus' <br>\n",
    "<br>\n",
    "Places that were combined & have to be seperated:\n",
    "Hofbibliotheksgebäude - Josephplatz; Wienerwaldes - Schneeberg; "
   ]
  },
  {
   "cell_type": "code",
   "execution_count": 25,
   "metadata": {},
   "outputs": [],
   "source": [
    "## the corresponding code: first, seperate a string using reduce and replace them in the list as two new items\n",
    "## the order here is important! Otherwise, the indeces may change.\n",
    "# I looked up the indeces for the corresponding places beforehand using list.index('string')\n",
    "\n",
    "import functools\n",
    "\n",
    "clean_places[73:75] = [functools.reduce(lambda x, y: x + ' ' + y, clean_places[73:75])]\n",
    "#print(clean_places[73])\n",
    "\n",
    "clean_places[45:47] = [functools.reduce(lambda x, y: x + y, clean_places[45:47])]\n",
    "#print(clean_places[45])\n",
    "\n",
    "clean_places[22:24] = [functools.reduce(lambda x, y: x + y, clean_places[22:24])]\n",
    "#print(clean_places[22])\n",
    "\n",
    "clean_places[154:157] = [functools.reduce(lambda x, y: x + y, clean_places[154:157])]\n",
    "#print(clean_places[154])\n",
    "\n",
    "clean_places.insert(27, 'Hofbibliotek=Gebäudes')\n",
    "clean_places.insert(28, 'Josephsplatze')\n",
    "clean_places.remove('Hofbibliothek=Gebäudes Josephsplatze')\n",
    "\n",
    "clean_places.insert(49, 'Wienerwaldes')\n",
    "clean_places.insert(50, 'Schneeberg')\n",
    "clean_places.remove('Wienerwaldes Schneeberg')\n",
    "\n",
    "clean_places[85:87] = [functools.reduce(lambda x, y: x + ' ' + y, clean_places[85:87])]\n",
    "#print(clean_places[85])\n"
   ]
  },
  {
   "cell_type": "markdown",
   "metadata": {},
   "source": [
    "After cleaning the list of places, it might be smart to save them - e.g. in a text file."
   ]
  },
  {
   "cell_type": "code",
   "execution_count": 26,
   "metadata": {},
   "outputs": [],
   "source": [
    "clean_places_text = open('../Data/Sonntag/clean_places_text.txt','w', encoding='utf8')\n",
    "for item in clean_places:\n",
    "\tclean_places_text.write(item+\"\\n\")\n",
    "clean_places_text.close()"
   ]
  },
  {
   "cell_type": "markdown",
   "metadata": {},
   "source": [
    "Nice - we have the places for our walk! <br>\n",
    "But in order to bring them onto the map, we'll have to combine them with matching coordinates. <br>\n",
    "Also, it would be nicer to have only one \"writing-version\" of each place in our list - right now, some of them have different endings as well as different cases, which might make string matching later harder. <br>\n",
    "<br>\n",
    "There are several possibilities to normalize text - one idea could be lemmatization, using the spacy-package. <br> \n",
    "The problem here is that spacy splits words that belong together - as names - and the results of lemmatization might look not very language-intuitive (e.g. \"Stallunge\" instead of \"Stallung\" or \"Stallungen\"). <br>\n",
    "I still included the code in my workbook - in other cases it might work better."
   ]
  },
  {
   "cell_type": "code",
   "execution_count": null,
   "metadata": {},
   "outputs": [],
   "source": [
    "#import spacy\n",
    "#nlp = spacy.load(\"de_core_news_sm\")\n",
    "\n",
    "#places_text = ' '.join(clean_places)\n",
    "#nlp_places = nlp(places_text)\n",
    "\n",
    "#lemma_list = []\n",
    "#for word in nlp_places: \n",
    "    #lemma = word.lemma_\n",
    "    #lemma_list.append(lemma)    \n",
    "#print(lemma_list)"
   ]
  },
  {
   "cell_type": "markdown",
   "metadata": {},
   "source": [
    "Another option would be fuzzy string or sequence matching, using the builtin-python package difflib: <br>\n",
    "Difflib identifies differences in lists and strings based on edit distance and allows us to find and combine similar written words. <br>\n",
    "Important to remember is that in order to match in a sensibel way, we have to define a good threshold. <br>\n",
    "In my case, being a little bit more strict, a threshold of 0.9 worked quite well. "
   ]
  },
  {
   "cell_type": "code",
   "execution_count": null,
   "metadata": {},
   "outputs": [],
   "source": [
    "import difflib as dl\n",
    "\n",
    "Similiar_words = []\n",
    "for word in clean_places:\n",
    "    close_words = dl.get_close_matches(word, clean_places, cutoff= 0.9)     #find matches of similar written places\n",
    "    Similiar_words.append(close_words)                                      #gather them in a list\n",
    "\n",
    "place_list = []\n",
    "for sublist in Similiar_words:     #only the first word or version of every similar-places-combination gets chosen as 'standard'\n",
    "    sublist = sorted(sublist)\n",
    "    place = sublist[0]\n",
    "    place_list.append(place)  \n",
    "\n",
    "place_list_text= open('../Data/Sonntag/place_list_text.txt','w', encoding='utf8')      #save the new list of places in a file\n",
    "for item in place_list:\n",
    "\tplace_list_text.write(item+\"\\n\")\n",
    "place_list_text.close()      "
   ]
  },
  {
   "cell_type": "markdown",
   "metadata": {},
   "source": [
    "Next is to create a dataframe containing the coordinates for each place. <br>\n",
    "For that, I chose to extract coordinates from pre-built and openly available dataframes like the KULTURWIKIOGD, a Data Collection from the Wien Geschichte Wiki (https://www.data.gv.at/katalog/dataset/wien-geschichte-wiki#resources), containing gis-data for historic places and sights in vienna. \n",
    "<br>\n",
    "<br>\n",
    "But to extract only the coordinates of places of interest - i.e., places on my place list - I will have to compare the dataframes with my list. <br>\n",
    "I also chose to use fuzzy string matching for this task, using Pythons _the_fuzz_ library."
   ]
  },
  {
   "cell_type": "code",
   "execution_count": null,
   "metadata": {},
   "outputs": [],
   "source": [
    "import pandas as pd\n",
    "csv_path = path.relpath(\"../Data/KULTURWIKIOGD.csv\")    #import the downloaded dataset\n",
    "usecolumns = ['OBJECTID', 'SHAPE', 'ADRESSE', 'SEITENNAME']    #since the dataset is pretty big, I decided to use only some of the columns for efficieny\n",
    "coordinates = pd.read_csv(csv_path,  index_col=\"OBJECTID\", usecols=usecolumns)"
   ]
  },
  {
   "cell_type": "code",
   "execution_count": null,
   "metadata": {},
   "outputs": [],
   "source": [
    "# a first look at the dataframe\n",
    "coordinates.head()"
   ]
  },
  {
   "cell_type": "code",
   "execution_count": null,
   "metadata": {},
   "outputs": [],
   "source": [
    "from thefuzz import process, fuzz \n",
    "\n",
    "coordinates['MATCH_SCORE'] = coordinates['SEITENNAME'].apply(lambda x: process.extractOne(x, place_list, scorer=fuzz.ratio)[1]) \n",
    "# create a new column called MATCH_SCORE, where the resulting scores of the comparison between our place_list will be stored. \n",
    "# process.extractOne returns two things: the closest match to a word and the corresponding matching score\n",
    "# since we only need (for now) the score, I will only extract the second item\n",
    "# This is important in order to compare how good the string matching workes - and in order to find a fitting threshold, where the least information is lost\n",
    "\n",
    "coordinates = coordinates.sort_values('MATCH_SCORE', ascending=False)\n",
    "coordinates_choice = coordinates.drop(coordinates[coordinates['MATCH_SCORE'] <= 84].index) #I found that 84 is a nice threshold in my case\n",
    "\n",
    "coordinates_choice['NEUE_NAMEN'] = coordinates_choice['SEITENNAME'].apply(lambda x: process.extractOne(x, place_list, scorer=fuzz.ratio)[0]) \n",
    "# to make our dataframe later on better comparable, it would be good to use uniform names for our places - again, process.extractOne comes in handy. \n",
    "# this time, we extract the first item, the matching word, and put it into our new column, NEUE_NAMEN\n",
    "\n",
    "coordinates_choice = coordinates_choice.drop_duplicates(subset=['NEUE_NAMEN']) \n",
    "place_coord  = coordinates_choice.drop(columns = ['SEITENNAME', 'MATCH_SCORE']) #drop unnceccessary columns"
   ]
  },
  {
   "cell_type": "code",
   "execution_count": null,
   "metadata": {},
   "outputs": [],
   "source": [
    "#place_coord"
   ]
  },
  {
   "cell_type": "markdown",
   "metadata": {},
   "source": [
    "Some problems: The places are not in the correct order anymore, which is important for our route. <br>\n",
    "But since our column NEUE_NAMEN and our correctly ordered place list are the same, we can use some indexing-magic to restore the order!"
   ]
  },
  {
   "cell_type": "code",
   "execution_count": null,
   "metadata": {},
   "outputs": [],
   "source": [
    "place_coord = place_coord.set_index('NEUE_NAMEN')  #set new index\n",
    "place_coord = place_coord.reindex(index=place_list) #re-index again using Pandas reindex-function, this time with our place list: corresponding records get ordered according to the place list\n",
    "place_coord = place_coord.reset_index() #reset the index, bc. the NAMES shouldn't be our index\n",
    "place_coord.reset_index(inplace=True)\n",
    "place_coord = place_coord.drop(columns=['index'])\n",
    "place_coord.to_csv('../Data/Sonntag/Sonntag_coord.csv', sep=',', index=False, encoding='utf-8') #save our new Dataframe of places"
   ]
  },
  {
   "cell_type": "markdown",
   "metadata": {},
   "source": [
    "We also have other resources: For example, the Gazetteer, based on the 1710 Steinhausen plan."
   ]
  },
  {
   "cell_type": "code",
   "execution_count": null,
   "metadata": {},
   "outputs": [],
   "source": [
    "xlsx_path = path.relpath(\"../Data/Gazetteer_Steinhausenplan_V5.xlsx\")\n",
    "usecolumns = ['ID_neu', 'Toponym', 'Sicherheit', 'Longitude', 'Latitude']\n",
    "Steinhausen_coordinates = pd.read_excel(xlsx_path, usecols=usecolumns, index_col=0)  "
   ]
  },
  {
   "cell_type": "code",
   "execution_count": null,
   "metadata": {},
   "outputs": [],
   "source": [
    "Steinhausen_coordinates.head()"
   ]
  },
  {
   "cell_type": "markdown",
   "metadata": {},
   "source": [
    "Here, we basically repeat our process: "
   ]
  },
  {
   "cell_type": "code",
   "execution_count": null,
   "metadata": {},
   "outputs": [],
   "source": [
    "Steinhausen_coordinates['MATCH_SCORE'] = Steinhausen_coordinates['Toponym'].apply(lambda x: process.extractOne(x, place_list, scorer=fuzz.ratio)[1])\n",
    "Steinhausen_coordinates['NEUE_NAMEN'] = Steinhausen_coordinates['Toponym'].apply(lambda x: process.extractOne(x, place_list, scorer=fuzz.ratio)[0])\n",
    "Steinhausen_coordinates = Steinhausen_coordinates.sort_values('MATCH_SCORE', ascending=False)\n",
    "\n",
    "Steinhausen_coordinates = Steinhausen_coordinates.drop(Steinhausen_coordinates[Steinhausen_coordinates['MATCH_SCORE'] <= 80].index)\n",
    "Steinhausen_choice = Steinhausen_coordinates.drop_duplicates(subset=['NEUE_NAMEN'])\n",
    "\n",
    "Steinhausen_choice = Steinhausen_choice.set_index('NEUE_NAMEN')\n",
    "Steinhausen_choice = Steinhausen_choice.reindex(index=place_list)\n",
    "Steinhausen_choice = Steinhausen_choice.reset_index()\n",
    "Steinhausen_choice.reset_index(inplace=True)\n",
    "\n",
    "Steinhausen_choice = Steinhausen_choice.drop(columns=['Sicherheit', 'index', 'MATCH_SCORE', 'Toponym'])\n",
    "Steinhausen_choice.to_csv('../Data/Sonntag/Steinhausen_Sonntag_coord.csv', sep=',', index=False, encoding='utf-8')"
   ]
  },
  {
   "cell_type": "markdown",
   "metadata": {},
   "source": [
    "The best results - and by that, I mean the most coordinates - we'd get surely get by combining knowledge, and both our new dataframes. <br>\n",
    "But both dataframes have different columns and data-\"types\" for coordinates: \n",
    "- Wien Geschichte Wiki uses Shapefiles, \n",
    "- the Gazetteer uses Latitude and Longitude."
   ]
  },
  {
   "cell_type": "markdown",
   "metadata": {},
   "source": [
    "In order to combine them, we'll have to split the shape-column in the place_coord-Dataframe. "
   ]
  },
  {
   "cell_type": "code",
   "execution_count": null,
   "metadata": {},
   "outputs": [],
   "source": [
    "place_coord['SHAPE'] = place_coord['SHAPE'].str.replace(r'POINT', '', regex=True)\n",
    "place_coord['SHAPE'] = place_coord['SHAPE'].str.replace(r'\\)', '', regex=True)\n",
    "place_coord[['Longitude', 'Latitude']] = place_coord['SHAPE'].str.extract('(\\d+.\\d+)\\s(\\d+.\\d+)', expand=True)\n"
   ]
  },
  {
   "cell_type": "markdown",
   "metadata": {},
   "source": [
    "After reshaping the place_coord, we can join both dataframes."
   ]
  },
  {
   "cell_type": "code",
   "execution_count": null,
   "metadata": {},
   "outputs": [],
   "source": [
    "joined_places = pd.merge(place_coord, Steinhausen_choice, left_index=True, right_index=True)\n",
    "joined_places = joined_places.drop(columns=[\"NEUE_NAMEN_y\", \"SHAPE\"])\n",
    "joined_places.to_excel('../Data/Sonntag/joined_Sonntag_coord.xlsx')"
   ]
  },
  {
   "cell_type": "markdown",
   "metadata": {},
   "source": [
    "I wanted to keep the sometimes differing values of longitude and latitude of the KulturwikiOGD and the Steinhausen-Plan <br>\n",
    "to check which one of the coordinates fits better on the map.\n",
    "<br>\n",
    "Since some coordinates from other sources had to be added manually, I exported it as excel-file. \n",
    "For later importing the data in QGIS, you will have to transform it into csv-format. "
   ]
  },
  {
   "cell_type": "markdown",
   "metadata": {},
   "source": [
    "Looking later at the data, there is an interesting variation between route-instructions and descriptions of the corresponding view at each waypoint. <br>\n",
    "It might be good to distinguish between those route-instructions and viewpoint-descriptions, at best automatically. <br> <br>\n",
    "\n",
    "An idea would be a simple rule-based-approach: only use places that were mentioned in context of 'going somewhere' - this way, I thought, one could limit the datapoints as well as put them into better context. <br>\n",
    "1. For that, I extracted the verbs of the text using spacy. \n",
    "2. Then I manually edited and filtered the verbs, so that only verbs like 'going', 'walking' etc. remained. \n",
    "3. I used this verblist to extract the places in the corresponding sentences, \n",
    "4. and then filtered my original dataframe accordingly\n",
    "\n",
    "<br> But in the end, not many places fell out of the list - probably because my approach was a little bit too rough. \n",
    "In this case, manual selection from the text might be the smartest way to go. "
   ]
  },
  {
   "cell_type": "code",
   "execution_count": 4,
   "metadata": {},
   "outputs": [],
   "source": [
    "Sonntag = ' '.join(Sonntag)"
   ]
  },
  {
   "cell_type": "code",
   "execution_count": 5,
   "metadata": {},
   "outputs": [],
   "source": [
    "import spacy\n",
    "nlp = spacy.load(\"de_core_news_sm\")\n",
    "spaced_sunday = nlp(Sonntag)"
   ]
  },
  {
   "cell_type": "code",
   "execution_count": 6,
   "metadata": {},
   "outputs": [],
   "source": [
    "sentences = spaced_sunday.sents"
   ]
  },
  {
   "cell_type": "code",
   "execution_count": 7,
   "metadata": {},
   "outputs": [],
   "source": [
    "verbs = []\n",
    "for sentence in sentences: \n",
    "    for word in sentence: \n",
    "        if word.pos_ == \"VERB\":\n",
    "            verbs.append(word)"
   ]
  },
  {
   "cell_type": "code",
   "execution_count": 9,
   "metadata": {},
   "outputs": [],
   "source": [
    "verbs_unique = list(set(verbs))"
   ]
  },
  {
   "cell_type": "code",
   "execution_count": 11,
   "metadata": {},
   "outputs": [],
   "source": [
    "with open(\"../Data/Sonntag/verbs_as_editable_text.txt\", 'w', encoding='utf8') as output:\n",
    "    for verb in verbs_unique:\n",
    "        output.write(str(verb) + '\\n')"
   ]
  },
  {
   "cell_type": "code",
   "execution_count": 17,
   "metadata": {},
   "outputs": [],
   "source": [
    "data = open(\"../Data/Sonntag/verbs_as_editable_text.txt\", 'r', encoding='utf8')\n",
    "cleaned_verbs = data.read()\n",
    "cleaned_verbs = cleaned_verbs.split(\"\\n\")"
   ]
  },
  {
   "cell_type": "code",
   "execution_count": 18,
   "metadata": {},
   "outputs": [],
   "source": [
    "selection = []\n",
    "for verb in cleaned_verbs: \n",
    "    for sentence in Sonntag.split('.'):\n",
    "        if verb in sentence:\n",
    "            if sentence not in selection:\n",
    "                selection.append(sentence)\n",
    "selection = '.'.join(selection)                "
   ]
  },
  {
   "cell_type": "code",
   "execution_count": 16,
   "metadata": {},
   "outputs": [
    {
     "name": "stdout",
     "output_type": "stream",
     "text": [
      " Neben dieser steht in der Tiefe die Grena= dierkaserne, der Platz davor ist der Getreide= markt und das hölzerne Gebäude auf diesem enthält einen artesischen Brunnen. Weiterhin steht das schöne Palais des Erzherzogs Karl auf dem Walle. Jm Garten selbst steht die Reiterstatue des Gemahls von M. Wenige Schritte weiter steht man über dem Kärnthnerthore und sieht in die Kärnthnerstraße hinab. Rechts steht das große Starhembergische Freihaus, links das Polytech= nische Jnstitut und die Karlskirche. Ueber das Starhembergische Frelhaus hin steht man die Gebirge des Wienerwaldes und an heiteren Tagen erblickt man den Schneeberg in weiter Ferne empor ragen. Jn der Vorstadt steht links von der Karls= kirche das Sommerpalais des Fürsten  Schwarzenberg, darüber ragt das Belvedere empor, und hinter diesem rechts steht man die Rauch= fänge im Bahnhofe der Raaber Eisenbahn. Links vom Belvedere ist Kirche und Kloster der Salesianerinnen, neben dem Schwarzenbergi= schen Palais steht vorne die neue Kaserne (für Jnfanterie und das Beschäl=Departement) Das Pa= lais mit den großen Saalfenstern ist Eigenthum des Erzherzogs Maximilian. Jm Stadtgraben steht ein Militär=Magazin und ein kleiner Gar= ten des Erzherzogs Karl, der in Verbindung mit dem oberen ist, welcher den ganzen nun folgenden Ra= velin einnimmt. Man kömmt nun auf dem Walle zu den Stellen, wo mit Asphalt=Pflasterung Proben gemacht wurden; links steht das Artille= rie=Haupt=Zeugamt mit dem Blechthürmchen, 8 und man erreicht das Karolinenthor. Auf dem Ravelin steht links das neue Palais des Herzogs von Koburg, 1842 erbaut. Geht man auf der Courtine des Walles weiter fort, so kömmt man an einem Hause vorüber, welches ein Stockwerk hoch, etwas weiter zurück in der Reihe steht, es ist die orientalische Akademie. Rechts von den Pap= peln steht das stattliche Münzgebäude, dicht ne= ben diesem links zieht sich der Neustädter Kanal herab, und an ihm befindet sich, von den Bäumen ver= steckt, die Stückbohrerei. Auf dem Walle steht dicht am Stubenthore Kloster und Kirche der Dominikaner, vor welcher ein hoher Ravelin auf dem Walle selbst vorspringt. Unterhalb diesem steht die Franzens= brücke. Jn der Leopoldstadt drüben steht das Dianabad; die Karls=Ket= tenbrücke verbindet die Ufer. Die Straße in der Stadt heißt nun der Salzgries, das hohe altersgraue Gebäude mit Gitterfenstern ist das Poli= zeihaus, und weiterhin steht dicht am Walle die Grenadierkaserne, die einzige in der Stadt. Diesem gegenüber steht auf dem Ravelin (Elendbastei) ein kleines Ob= servatorium des Generalstabes. Man steht nun über dem neuen Thore; die Straße auf dem Glacis führt zur Augartenbrücke (mit hölzernen Jochen) und hinter den Häusern der Leopoldstadt ragen die Bäume des Augartens empor, an welchen die Brigittenau stößt. Links von der Gewehrfabrik steht die ehemalige Kirche der Schwarz= spanier, jetzt das Garnisons=Bettmagazin. Man steht jetzt auf dem Ravelin Mölkerbastei. Draußen steht eine Reihe neuer Häuser, unter welchen das geographische Jnstitut des Generalstabes an einem Thürmchen kenntlich ist. Man steht nun wieder an dem äußeren Burgplatze, auf welchem man jenseits den Rundgang begonnen hat, und schließt mit einem Besuche des Volksgar= tens. Mitten im Volksgarten steht der Theseustem= pel, von Nobile nach den Verhältnissen des athenien= sischen erbaut, 76 lang, 48 breit, und für Cano= vas Meisterwerk bestimmt, die Marmorgruppe des Theseus. Ehe man zum Rothen= thurmthore kommt, sieht man in der Stadt die stark ansteigende Laurenzer=Gasse hinauf, deren linke Seite von einem großen Gebäude (Laurenzerhof) gebildet wird, in welchem die Staats=Buchhaltun= gen und noch mehre andere Büreaus sich befinden. Rechts und links führen in allen Ecken Wege auf den Wall; gerade vor sich hat man das Burgthor, unter Kaiser Franz I. Zu beiden Seiten des Gebäudes führen auch Stiegen auf den Wall, die aber gewöhnlich verschlos= sen sind, so wie der Aufgang auf die Plattform des Thores. — Wendet man sich gegen die Stadt um, so hat man vor sich die Gebäude der Burg. Geht man nun auf den Wall rechts (Südwest) am Palais des Erzherzogs Karl vorüber, so kömmt man zu der Auffahrt vom Spitalplatze, am Hofbau= amte vorbei, zum Kärnthnerthor=Theater. Biegt man um ihn herum, so kömmt man zu dem Gebäude der 9 Hauptmauth und noch vor diesem ist die Fahr= post, deren Wagenremisen mit Schiefer gedeckt sind. Der nächst 12 folgende Ravelin, die Löwelbastei, berühmt durch die heldenmüthige Vertheidigung gegen die Türken, trägt jetzt das anmuthige Paradies=Gärtchen mit Cortis=Kaffehhause, von welchem man hinab in den Volksgarten kömmt. Man kömmt nun gegen die Burg an der Staats=Kanzlei vorbei, zu der eine eiserne Brücke hinüberführt; auf dem Walle selbst ist ein Gärtchen des Fürsten Metternich. Unter Tags ist derselbe ein Haupttummelplatz der Kinder, Abends kömmt dann die elegante Welt. Das Gäßchen links führt in die Teinfaltstraße hinab, dann folgt das Palais Lubomirski mit der Säulenhalle im ersten Stockwerke und das Fran= zensthor, das jüngste aus allen. Links von den Stal= lungen führt die Mariahilfer Hauptstraße gegen Schön= brunn. Die kreuzende Straße auf dem Burg= platze führt beiderseits zu kolossalen Gartenthoren, links des Volksgartens, rechts des Burg= gartens. 7 zu welchem ein bedeckter Gang vom Wall hinüber führt. Auf dem Glacis sieht man die Brücke über die Wien, welche zur Vorstadt Wieden, auf die Straße nach Baden führt. Vom Thore sieht man in der Stadt auf die Seilerstätte hinab und die Weihburggasse aus= wärts; die Brücke führt zur Mineralwässer=Trink= kur=Anstalt und ihren Gartenanlagen auf dem Glacis, weiterhin die Vorstadt Rennweg hinan. Marx und nach Ungarn führt. Von der Hauptmauth führt eine offene Brücke ohne Thor aufs Glacis zu den hölzernen Transitomagazinen und hinter diesen ragt an der Vorstadt der imposante neue Bau für die Hauptmauth (Zollamt) empor. Es ist ein malerischer Standpunkt: Links hat man das Kahlengebirge, rechts die Bäume des Praters zum Hintergrunde, vor sich am anderen Ufer die Leopoldstadt; die Ferdinandsbrücke führt vom Rothenthurm=Thore hinüber. Von ihr führt die Taborstraße gerade fort (nördlich) zum Tabor, der Linie gegen Mähren und Böhmen, rechts aber sieht man zum Theil in die Jägerzeile hinein, durch welche die berühmte Praterfahrt geht. Die Straße außer dem Thore führt in die Währingergasse, deren linkes Eck die Gewehrfabrik bildet. Das große vorspringende Eckhaus ist das fürstlich Esterhazische sogenannte rothe Haus, und an dieses stößt die große Jnfanterie=Kaserne, welche das Eck in die Alsergasse bildet; diese Gasse führt zur Herrnalser Linie und nach Dornbach. Der Weg über das Glacis führt in die Josephstadt hinaus. Jn der Stadt sieht man die Schenkenstraße mit dem Palais Liech= tenstein, zu welchem von der Bastei eine doppelte Brücke hinüberführt, auch ist eine Anfahrt im neuesten Style auf der Bastei erbaut. von Nobile 1822 erbaut. Gerade vor sich hat man die kaiserlichen Stallungen (von Fischer von Erlach erbaut), 600 Fuß lang, welche 400 Pferde= stände enthalten. Man geht hierauf etwas bergan zum Schot= tenthore, 1841 neu erbaut, und sieht die Schot= tengasse hinab, bis auf die Freiung und in die Herrngasse hinein. Wo diese Häuserreihe weiterhin endet, sieht man in die Kaisergasse hinauf, wo das Josephstädter Theater und die große Kavallerie=Kaserne sich befinden; es ist der Weg in das berüchtigte Lerchenfeld. Hier fährt man zur Nußdorfer Linie nach Döbling rc.Sonntag Vormittag, wo man nicht zu bestimmten Stunden in irgend eine Anstalt eilen muß. Die beliebten Or= chester von Strauß und Lanner spielen hier zuweilen. Alles Angegebene zu besehen ist natürlich nur bei sehr flüchtigen Durch= gehen der Anstalten möglich. Hat man das Thor passirt, so sieht man in der Stadt 10 das Müllerische Palais mit doppelten Balko= nen in seiner ganzen Länge. Der vorspringende Flügel enthält den Ritter= oder 6 Ceremoniensaal. Rechts vom Rittersaal enthält der lange, etwas niedere Bau das Antiken= und Mineralienkabinet, darü= ber ragt links der kleine astronomische Thurm der Burg empor, rechts die Kuppel des Hofbiblio= thek=Gebäudes am Josephsplatze. Wir beginnen von der k. Tritt man zur selben hinaus, so hat man den großen äuße= ren Burgplatz vor sich, welcher durch 2 sich kreu= zende Wege in 4 Rasenparterre abgetheilt ist. Ru= prechtstiege hinauf und hat übermals einen Ra= velin mit dem Fischerthore erreicht. Jm Stadt= graben befindet sich ein Garten des Erzherzogs Karl. k. Burg*). Des Kaisers *)Alle Staatsanstalten haben das Prädikat kaiserlich=könig= liche (k.), welches im Folgenden nur der Kürze wegen weg= gelassen wird. 5 Wahlspruch: Justitia Regnorum Fundamentum, ziert die Stadtseite. Es ist 38 Klafter lang, und hat fünf Durchgänge, welche durch 18 dorische Säulen gebil= det werden, die 4' 7'' Durchmesser haben. Die mitt= lere Durchfahrt ist dem allerhöchsten Hofe vorbehal= ten. Man sollte aber in der Wachstube um das Aufschließen ansuchen, da diese Plattform ein sehr interessanter Standpunkt ist. Etwas weiter rechts ist das Ge= bäude der ungarischen Garde (von demsel= ben) und das Palais des Fürsten Auersperg. Weiterhin sieht man das Gebäude des Geographi= schen (Militär=)Jnstituts, das Kriminal= Gebäude, das Kahlengebirge rc. Weiterhin sieht man die Akazien=Alleen an den Ufern der Wien mit dem Kettenstege, der steinernen Brücke, jenseits der= selben das Polytechnische Jnstitut und die Karlskirche. Links davon bezeichnet im ersten Stockwerke der große Balkon mit Glaswänden die Appartements Sr Majestät des Kaisers. Den Burggarten darf man nicht unbesichtigt lassen, da in den Frühstunden (außer der Hof wäre etwa eben in demselben anwesend) der Besuch jedem Gebildeten gestattet ist. Man wende sich nur an irgend einen Gärtnergehilfen, oder an den Hrn. Hofgärtner, um der Gewächshäuser willen. Dieser Pracht= bau (von Remy) hat 568' Länge, 325' Höhe. Die Mitte des Raumes bildet der imposante Blumensaal, 72' lang, von 8 Säulen getragen, die 30' Höhe, 3' Durchmesser haben. Die große Porzellan=Vase im Flügelsalon. Theresia, Kaisers Franz I. (von Moll). Diesem gegenüber springt das Pa= lais Kolowrat vor. Gleich darauf ist man am Stubenthor, sieht in der Stadt die Wollzeile hinauf, und außen auf die große Steinbrücke über die Wienist Wien = Donau?, deren dammartige Ver= längerung beiderseits von schönen hohen Pappeln ein= gefaßt ist. Dort ist die Hauptstraße der VorstadtVorstadt = Bezirk LandstraßeVorstadt = Bezirk, welche zur Linie (Barriere) von St. Links von den Pap= peln ist das Jnvalidenhaus, vor ihm das Ka= nalbassin mit einem Holzmarkte. Nach dessen Vollendung wird (1843) das Gebäude auf dem Walle eine andere Bestimmung erhalten. Auf dem nächstfolgenden Ravelin erblickt man den Donaukanal. Der Donau abwärts sind die Fischerkähne, weiterhin landen die Getreideschiffe und man sieht den großen Korn= speicher. Die Bastei wird weiterhin am niedrigsten. Die Vorstadt dießseits heißt unter den Weißgär= bern und Erdberg. Dießseits landen die Salz= und Obstschiffe, und dieser Landungsplatz ist der bekannte Schanzl. Jn der Stadt ist der Fisch= markt, auf welchem Freitags auch hölzerne Fisch= Buden aufgerichtet werden, man sieht die St. Auf dem nahen Ravelin springt das Stabsstock= haus (Militär=Arrest) weit vor. Am dießseitigen Ufer reicht die Vorstadt Roßau an den Donaukanal, weiterhin Lichtenthal mit der Servitenkirche, dahinter die Höhen von Döbling vor dem Kahlengebirge. Der Berg zunächst an der Donau ist der Leopoldsberg. wo die Herzogsburg der Babenberge stand, sein Nachbar ist der größere Kahlenberg (Josephs= berg). 11 Auf der Bastei hat man neben sich das lange Dach des Arsenales und der Proviantbäckerei. Das gegenüber stehende imposante Gebäude ist das Kriminale. Unten ist der Ballplatz. Die Anfahrt bei der Burg heißt Bellaria. Ein zweites Kaffehaus von Corti ist eine sehr freund= liche Halle im Halbkreise gebaut. Jm Winter ist der Tempel verschlossen, er wird aber bereitwillig geöffnet, wenn man sich in der Wachstube der Hof=Burgwache (nicht der Gre= nadier=Hauptwache) in der Durchfahrt in den Schwei= 13 zerhof meldet. Das kleine Haus dicht an der Stadt= mauer ist dem Kunstvereine eingeräumt, der darin die von ihm angekauften Kunstwerke ausstellt; auch für andere Expositionen dient das Gebäude. Jn den folgenden Blättern wird eine Anweisung gegeben, die Sehenswürdigkeiten Wiens in der Art zu besuchen, daß der Weg zu den Anstalten, an den Einlaßtagen derselben, zugleich so instruktiv gemacht wird als möglich. Für die Nachmittage werden Aus= flüge in die Umgebungen vorgeschlagen, wie sie sich am besten vereinigen lassen. Nur auf das Wichtigste wird aufmerksam gemacht, und es wird leicht sein, auch darin wieder eine Auswahl nach Neigung und Zeitverhältnissen zu treffen. Montag.\n"
     ]
    }
   ],
   "source": [
    "print(selection)"
   ]
  },
  {
   "cell_type": "code",
   "execution_count": 19,
   "metadata": {},
   "outputs": [],
   "source": [
    "selection_clean = re.sub(r'(\\w)= ([^uo])',r'\\g<1>\\g<2>', selection)"
   ]
  },
  {
   "cell_type": "code",
   "execution_count": 20,
   "metadata": {},
   "outputs": [
    {
     "name": "stdout",
     "output_type": "stream",
     "text": [
      " Neben dieser steht in der Tiefe die Grenadierkaserne, der Platz davor ist der Getreidemarkt und das hölzerne Gebäude auf diesem enthält einen artesischen Brunnen. Weiterhin steht das schöne Palais des Erzherzogs Karl auf dem Walle. Jm Garten selbst steht die Reiterstatue des Gemahls von M. Wenige Schritte weiter steht man über dem Kärnthnerthore und sieht in die Kärnthnerstraße hinab. Rechts steht das große Starhembergische Freihaus, links das Polytechnische Jnstitut und die Karlskirche. Ueber das Starhembergische Frelhaus hin steht man die Gebirge des Wienerwaldes und an heiteren Tagen erblickt man den Schneeberg in weiter Ferne empor ragen. Jn der Vorstadt steht links von der Karlskirche das Sommerpalais des Fürsten  Schwarzenberg, darüber ragt das Belvedere empor, und hinter diesem rechts steht man die Rauchfänge im Bahnhofe der Raaber Eisenbahn. Links vom Belvedere ist Kirche und Kloster der Salesianerinnen, neben dem Schwarzenbergischen Palais steht vorne die neue Kaserne (für Jnfanterie und das Beschäl=Departement) Das Palais mit den großen Saalfenstern ist Eigenthum des Erzherzogs Maximilian. Jm Stadtgraben steht ein Militär=Magazin und ein kleiner Garten des Erzherzogs Karl, der in Verbindung mit dem oberen ist, welcher den ganzen nun folgenden Ravelin einnimmt. Man kömmt nun auf dem Walle zu den Stellen, wo mit Asphalt=Pflasterung Proben gemacht wurden; links steht das Artillerie=Haupt=Zeugamt mit dem Blechthürmchen, 8 und man erreicht das Karolinenthor. Auf dem Ravelin steht links das neue Palais des Herzogs von Koburg, 1842 erbaut. Geht man auf der Courtine des Walles weiter fort, so kömmt man an einem Hause vorüber, welches ein Stockwerk hoch, etwas weiter zurück in der Reihe steht, es ist die orientalische Akademie. Rechts von den Pappeln steht das stattliche Münzgebäude, dicht neben diesem links zieht sich der Neustädter Kanal herab, und an ihm befindet sich, von den Bäumen versteckt, die Stückbohrerei. Auf dem Walle steht dicht am Stubenthore Kloster und Kirche der Dominikaner, vor welcher ein hoher Ravelin auf dem Walle selbst vorspringt. Unterhalb diesem steht die Franzensbrücke. Jn der Leopoldstadt drüben steht das Dianabad; die Karls=Kettenbrücke verbindet die Ufer. Die Straße in der Stadt heißt nun der Salzgries, das hohe altersgraue Gebäude mit Gitterfenstern ist das Polizeihaus, und weiterhin steht dicht am Walle die Grenadierkaserne, die einzige in der Stadt. Diesem gegenüber steht auf dem Ravelin (Elendbastei) ein kleines Observatorium des Generalstabes. Man steht nun über dem neuen Thore; die Straße auf dem Glacis führt zur Augartenbrücke (mit hölzernen Jochen) und hinter den Häusern der Leopoldstadt ragen die Bäume des Augartens empor, an welchen die Brigittenau stößt. Links von der Gewehrfabrik steht die ehemalige Kirche der Schwarzspanier, jetzt das Garnisons=Bettmagazin. Man steht jetzt auf dem Ravelin Mölkerbastei. Draußen steht eine Reihe neuer Häuser, unter welchen das geographische Jnstitut des Generalstabes an einem Thürmchen kenntlich ist. Man steht nun wieder an dem äußeren Burgplatze, auf welchem man jenseits den Rundgang begonnen hat, und schließt mit einem Besuche des Volksgartens. Mitten im Volksgarten steht der Theseustempel, von Nobile nach den Verhältnissen des atheniensischen erbaut, 76 lang, 48 breit, und für Canovas Meisterwerk bestimmt, die Marmorgruppe des Theseus. Ehe man zum Rothenthurmthore kommt, sieht man in der Stadt die stark ansteigende Laurenzer=Gasse hinauf, deren linke Seite von einem großen Gebäude (Laurenzerhof) gebildet wird, in welchem die Staats=Buchhaltungen und noch mehre andere Büreaus sich befinden. Rechts und links führen in allen Ecken Wege auf den Wall; gerade vor sich hat man das Burgthor, unter Kaiser Franz I. Zu beiden Seiten des Gebäudes führen auch Stiegen auf den Wall, die aber gewöhnlich verschlossen sind, so wie der Aufgang auf die Plattform des Thores. — Wendet man sich gegen die Stadt um, so hat man vor sich die Gebäude der Burg. Geht man nun auf den Wall rechts (Südwest) am Palais des Erzherzogs Karl vorüber, so kömmt man zu der Auffahrt vom Spitalplatze, am Hofbauamte vorbei, zum Kärnthnerthor=Theater. Biegt man um ihn herum, so kömmt man zu dem Gebäude der 9 Hauptmauth und noch vor diesem ist die Fahrpost, deren Wagenremisen mit Schiefer gedeckt sind. Der nächst 12 folgende Ravelin, die Löwelbastei, berühmt durch die heldenmüthige Vertheidigung gegen die Türken, trägt jetzt das anmuthige Paradies=Gärtchen mit Cortis=Kaffehhause, von welchem man hinab in den Volksgarten kömmt. Man kömmt nun gegen die Burg an der Staats=Kanzlei vorbei, zu der eine eiserne Brücke hinüberführt; auf dem Walle selbst ist ein Gärtchen des Fürsten Metternich. Unter Tags ist derselbe ein Haupttummelplatz der Kinder, Abends kömmt dann die elegante Welt. Das Gäßchen links führt in die Teinfaltstraße hinab, dann folgt das Palais Lubomirski mit der Säulenhalle im ersten Stockwerke und das Franzensthor, das jüngste aus allen. Links von den Stallungen führt die Mariahilfer Hauptstraße gegen Schönbrunn. Die kreuzende Straße auf dem Burgplatze führt beiderseits zu kolossalen Gartenthoren, links des Volksgartens, rechts des Burggartens. 7 zu welchem ein bedeckter Gang vom Wall hinüber führt. Auf dem Glacis sieht man die Brücke über die Wien, welche zur Vorstadt Wieden, auf die Straße nach Baden führt. Vom Thore sieht man in der Stadt auf die Seilerstätte hinab und die Weihburggasse auswärts; die Brücke führt zur Mineralwässer=Trinkkur=Anstalt und ihren Gartenanlagen auf dem Glacis, weiterhin die Vorstadt Rennweg hinan. Marx und nach Ungarn führt. Von der Hauptmauth führt eine offene Brücke ohne Thor aufs Glacis zu den hölzernen Transitomagazinen und hinter diesen ragt an der Vorstadt der imposante neue Bau für die Hauptmauth (Zollamt) empor. Es ist ein malerischer Standpunkt: Links hat man das Kahlengebirge, rechts die Bäume des Praters zum Hintergrunde, vor sich am anderen Ufer die Leopoldstadt; die Ferdinandsbrücke führt vom Rothenthurm=Thore hinüber. Von ihr führt die Taborstraße gerade fort (nördlich) zum Tabor, der Linie gegen Mähren und Böhmen, rechts aber sieht man zum Theil in die Jägerzeile hinein, durch welche die berühmte Praterfahrt geht. Die Straße außer dem Thore führt in die Währingergasse, deren linkes Eck die Gewehrfabrik bildet. Das große vorspringende Eckhaus ist das fürstlich Esterhazische sogenannte rothe Haus, und an dieses stößt die große Jnfanterie=Kaserne, welche das Eck in die Alsergasse bildet; diese Gasse führt zur Herrnalser Linie und nach Dornbach. Der Weg über das Glacis führt in die Josephstadt hinaus. Jn der Stadt sieht man die Schenkenstraße mit dem Palais Liechtenstein, zu welchem von der Bastei eine doppelte Brücke hinüberführt, auch ist eine Anfahrt im neuesten Style auf der Bastei erbaut. von Nobile 1822 erbaut. Gerade vor sich hat man die kaiserlichen Stallungen (von Fischer von Erlach erbaut), 600 Fuß lang, welche 400 Pferdestände enthalten. Man geht hierauf etwas bergan zum Schottenthore, 1841 neu erbaut, und sieht die Schottengasse hinab, bis auf die Freiung und in die Herrngasse hinein. Wo diese Häuserreihe weiterhin endet, sieht man in die Kaisergasse hinauf, wo das Josephstädter Theater und die große Kavallerie=Kaserne sich befinden; es ist der Weg in das berüchtigte Lerchenfeld. Hier fährt man zur Nußdorfer Linie nach Döbling rc.Sonntag Vormittag, wo man nicht zu bestimmten Stunden in irgend eine Anstalt eilen muß. Die beliebten Orchester von Strauß und Lanner spielen hier zuweilen. Alles Angegebene zu besehen ist natürlich nur bei sehr flüchtigen Durchgehen der Anstalten möglich. Hat man das Thor passirt, so sieht man in der Stadt 10 das Müllerische Palais mit doppelten Balkonen in seiner ganzen Länge. Der vorspringende Flügel enthält den Ritter= oder 6 Ceremoniensaal. Rechts vom Rittersaal enthält der lange, etwas niedere Bau das Antiken= und Mineralienkabinet, darüber ragt links der kleine astronomische Thurm der Burg empor, rechts die Kuppel des Hofbibliothek=Gebäudes am Josephsplatze. Wir beginnen von der k. Tritt man zur selben hinaus, so hat man den großen äußeren Burgplatz vor sich, welcher durch 2 sich kreuzende Wege in 4 Rasenparterre abgetheilt ist. Ruprechtstiege hinauf und hat übermals einen Ravelin mit dem Fischerthore erreicht. Jm Stadtgraben befindet sich ein Garten des Erzherzogs Karl. k. Burg*). Des Kaisers *)Alle Staatsanstalten haben das Prädikat kaiserlich=königliche (k.), welches im Folgenden nur der Kürze wegen weggelassen wird. 5 Wahlspruch: Justitia Regnorum Fundamentum, ziert die Stadtseite. Es ist 38 Klafter lang, und hat fünf Durchgänge, welche durch 18 dorische Säulen gebildet werden, die 4' 7'' Durchmesser haben. Die mittlere Durchfahrt ist dem allerhöchsten Hofe vorbehalten. Man sollte aber in der Wachstube um das Aufschließen ansuchen, da diese Plattform ein sehr interessanter Standpunkt ist. Etwas weiter rechts ist das Gebäude der ungarischen Garde (von demselben) und das Palais des Fürsten Auersperg. Weiterhin sieht man das Gebäude des Geographischen (Militär=)Jnstituts, das KriminalGebäude, das Kahlengebirge rc. Weiterhin sieht man die Akazien=Alleen an den Ufern der Wien mit dem Kettenstege, der steinernen Brücke, jenseits derselben das Polytechnische Jnstitut und die Karlskirche. Links davon bezeichnet im ersten Stockwerke der große Balkon mit Glaswänden die Appartements Sr Majestät des Kaisers. Den Burggarten darf man nicht unbesichtigt lassen, da in den Frühstunden (außer der Hof wäre etwa eben in demselben anwesend) der Besuch jedem Gebildeten gestattet ist. Man wende sich nur an irgend einen Gärtnergehilfen, oder an den Hrn. Hofgärtner, um der Gewächshäuser willen. Dieser Prachtbau (von Remy) hat 568' Länge, 325' Höhe. Die Mitte des Raumes bildet der imposante Blumensaal, 72' lang, von 8 Säulen getragen, die 30' Höhe, 3' Durchmesser haben. Die große Porzellan=Vase im Flügelsalon. Theresia, Kaisers Franz I. (von Moll). Diesem gegenüber springt das Palais Kolowrat vor. Gleich darauf ist man am Stubenthor, sieht in der Stadt die Wollzeile hinauf, und außen auf die große Steinbrücke über die Wienist Wien = Donau?, deren dammartige Verlängerung beiderseits von schönen hohen Pappeln eingefaßt ist. Dort ist die Hauptstraße der VorstadtVorstadt = Bezirk LandstraßeVorstadt = Bezirk, welche zur Linie (Barriere) von St. Links von den Pappeln ist das Jnvalidenhaus, vor ihm das Kanalbassin mit einem Holzmarkte. Nach dessen Vollendung wird (1843) das Gebäude auf dem Walle eine andere Bestimmung erhalten. Auf dem nächstfolgenden Ravelin erblickt man den Donaukanal. Der Donau abwärts sind die Fischerkähne, weiterhin landen die Getreideschiffe und man sieht den großen Kornspeicher. Die Bastei wird weiterhin am niedrigsten. Die Vorstadt dießseits heißt unter den Weißgärbern und Erdberg. Dießseits landen die Salz= und Obstschiffe, und dieser Landungsplatz ist der bekannte Schanzl. Jn der Stadt ist der Fischmarkt, auf welchem Freitags auch hölzerne FischBuden aufgerichtet werden, man sieht die St. Auf dem nahen Ravelin springt das Stabsstockhaus (Militär=Arrest) weit vor. Am dießseitigen Ufer reicht die Vorstadt Roßau an den Donaukanal, weiterhin Lichtenthal mit der Servitenkirche, dahinter die Höhen von Döbling vor dem Kahlengebirge. Der Berg zunächst an der Donau ist der Leopoldsberg. wo die Herzogsburg der Babenberge stand, sein Nachbar ist der größere Kahlenberg (Josephsberg). 11 Auf der Bastei hat man neben sich das lange Dach des Arsenales und der Proviantbäckerei. Das gegenüber stehende imposante Gebäude ist das Kriminale. Unten ist der Ballplatz. Die Anfahrt bei der Burg heißt Bellaria. Ein zweites Kaffehaus von Corti ist eine sehr freundliche Halle im Halbkreise gebaut. Jm Winter ist der Tempel verschlossen, er wird aber bereitwillig geöffnet, wenn man sich in der Wachstube der Hof=Burgwache (nicht der Grenadier=Hauptwache) in der Durchfahrt in den Schwei13 zerhof meldet. Das kleine Haus dicht an der Stadtmauer ist dem Kunstvereine eingeräumt, der darin die von ihm angekauften Kunstwerke ausstellt; auch für andere Expositionen dient das Gebäude. Jn den folgenden Blättern wird eine Anweisung gegeben, die Sehenswürdigkeiten Wiens in der Art zu besuchen, daß der Weg zu den Anstalten, an den Einlaßtagen derselben, zugleich so instruktiv gemacht wird als möglich. Für die Nachmittage werden Ausflüge in die Umgebungen vorgeschlagen, wie sie sich am besten vereinigen lassen. Nur auf das Wichtigste wird aufmerksam gemacht, und es wird leicht sein, auch darin wieder eine Auswahl nach Neigung und Zeitverhältnissen zu treffen. Montag.\n"
     ]
    }
   ],
   "source": [
    "print(selection_clean)"
   ]
  },
  {
   "cell_type": "code",
   "execution_count": 27,
   "metadata": {},
   "outputs": [],
   "source": [
    "def build_locations(nlp_text):\n",
    "    locations = []\n",
    "    for word in nlp_text.ents:    \n",
    "        if word.label_ in ['LOC']:\n",
    "            locations.append(word.text)                         \n",
    "    return locations"
   ]
  },
  {
   "cell_type": "code",
   "execution_count": 28,
   "metadata": {},
   "outputs": [],
   "source": [
    "spacy_locs = build_locations(spaced_sunday)"
   ]
  },
  {
   "cell_type": "code",
   "execution_count": 29,
   "metadata": {},
   "outputs": [],
   "source": [
    "new_place_list = []\n",
    "for sentence in selection_clean.split('.'):\n",
    "    for place in spacy_locs:\n",
    "        if place in sentence: \n",
    "            new_place_list.append(place)"
   ]
  },
  {
   "cell_type": "code",
   "execution_count": 31,
   "metadata": {},
   "outputs": [
    {
     "name": "stdout",
     "output_type": "stream",
     "text": [
      "['Walle', 'Walle', 'Walle', 'Walle', 'Walle', 'Walle', 'Walle', 'Jm Garten', 'Kärnthnerstraße', 'Karlskirche', 'Karlskirche', 'Wien', 'Wien', 'Wienerwaldes', 'Schneeberg', 'Wien', 'sen', 'Karlskirche', 'Karlskirche', 'Schwarzenberg', 'Raaber Eisenbahn', 'Belvedere', 'Schwarzenberg', 'Belvedere', 'Beschäl', 'Departement', 'Eigenthum', 'Stadt', 'Ravelin', 'Ravelin', 'Stadt', 'Stadt', 'Ravelin', 'Ravelin', 'Walle', 'Walle', 'Walle', 'Walle', 'Walle', 'Walle', 'Walle', 'Ravelin', 'Herzogs von Koburg', 'Ravelin', 'Ravelin', 'Ravelin', 'Walle', 'Walle', 'Walles', 'Walle', 'Walle', 'Walle', 'Walle', 'Walle', 'Neustädter Kanal', 'Walle', 'Walle', 'Ravelin', 'Stubenthor', 'Walle', 'Walle', 'Walle', 'Ravelin', 'Walle', 'Ravelin', 'Ravelin', 'Walle', 'Leopoldstadt', 'Leopoldstadt', 'Leopoldstadt', 'Walle', 'Walle', 'Stadt', 'Walle', 'Walle', 'Walle', 'Stadt', 'Straße in der Stadt', 'Salzgries', 'Walle', 'Stadt', 'Straße', 'Walle', 'Ravelin', 'Ravelin', 'Ravelin', 'Ravelin', 'Elendbastei', 'Generalstabes', 'Generalstabes', 'Leopoldstadt', 'Leopoldstadt', 'Thore', 'Straße', 'Augartenbrücke', 'Leopoldstadt', 'Brigittenau', 'Thore', 'Ravelin', 'Ravelin', 'Ravelin', 'Ravelin', 'Ravelin Mölkerbastei', 'Generalstabes', 'Draußen', 'Generalstabes', 'sen', 'Nobile', 'Stadt', 'Rothenthurm', 'Stadt', 'Stadt', 'Gebäudes', 'sen', 'Thore', 'Thore', 'Stadt', 'Stadt', 'Stadt', 'sen', 'Hauptmauth', 'Ravelin', 'Ravelin', 'Ravelin', 'Ravelin', 'Türken', 'Corti', 'Walle', 'Walle', 'Walle', 'Walle', 'Walle', 'Walle', 'Burg an der Staats', 'Walle', 'Gäßchen', 'Teinfaltstraße', 'Palais Lubomirski', 'Mariahilfer', 'Straße', 'Wien', 'Wien', 'Wieden', 'Baden', 'Wien', 'Straße', 'Stadt', 'Weihburggasse', 'Mineralwässer', 'Rennweg', 'Stadt', 'Stadt', 'Thore', 'Thore', 'Ungarn', 'sen', 'Hauptmauth', 'Kahlengebirge', 'Leopoldstadt', 'Rothenthurm', 'Leopoldstadt', 'Thore', 'Leopoldstadt', 'Kahlengebirge', 'Thore', 'Taborstraße', 'Tabor', 'Böhmen', 'Thore', 'Straße', 'Thore', 'Dornbach', 'Josephstadt', 'Stadt', 'Stadt', 'Stadt', 'Schenkenstraße', 'Nobile', 'Erlach', 'Lerchenfeld', 'Döbling', 'Nußdorfer Linie', 'Döbling', 'Stadt', 'Stadt', 'Stadt 10', 'Müllerische Palais', 'Stadt', 'Gebäudes', 'Antiken=', 'Rasenparterre', 'sen', 'Ravelin', 'Ravelin', 'Ravelin', 'Ravelin', 'Stadt', 'Stadt', 'Stadt', 'sen', 'Stadt', 'Stadt', 'Stadt', 'Palais des Fürsten Auersperg', 'Kahlengebirge rc', 'Kahlengebirge', 'Kahlengebirge', 'Wien', 'Karlskirche', 'Wien', 'Karlskirche', 'Wien', 'Glaswänden', 'sen', 'Remy', 'Wien', 'Wien', 'Stadt', 'Stubenthor', 'Wien', 'Donau', 'Donau', 'Stadt', 'Stadt', 'Donau', 'VorstadtVorstadt', 'Bezirk LandstraßeVorstadt', 'Jnvalidenhaus', 'sen', 'Walle', 'Walle', 'Walle', 'Walle', 'Walle', 'Walle', 'Walle', 'Ravelin', 'Donau', 'Ravelin', 'Donaukanal', 'Donau', 'Ravelin', 'Ravelin', 'Donaukanal', 'Donau', 'Donau', 'Donau', 'Donau', 'Erdberg', 'Stadt', 'Stadt', 'Stadt', 'Ravelin', 'Ravelin', 'Ravelin', 'Ravelin', 'Donau', 'Donaukanal', 'Kahlengebirge', 'Donau', 'Roßau', 'Donaukanal', 'Döbling', 'Kahlengebirge', 'Donau', 'Döbling', 'Donau', 'Donau', 'Donau', 'Leopoldsberg', 'Babenberge', 'Kahlenberg', 'sen', 'Ballplatz', 'Corti', 'sen', 'Stadt', 'Stadt', 'Stadt', 'Wien', 'Wien', 'Wien', 'Wiens', 'sen', 'Umgebungen', 'sen']\n",
      "286\n"
     ]
    }
   ],
   "source": [
    "print(new_place_list)\n",
    "print(len(new_place_list))"
   ]
  },
  {
   "cell_type": "code",
   "execution_count": 32,
   "metadata": {},
   "outputs": [],
   "source": [
    "new_place_list_unique = list(set(new_place_list))"
   ]
  },
  {
   "cell_type": "code",
   "execution_count": 34,
   "metadata": {},
   "outputs": [
    {
     "name": "stdout",
     "output_type": "stream",
     "text": [
      "['Kahlenberg', 'Ballplatz', 'Gebäudes', 'Weihburggasse', 'Baden', 'Müllerische Palais', 'Kärnthnerstraße', 'Böhmen', 'Stadt', 'Donau', 'Beschäl', 'Departement', 'Leopoldsberg', 'Josephstadt', 'Palais des Fürsten Auersperg', 'Palais Lubomirski', 'Schneeberg', 'Salzgries', 'Rothenthurm', 'Rennweg', 'Teinfaltstraße', 'Rasenparterre', 'Remy', 'Gäßchen', 'Erlach', 'Straße in der Stadt', 'Dornbach', 'Erdberg', 'Nußdorfer Linie', 'Straße', 'Schenkenstraße', 'Taborstraße', 'Kahlengebirge rc', 'Roßau', 'Wieden', 'Nobile', 'Antiken=', 'Lerchenfeld', 'Generalstabes', 'Wienerwaldes', 'Hauptmauth', 'Walle', 'Corti', 'Elendbastei', 'Schwarzenberg', 'Wiens', 'Burg an der Staats', 'Bezirk LandstraßeVorstadt', 'Karlskirche', 'Draußen', 'Eigenthum', 'Türken', 'Ravelin Mölkerbastei', 'Döbling', 'Donaukanal', 'Glaswänden', 'Tabor', 'VorstadtVorstadt', 'Herzogs von Koburg', 'sen', 'Ravelin', 'Kahlengebirge', 'Augartenbrücke', 'Thore', 'Belvedere', 'Stadt 10', 'Umgebungen', 'Mariahilfer', 'Ungarn', 'Leopoldstadt', 'Jm Garten', 'Babenberge', 'Brigittenau', 'Raaber Eisenbahn', 'Mineralwässer', 'Neustädter Kanal', 'Stubenthor', 'Wien', 'Walles', 'Jnvalidenhaus']\n",
      "80\n"
     ]
    }
   ],
   "source": [
    "print(new_place_list_unique)\n",
    "print(len(new_place_list_unique))"
   ]
  },
  {
   "cell_type": "code",
   "execution_count": 35,
   "metadata": {},
   "outputs": [],
   "source": [
    "with open(\"../Data/Sonntag/new_place_list_tour.txt\", 'w', encoding='utf8') as output:\n",
    "    for verb in new_place_list_unique:\n",
    "        output.write(str(verb) + '\\n')"
   ]
  },
  {
   "cell_type": "code",
   "execution_count": 37,
   "metadata": {},
   "outputs": [],
   "source": [
    "import pandas as pd"
   ]
  },
  {
   "cell_type": "code",
   "execution_count": 38,
   "metadata": {},
   "outputs": [],
   "source": [
    "joined_places_nn = pd.read_excel('../Data/Sonntag/joined_Sonntag_coord_nn.xlsx')"
   ]
  },
  {
   "cell_type": "code",
   "execution_count": 49,
   "metadata": {},
   "outputs": [],
   "source": [
    "Sonntags_Route = joined_places_nn.loc[joined_places_nn['NEUE_NAMEN'].isin(new_place_list_unique)]"
   ]
  },
  {
   "cell_type": "code",
   "execution_count": 50,
   "metadata": {},
   "outputs": [],
   "source": [
    "Sonntags_Route.to_csv('../Data/Sonntag/Sonntags_Route.csv', sep=',', index=False, encoding='utf-8')"
   ]
  },
  {
   "cell_type": "code",
   "execution_count": 41,
   "metadata": {},
   "outputs": [],
   "source": [
    "#that was the route (using only walking verbs, now come the sights:\n",
    "with open(\"../Data/Sonntag/seeing_verbs_as_editable_text.txt\", 'w', encoding='utf8') as output:\n",
    "    for verb in verbs_unique:\n",
    "        output.write(str(verb) + '\\n')"
   ]
  },
  {
   "cell_type": "code",
   "execution_count": 43,
   "metadata": {},
   "outputs": [],
   "source": [
    "data_2 = open(\"../Data/Sonntag/seeing_verbs_as_editable_text.txt\", 'r', encoding='utf8')\n",
    "cleaned_seeing_verbs = data_2.read()\n",
    "cleaned_seeing_verbs = cleaned_seeing_verbs.split(\"\\n\")"
   ]
  },
  {
   "cell_type": "code",
   "execution_count": 44,
   "metadata": {},
   "outputs": [],
   "source": [
    "selection2 = []\n",
    "for verb in cleaned_seeing_verbs: \n",
    "    for sentence in Sonntag.split('.'):\n",
    "        if verb in sentence:\n",
    "            if sentence not in selection2:\n",
    "                selection2.append(sentence)\n",
    "selection2 = '.'.join(selection2)    "
   ]
  },
  {
   "cell_type": "code",
   "execution_count": 45,
   "metadata": {},
   "outputs": [],
   "source": [
    "selection2_clean = re.sub(r'(\\w)= ([^uo])',r'\\g<1>\\g<2>', selection2)"
   ]
  },
  {
   "cell_type": "code",
   "execution_count": 46,
   "metadata": {},
   "outputs": [],
   "source": [
    "sights_place_list = []\n",
    "for sentence in selection2_clean.split('.'):\n",
    "    for place in spacy_locs:\n",
    "        if place in sentence: \n",
    "            sights_place_list.append(place)"
   ]
  },
  {
   "cell_type": "code",
   "execution_count": 47,
   "metadata": {},
   "outputs": [],
   "source": [
    "sights_place_list_unique = list(set(new_place_list))"
   ]
  },
  {
   "cell_type": "code",
   "execution_count": 48,
   "metadata": {},
   "outputs": [
    {
     "name": "stdout",
     "output_type": "stream",
     "text": [
      "['Kahlenberg', 'Ballplatz', 'Gebäudes', 'Weihburggasse', 'Baden', 'Müllerische Palais', 'Kärnthnerstraße', 'Böhmen', 'Stadt', 'Donau', 'Beschäl', 'Departement', 'Leopoldsberg', 'Josephstadt', 'Palais des Fürsten Auersperg', 'Palais Lubomirski', 'Schneeberg', 'Salzgries', 'Rothenthurm', 'Rennweg', 'Teinfaltstraße', 'Rasenparterre', 'Remy', 'Gäßchen', 'Erlach', 'Straße in der Stadt', 'Dornbach', 'Erdberg', 'Nußdorfer Linie', 'Straße', 'Schenkenstraße', 'Taborstraße', 'Kahlengebirge rc', 'Roßau', 'Wieden', 'Nobile', 'Antiken=', 'Lerchenfeld', 'Generalstabes', 'Wienerwaldes', 'Hauptmauth', 'Walle', 'Corti', 'Elendbastei', 'Schwarzenberg', 'Wiens', 'Burg an der Staats', 'Bezirk LandstraßeVorstadt', 'Karlskirche', 'Draußen', 'Eigenthum', 'Türken', 'Ravelin Mölkerbastei', 'Döbling', 'Donaukanal', 'Glaswänden', 'Tabor', 'VorstadtVorstadt', 'Herzogs von Koburg', 'sen', 'Ravelin', 'Kahlengebirge', 'Augartenbrücke', 'Thore', 'Belvedere', 'Stadt 10', 'Umgebungen', 'Mariahilfer', 'Ungarn', 'Leopoldstadt', 'Jm Garten', 'Babenberge', 'Brigittenau', 'Raaber Eisenbahn', 'Mineralwässer', 'Neustädter Kanal', 'Stubenthor', 'Wien', 'Walles', 'Jnvalidenhaus']\n",
      "80\n"
     ]
    }
   ],
   "source": [
    "print(sights_place_list_unique)\n",
    "print(len(sights_place_list_unique))"
   ]
  },
  {
   "cell_type": "code",
   "execution_count": 51,
   "metadata": {},
   "outputs": [],
   "source": [
    "Sonntags_sights = joined_places_nn.loc[joined_places_nn['NEUE_NAMEN'].isin(sights_place_list_unique)]\n",
    "Sonntags_sights.to_csv('../Data/Sonntag/Sonntags_sights.csv', sep=',', index=False, encoding='utf-8')"
   ]
  },
  {
   "cell_type": "markdown",
   "metadata": {},
   "source": [
    "Another idea would be to use LLMs - like ChatGPT - for this task. <br>\n",
    "For that, I created a simple text-file of the Sunday-Chapter, and copied it into ChatGPT. <br>\n",
    "Trying out different prompts might help to filter out a list of route instructions."
   ]
  },
  {
   "cell_type": "code",
   "execution_count": null,
   "metadata": {},
   "outputs": [],
   "source": [
    "#create a text to use in ChatGPT\n",
    "#print(Sonntag)\n",
    "with open(\"../Data/Sonntag/Sonntag.txt\", 'w', encoding='utf8') as text:\n",
    "    text.write(str(Sonntag))"
   ]
  },
  {
   "cell_type": "markdown",
   "metadata": {},
   "source": [
    "Some of my prompts: <br> <br>\n",
    "\n",
    "\"Imagine I want to take a stroll through vienna, following pre-written instructions from a text. Can you use NER to filter out only relevant route-instructions? The text goes as follows:\" <br> <br>\n",
    "\n",
    "\"Given the following text: \"...\" What can I see from \"example_place\"?\" <br> <br>\n",
    "\n",
    "\" [text] Wo bin ich und was sehe ich von hier aus?\" <br> <br>\n",
    "\n",
    "\" [text] Wo soll man lang gehen und was sieht man jeweils? "
   ]
  }
 ],
 "metadata": {
  "kernelspec": {
   "display_name": "Python 3",
   "language": "python",
   "name": "python3"
  },
  "language_info": {
   "codemirror_mode": {
    "name": "ipython",
    "version": 3
   },
   "file_extension": ".py",
   "mimetype": "text/x-python",
   "name": "python",
   "nbconvert_exporter": "python",
   "pygments_lexer": "ipython3",
   "version": "3.12.0"
  }
 },
 "nbformat": 4,
 "nbformat_minor": 2
}
