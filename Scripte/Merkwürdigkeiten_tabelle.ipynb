{
 "cells": [
  {
   "cell_type": "markdown",
   "metadata": {},
   "source": [
    "## The table containing 'Merkwürdigkeiten'"
   ]
  },
  {
   "cell_type": "markdown",
   "metadata": {},
   "source": [
    "I also extracted a table in the back of my book which held some addresses to places of interest, because they might help for my later collection."
   ]
  },
  {
   "cell_type": "code",
   "execution_count": 2,
   "metadata": {},
   "outputs": [],
   "source": [
    "import pandas as pd\n",
    "from os import path\n",
    "\n",
    "loc_table = pd.read_excel('../Data/Table_locations.xlsx')"
   ]
  },
  {
   "cell_type": "markdown",
   "metadata": {},
   "source": [
    "### Plus: building a table containing all collected data for all days\n",
    "<br>\n",
    "For that, we first remove duplicates from every table seperately and then merge them together! "
   ]
  },
  {
   "cell_type": "code",
   "execution_count": 3,
   "metadata": {},
   "outputs": [],
   "source": [
    "Table_Sonntag = pd.read_excel('../Data/Sonntag/joined_Sonntag_coord_nn.xlsx')\n",
    "Table_Montag = pd.read_excel('../Data/Montag/joined_Montag_coord_nn.xlsx')\n",
    "Table_Dienstag = pd.read_excel('../Data/Dienstag/joined_Dienstag_coord_nn.xlsx')\n",
    "Table_Donnerstag = pd.read_excel('../Data/Donnerstag/joined_Donnerstag_coord_nn.xlsx')\n",
    "Table_Freitag = pd.read_excel('../Data/Freitag/joined_Freitag_coord_nn.xlsx')\n",
    "Table_Samstag = pd.read_excel('../Data/Samstag/joined_Samstag_coord_nn.xlsx')"
   ]
  },
  {
   "cell_type": "code",
   "execution_count": 4,
   "metadata": {},
   "outputs": [],
   "source": [
    "Table_Sonntag = Table_Sonntag.drop_duplicates()\n",
    "Table_Montag = Table_Montag.drop_duplicates()\n",
    "Table_Dienstag = Table_Dienstag.drop_duplicates()\n",
    "Table_Donnerstag = Table_Donnerstag.drop_duplicates()\n",
    "Table_Freitag = Table_Freitag.drop_duplicates()\n",
    "Table_Samstag = Table_Samstag.drop_duplicates()"
   ]
  },
  {
   "cell_type": "code",
   "execution_count": 5,
   "metadata": {},
   "outputs": [],
   "source": [
    "frames = [Table_Sonntag, Table_Montag, Table_Dienstag, Table_Donnerstag, Table_Freitag, Table_Samstag]"
   ]
  },
  {
   "cell_type": "code",
   "execution_count": 6,
   "metadata": {},
   "outputs": [],
   "source": [
    "all_places = pd.concat(frames)"
   ]
  },
  {
   "cell_type": "code",
   "execution_count": 10,
   "metadata": {},
   "outputs": [
    {
     "data": {
      "text/html": [
       "<div>\n",
       "<style scoped>\n",
       "    .dataframe tbody tr th:only-of-type {\n",
       "        vertical-align: middle;\n",
       "    }\n",
       "\n",
       "    .dataframe tbody tr th {\n",
       "        vertical-align: top;\n",
       "    }\n",
       "\n",
       "    .dataframe thead th {\n",
       "        text-align: right;\n",
       "    }\n",
       "</style>\n",
       "<table border=\"1\" class=\"dataframe\">\n",
       "  <thead>\n",
       "    <tr style=\"text-align: right;\">\n",
       "      <th></th>\n",
       "      <th>NEUE_NAMEN</th>\n",
       "      <th>ADRESSE</th>\n",
       "      <th>Sicherheit</th>\n",
       "      <th>Longitude</th>\n",
       "      <th>Latitude</th>\n",
       "      <th>Quelle</th>\n",
       "      <th>URL</th>\n",
       "    </tr>\n",
       "  </thead>\n",
       "  <tbody>\n",
       "    <tr>\n",
       "      <th>0</th>\n",
       "      <td>k. k. Burg</td>\n",
       "      <td>NaN</td>\n",
       "      <td>hoch</td>\n",
       "      <td>16.365809</td>\n",
       "      <td>48.206874</td>\n",
       "      <td>Gazetteer_Steinhausenplan_V5_auto</td>\n",
       "      <td>NaN</td>\n",
       "    </tr>\n",
       "    <tr>\n",
       "      <th>1</th>\n",
       "      <td>Burgplatz</td>\n",
       "      <td>NaN</td>\n",
       "      <td>hoch</td>\n",
       "      <td>16.364500</td>\n",
       "      <td>48.206794</td>\n",
       "      <td>QGIS - Estimation</td>\n",
       "      <td>NaN</td>\n",
       "    </tr>\n",
       "    <tr>\n",
       "      <th>2</th>\n",
       "      <td>Burgthor</td>\n",
       "      <td>NaN</td>\n",
       "      <td>hoch</td>\n",
       "      <td>16.362702</td>\n",
       "      <td>48.205781</td>\n",
       "      <td>QGIS - Estimation</td>\n",
       "      <td>NaN</td>\n",
       "    </tr>\n",
       "    <tr>\n",
       "      <th>3</th>\n",
       "      <td>kaiserlichen Stallungen</td>\n",
       "      <td>NaN</td>\n",
       "      <td>hoch</td>\n",
       "      <td>16.358862</td>\n",
       "      <td>48.203593</td>\n",
       "      <td>QGIS - Estimation</td>\n",
       "      <td>NaN</td>\n",
       "    </tr>\n",
       "    <tr>\n",
       "      <th>4</th>\n",
       "      <td>Gebäude der ungarischen Garde</td>\n",
       "      <td>07., Museumstraße 7</td>\n",
       "      <td>mittel</td>\n",
       "      <td>16.355278</td>\n",
       "      <td>48.205833</td>\n",
       "      <td>Wikipedia, GeoHack</td>\n",
       "      <td>https://geohack.toolforge.org/geohack.php?page...</td>\n",
       "    </tr>\n",
       "    <tr>\n",
       "      <th>...</th>\n",
       "      <td>...</td>\n",
       "      <td>...</td>\n",
       "      <td>...</td>\n",
       "      <td>...</td>\n",
       "      <td>...</td>\n",
       "      <td>...</td>\n",
       "      <td>...</td>\n",
       "    </tr>\n",
       "    <tr>\n",
       "      <th>3</th>\n",
       "      <td>Taubstummen=Jnstitut</td>\n",
       "      <td>04., Taubstummengasse 13-17</td>\n",
       "      <td>mittel</td>\n",
       "      <td>16.370941</td>\n",
       "      <td>48.195140</td>\n",
       "      <td>Wien Geschichte Wiki, Google Maps</td>\n",
       "      <td>https://www.geschichtewiki.wien.gv.at/Taubstum...</td>\n",
       "    </tr>\n",
       "    <tr>\n",
       "      <th>4</th>\n",
       "      <td>Theresianum</td>\n",
       "      <td>04., Favoritenstraße 15</td>\n",
       "      <td>mittel</td>\n",
       "      <td>16.371474</td>\n",
       "      <td>48.193538</td>\n",
       "      <td>Wien Geschichte Wiki, Google Maps</td>\n",
       "      <td>https://www.geschichtewiki.wien.gv.at/Theresia...</td>\n",
       "    </tr>\n",
       "    <tr>\n",
       "      <th>5</th>\n",
       "      <td>Theresianum</td>\n",
       "      <td>04., Favoritenstraße 16</td>\n",
       "      <td>mittel</td>\n",
       "      <td>16.371474</td>\n",
       "      <td>48.193538</td>\n",
       "      <td>Wien Geschichte Wiki, Google Maps</td>\n",
       "      <td>https://www.geschichtewiki.wien.gv.at/Theresia...</td>\n",
       "    </tr>\n",
       "    <tr>\n",
       "      <th>6</th>\n",
       "      <td>Bahnhof der  RaaberBahn</td>\n",
       "      <td>Vor der Favoriten=Linie.</td>\n",
       "      <td>hoch</td>\n",
       "      <td>16.379926</td>\n",
       "      <td>48.185792</td>\n",
       "      <td>QGIS - Estimation</td>\n",
       "      <td>NaN</td>\n",
       "    </tr>\n",
       "    <tr>\n",
       "      <th>7</th>\n",
       "      <td>Laxenburger Allee</td>\n",
       "      <td>NaN</td>\n",
       "      <td>hoch</td>\n",
       "      <td>16.374092</td>\n",
       "      <td>48.182660</td>\n",
       "      <td>QGIS - Estimation</td>\n",
       "      <td>NaN</td>\n",
       "    </tr>\n",
       "  </tbody>\n",
       "</table>\n",
       "<p>363 rows × 7 columns</p>\n",
       "</div>"
      ],
      "text/plain": [
       "                       NEUE_NAMEN                      ADRESSE Sicherheit  \\\n",
       "0                      k. k. Burg                          NaN       hoch   \n",
       "1                       Burgplatz                          NaN       hoch   \n",
       "2                        Burgthor                          NaN       hoch   \n",
       "3         kaiserlichen Stallungen                          NaN       hoch   \n",
       "4   Gebäude der ungarischen Garde          07., Museumstraße 7     mittel   \n",
       "..                            ...                          ...        ...   \n",
       "3            Taubstummen=Jnstitut  04., Taubstummengasse 13-17     mittel   \n",
       "4                     Theresianum      04., Favoritenstraße 15     mittel   \n",
       "5                     Theresianum      04., Favoritenstraße 16     mittel   \n",
       "6         Bahnhof der  RaaberBahn     Vor der Favoriten=Linie.       hoch   \n",
       "7               Laxenburger Allee                          NaN       hoch   \n",
       "\n",
       "    Longitude   Latitude                             Quelle  \\\n",
       "0   16.365809  48.206874  Gazetteer_Steinhausenplan_V5_auto   \n",
       "1   16.364500  48.206794                 QGIS - Estimation    \n",
       "2   16.362702  48.205781                 QGIS - Estimation    \n",
       "3   16.358862  48.203593                 QGIS - Estimation    \n",
       "4   16.355278  48.205833                 Wikipedia, GeoHack   \n",
       "..        ...        ...                                ...   \n",
       "3   16.370941  48.195140  Wien Geschichte Wiki, Google Maps   \n",
       "4   16.371474  48.193538  Wien Geschichte Wiki, Google Maps   \n",
       "5   16.371474  48.193538  Wien Geschichte Wiki, Google Maps   \n",
       "6   16.379926  48.185792                  QGIS - Estimation   \n",
       "7   16.374092  48.182660                  QGIS - Estimation   \n",
       "\n",
       "                                                  URL  \n",
       "0                                                 NaN  \n",
       "1                                                 NaN  \n",
       "2                                                 NaN  \n",
       "3                                                 NaN  \n",
       "4   https://geohack.toolforge.org/geohack.php?page...  \n",
       "..                                                ...  \n",
       "3   https://www.geschichtewiki.wien.gv.at/Taubstum...  \n",
       "4   https://www.geschichtewiki.wien.gv.at/Theresia...  \n",
       "5   https://www.geschichtewiki.wien.gv.at/Theresia...  \n",
       "6                                                 NaN  \n",
       "7                                                 NaN  \n",
       "\n",
       "[363 rows x 7 columns]"
      ]
     },
     "execution_count": 10,
     "metadata": {},
     "output_type": "execute_result"
    }
   ],
   "source": [
    "all_places.drop(['Index', 'Column1', 'Longitude_x', 'Latitude_x'], axis=1)"
   ]
  },
  {
   "cell_type": "code",
   "execution_count": 11,
   "metadata": {},
   "outputs": [],
   "source": [
    "all_places = all_places.drop_duplicates()"
   ]
  },
  {
   "cell_type": "code",
   "execution_count": 12,
   "metadata": {},
   "outputs": [],
   "source": [
    "all_places.to_excel('../Data/all_places_coord.xlsx')"
   ]
  }
 ],
 "metadata": {
  "kernelspec": {
   "display_name": "Python 3",
   "language": "python",
   "name": "python3"
  },
  "language_info": {
   "codemirror_mode": {
    "name": "ipython",
    "version": 3
   },
   "file_extension": ".py",
   "mimetype": "text/x-python",
   "name": "python",
   "nbconvert_exporter": "python",
   "pygments_lexer": "ipython3",
   "version": "3.12.0"
  }
 },
 "nbformat": 4,
 "nbformat_minor": 2
}
