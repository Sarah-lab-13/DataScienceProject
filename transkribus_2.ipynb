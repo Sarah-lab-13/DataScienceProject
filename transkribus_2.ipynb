{
 "cells": [
  {
   "cell_type": "code",
   "execution_count": 5,
   "metadata": {},
   "outputs": [
    {
     "ename": "ModuleNotFoundError",
     "evalue": "No module named 'transkribus'",
     "output_type": "error",
     "traceback": [
      "\u001b[1;31m---------------------------------------------------------------------------\u001b[0m",
      "\u001b[1;31mModuleNotFoundError\u001b[0m                       Traceback (most recent call last)",
      "\u001b[1;32mc:\\Users\\sarah\\Desktop\\git_folder\\DataScienceProject\\transkribus_2.ipynb Zelle 1\u001b[0m line \u001b[0;36m4\n\u001b[0;32m      <a href='vscode-notebook-cell:/c%3A/Users/sarah/Desktop/git_folder/DataScienceProject/transkribus_2.ipynb#W1sZmlsZQ%3D%3D?line=0'>1</a>\u001b[0m TRANSKRIBUS_EMAIL \u001b[39m=\u001b[39m \u001b[39m\"\u001b[39m\u001b[39ma12110417@unet.univie.ac.at\u001b[39m\u001b[39m\"\u001b[39m\n\u001b[0;32m      <a href='vscode-notebook-cell:/c%3A/Users/sarah/Desktop/git_folder/DataScienceProject/transkribus_2.ipynb#W1sZmlsZQ%3D%3D?line=1'>2</a>\u001b[0m TRANSKRIBUS_PASSWORD \u001b[39m=\u001b[39m \u001b[39m\"\u001b[39m\u001b[39m=b@gMi4}:9;P?b\u001b[39m\u001b[39m'\u001b[39m\u001b[39m\"\u001b[39m\n\u001b[1;32m----> <a href='vscode-notebook-cell:/c%3A/Users/sarah/Desktop/git_folder/DataScienceProject/transkribus_2.ipynb#W1sZmlsZQ%3D%3D?line=3'>4</a>\u001b[0m \u001b[39mfrom\u001b[39;00m \u001b[39mtranskribus\u001b[39;00m\u001b[39m.\u001b[39;00m\u001b[39mapi\u001b[39;00m \u001b[39mimport\u001b[39;00m TranskribusAPI, options_from_env\n\u001b[0;32m      <a href='vscode-notebook-cell:/c%3A/Users/sarah/Desktop/git_folder/DataScienceProject/transkribus_2.ipynb#W1sZmlsZQ%3D%3D?line=4'>5</a>\u001b[0m api \u001b[39m=\u001b[39m TranskribusAPI(\u001b[39m*\u001b[39m\u001b[39m*\u001b[39moptions_from_env())\n",
      "\u001b[1;31mModuleNotFoundError\u001b[0m: No module named 'transkribus'"
     ]
    }
   ],
   "source": [
    "TRANSKRIBUS_EMAIL = \"a12110417@unet.univie.ac.at\"\n",
    "TRANSKRIBUS_PASSWORD = \"=b@gMi4}:9;P?b'\"\n",
    "\n",
    "from transkribus.api import TranskribusAPI, options_from_env\n",
    "api = TranskribusAPI(**options_from_env())"
   ]
  }
 ],
 "metadata": {
  "kernelspec": {
   "display_name": "Python 3",
   "language": "python",
   "name": "python3"
  },
  "language_info": {
   "codemirror_mode": {
    "name": "ipython",
    "version": 3
   },
   "file_extension": ".py",
   "mimetype": "text/x-python",
   "name": "python",
   "nbconvert_exporter": "python",
   "pygments_lexer": "ipython3",
   "version": "3.12.0"
  }
 },
 "nbformat": 4,
 "nbformat_minor": 2
}
