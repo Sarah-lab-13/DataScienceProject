{
 "cells": [
  {
   "cell_type": "code",
   "execution_count": 18,
   "metadata": {},
   "outputs": [],
   "source": [
    "from os import path\n",
    "import re\n",
    "\n",
    "text_path = path.relpath(\"Data/text_clean.txt\")\n",
    "with open(text_path, encoding='utf8') as file:\n",
    "    text = file.read()"
   ]
  },
  {
   "cell_type": "code",
   "execution_count": 19,
   "metadata": {},
   "outputs": [],
   "source": [
    "keys = ['Sonntag','Montag','Dienstag', 'Mittwoch', 'Donnerstag', 'Freitag', 'Samstag']\n",
    "\n",
    "indx = []\n",
    "\n",
    "for i in range(len(keys)):\n",
    "    if text.find(keys[i])!= -1:\n",
    "        indx.append(int(text.find(keys[i])))\n",
    "    else:\n",
    "        print('Key not found')"
   ]
  },
  {
   "cell_type": "code",
   "execution_count": 20,
   "metadata": {},
   "outputs": [
    {
     "name": "stdout",
     "output_type": "stream",
     "text": [
      "[1503, 14026, 22471, 27531, 33252, 39043, 28490]\n"
     ]
    }
   ],
   "source": [
    "print(indx)"
   ]
  },
  {
   "cell_type": "code",
   "execution_count": 21,
   "metadata": {},
   "outputs": [
    {
     "name": "stdout",
     "output_type": "stream",
     "text": [
      "Sonntag Vormittag, wo man nicht zu bestimmten Stunden in irgend eine Anstalt eilen muß. Wir beginnen von der k. k. Burg*). Tritt man zur selben hinaus, so hat man den großen äußeren Burgplatz vor sich, welcher durch 2 sich kreuzende Wege in 4 Rasenparterre abgetheilt ist. Rechts und links führen in allen Ecken Wege auf den Wall; gerade vor sich hat man das Burgthor, unter Kaiser Franz I. von Nobile 1822 erbaut. Des Kaisers *)Alle Staatsanstalten haben das Prädikat kaiserlich-königliche (k. k.), welches im Folgenden nur der Kürze wegen weggelassen wird. Wahlspruch: Justitia Regnorum Fundamentum, ziert die Stadtseite. Es ist 38 Klafter lang, und hat fünf Durchgänge, welche durch 18 dorische Säulen gebildet werden, die 4' 7'' Durchmesser haben. Die mittlere Durchfahrt ist dem allerhöchsten Hofe vorbehalten. Zu beiden Seiten des Gebäudes führen auch Stiegen auf den Wall, die aber gewöhnlich verschlossen sind, so wie der Aufgang auf die Plattform des Thores. Man sollte aber in der Wachstube um das Aufschließen ansuchen, da diese Plattform ein sehr interessanter Standpunkt ist. Gerade vor sich hat man die kaiserlichen Stallungen (von Fischer von Erlach erbaut), 600 Fuß lang, welche 400 Pferdestände enthalten. Etwas weiter rechts ist das Gebäude der ungarischen Garde (von demselben) und das Palais des Fürsten Auersperg. Weiterhin sieht man das Gebäude des Geographischen (Militär-)Instituts, das KriminalGebäude, das Kahlengeblege rc. Links von den Stallungen führt die Mariahilfer Hauptstraße gegen Schönbrunn. Neben dieser steht in der Tiefe die Grenadierkaserne, der Platz davor ist der Getreidemarkt und das hölzerne Gebäude auf diesem enthält einen artesischen Brunnen. Weiterhin steht man die Akazien-Alleen an den Ufern der Wien mit dem Kettenstege, der steinernen Brücke, jenseits derselben das Polytechnische Institut und die Karlskirche. — Weldet man sich gegen die Stadt um, so hat man vor sich die Gebäude der Burg. Der vorspringende Flügel enthält den Ritter- oder Ceremoniensaal. Links davon bezeichnet im ersten Stockwerke der große Balkon mit Glaswänden die Appartements Sr Majestät des Kaisers. Rechts vom Rittersaal enthält der lange, etwas niedere Bau das Antiken- und Mineralienkabinet, darüber ragt links der kleine astronomische Thurm der Burg empor, rechts die Kuppel des Hofbibliothek-Gebäudes am Josephsplatze. Weiterhin steht das schöne Palais des Erzherzogs Karl auf dem Walle. Die kreuzende Straße auf dem Burgplatze führt beiderseits zu kolossalen Gartenthoren, links des Volksgartens, rechts des Burggartens. Den Burggarten darf man nicht unbesichtigt lassen, da in den Frühstunden (außer der Hof wäre etwa eben in demselben anwesend) der Besuch jedem Gebildeten gestattet ist. Man wende sich nur an irgend einen Gärtnergehilfen, oder an den Hrn. Hofgärtner, um der Gewächshäuser willen. Dieser Prachtbau (von Remy) hat 568 Länge, 325' Höhe. Die Mitte des Raumes bildet der imposante Blumensaal, 72' lang, von 8 Säulen getragen, die 30' Höhe, 3' Durchmesser haben. Die große Porzellan-Vase im Flügelsalon. Im Garten selbst steht die Reiterstatue des Gemahls von M. Theresia, Kaisers Franz I. (von Moll). Geht man nun auf den Wall rechts (Südwest) am Palais des Erzherzogs Karl vorüber, so kömmt man zu der Auffahrt vom Spitalplatze, am Hofbauamte vorbei, zum Kärnthnerthor-Theater. zu welchem ein bedeckter Gang vom Wall hinüber führt. Wenige Schritte weiter steht man über dem Kärnthnerthore und sieht in die Kärnthnerstraße hinab. Auf dem Glacis sieht man die Brücke über die Wien, welche zur Vorstadt Wieden, auf die Straße nach Baden führt. Rechts steht das große Starhembergische Freihaus, lnks das Polytechnische Institut und die Karlskirche. Ueber das Starhembergische Frelhaus hin steht man die Geblrge des Wienerwaldes und an heiteren Tagen erblickt man den Schneeberg in weiter Ferne empor ragen. In der Vorstadt steht Unks von der Karlskirche das Sommerpalais des Fürsten Schwarzenberg, darüber ragt das Belvedere empor, und hinter diesem rechts steht man die Rauchfänge im Bahnhofe der Raaber Eisenbahn. Uinks vom Belvedere ist Kirche und Kloster der Salesianerinnen, neben dem Schwarzenberglschen Palais steht vorne die neue Kaserne (für Infanterie und das Beschäl-Departement) Das Paals mit den großen Saalfenstern ist Elgenthum des Erzherzogs Maximilian. Im Stadtgraben steht ein Militär-Magazin und ein kleiner Garten des Erzherzogs Karl, der in Verbindung mit dem oberen ist, welcher den ganzen nun folgenden Navelin einnimmt. Diesem gegenüber springt das Paluis Kolowrat vor. Man kömmt nun auf dem Walle zu den Stellen, wo mit Asphalt-Pflasterung Proben gemacht wurden; lnks steht das Artillerie-Haupt-Zeugamt mit dem Blechthürmchen, und man erreicht das Karolinenthor. Im Stadtgraben befindet sich ein Garten des Erzherzogs Karl. Vom Thore sieht man in der Stadt auf die Seilerstätte hinab und die Weihburggasse auswärts; die Brücke führt zur Mineralwässer-Trinkkur-Anstalt und ihren Gartenanlagen auf dem Glacis, weiterhin die Vorstadt Rennweg hinan. Auf dem Navelin steht links das neue Palals des Herzogs von Koburg, 1842 erbaut. Geht man auf der Courtine des Walles weiter fort, so kömmt man an einem Hause vorüber, welches ein Stockwerk hoch, etwas weiter zurück in der Reihe steht, es ist die orlentalische Akademie. Gleich darauf ist man am Stubenthor, steht in der Stadt die Wollzeile hinauf, und außen auf die großse Stelnbrücke über die Wien, deren dammartige Verlängerung beiderseits von schönen hohen Pappeln eingefaßt ist. Dort ist die Hauptstraße der Vorstadt Landstraße, welche zur Linie (Barriere) von St. Marx und nach Ungarn führt. Rechts von den Pappeln steht das stattliche Münzgebäude, dicht neben diesem links zieht sich der Neustädter Kanal herab, und an ihm befindet sich, von den Bäumen versteckt, die Stückbohrerei. Links von den Pappeln ist das Invalidenhaus, vor ihm das Kanalbassin mit einem Holzmarkte. Auf dem Walle steht dicht am Stubenthore Kloster und Kirche der Dominikaner, vor welcher ein hoher Ravelin auf dem Walle selbst vorspringt. Biegt man um ihn herum, so kömmt man zu dem Gebäude der Hauptmauth und noch vor diesem ist die Fahrpost, deren Wagenremisen mit Schiefer gedeckt sind. Von der Hauptmauth führt eine offene Brücke ohne Thor aufs Glacis zu den hölzernen Transitomagazinen und hinter diesen ragt an der Vorstadt der imposante neue Bau für die Hauptmauth (Zollamt) empor. Nach dessen Vollendung wird (1843) das Gebäude auf dem Walle eine andere Bestimmung erhalten. Auf dem nächstfolgenden Ravelin erblickt man den Donaukanal. Es ist ein malerischer Standpunkt: Links hat man das Kahlengebirge, rechts die Bäume des Praters zum Hintergrunde, vor sich am anderen Ufer die Leopoldstadt; die Ferdinandsbrücke führt vom Rothenthurm-Thore hinüber. Von ihr führt die Taborstraße gerade fort (nördlich) zum Tabor, der Linie gegen Mähren und Böhmen, rechts aber sieht man zum Theil in die Jägerzeile hinein, durch welche die berühmte Praterfahrt geht. Der Donau abwärts sind die Fischerkähne, weiterhin landen die Getreideschiffe und man sieht den großen Kornspeicher. Unterhalb diesem steht die Franzensbrücke. Die Bastei wird weiterhin am niedrigsten. Die Vorstadt dießseits heißt unter den Weißgärbern und Erdberg. Ehe man zum Rothenthurmthore kommt, sieht man in der Stadt die stark ansteigende Laurenzer-Gasse hinauf, deren linke Seite von einem großen Gebäude (Laurenzerhof) gebildet wird, in welchem die Staats-Buchhaltungen und noch mehre andere Büreaus sich befinden. Hat man das Thor passirt, so sieht man in der Stadt 10 das Müllerische Palais mit doppelten Balkonen in seiner ganzen Länge. In der Leopoldstadt drüben steht das Dianabad; die Karls-Kettenbrücke verbindet die Ufer. Dießselts landen die Salz- und Obstschiffe, und dieser Landungsplatz ist der bekannte Schanzl. In der Stadt ist der Flschmarkt, auf welchem Freltags auch hölzerne FischBuden aufgerichtet werden, man sieht die St. Nuprechtöstlege hinauf und hat übermals einen Navelin mit dem Fischerthore erreicht. Die Straße in der Stadt heißt nun der Salzgries, das hohe altersgraue Gebäude mit Gitterfenstern ist das Polizeihaus, und weiterhin steht dicht am Walle die Grenadlerkaserne, die einzige in der Stadt. Auf dem nahen Navelin springt das Stabsstockhaus (Militär-Arrest) weit vor. Diesem gegenüber steht auf dem Ravelin (Elendbastei) ein kleines Observatorium des Generalstabes. Man steht nun über dem neuen Thore; die Straße auf dem Glacis führt zur Augartenbrücke (mit hölzernen Jochen) und hinter den Häusern der Leopoldstadt ragen die Bäume des Augartens empor, an welchen die Brigitienau stößt. Am dießseitigen Ufer reicht die Vorstadt Noßau an den Donaukanal, weiterhin Lichtenthal mit der Servitenkirche, dahinter die Höhen von Döbling vor dem Kahlengebirge. Der Berg zunächst an der Donau ist der Leopoldsberg. wo die Herzogsburg der Babenberge stand, sein Nachbar ist der größere Kahlenberg (Josephsberg). 11 Auf der Bastel hat man neben sich das lange Dach des Arsenales und der Proviantbäckerei. Man geht hierauf etwas bergan zum Schottenthore, 1841 neu erbaut, und sieht die Schottengasse hinab, bis auf die Freiung und in die Herrngasse hineln. Die Straße außer dem Thore führt in die Währingergasse, deren linkes Eck die Gewehrfabrik bildet. Hier fährt man zur Nußdorfer Linie nach Döbling rc. Links von der Gewehrfabrik steht die ehemalige Kirche der Schwarzspanier, jetzt das Garnisons-Bettmagazin. Das große vorspringende Eckhaus ist das fürstlich Esterhazische sogenannte rothe Haus, und an dieses stößt die große Infanterie-Kaserne, welche das Eck in die Alsergasse bildet; diese Gasse führt zur Herrnalser Linie und nach Dornbach. Das gegenüber stehende imposante Gebäude ist das Kriminale. Man steht jetzt auf dem Navelin Mölkerbastei. Das Gäßchen links führt in die Teinfaltstraße hinab, dann folgt das Palals Lubomirski mit der Säulenhalle im ersten Stockwerke und das Franzensthor, das jüngste aus allen. Der Weg über das Glacis führt in die Josephstadt hinaus. Draußen steht eine Reihe neuer Häuser, unter welchen das geographische Institut des Generalstabes an einem Thürmchen kenntlich ist. Wo diese Häuserreihe weiterhin endet, sieht man in die Kaisergasse hinauf, wo das Josephstädter Theater und die große Kavallerie-Kaserne sich befinden; es ist der Weg in das berüchtigte Lerchenfeld. Der nächst 12 folgende Ravelin, die Löwelbastei, berühmt durch die heldenmüthige Vertheidigung gegen die Türken, trägt jetzt das anmuthige Paradies-Gärtchen mit Corti's-Kaffehhause, von welchem man hinab in den Volksgarten kömmt. In der Stadt sieht man die Schenkenstraße mit dem Palais Liechtenstein, zu welchem von der Bastei eine doppelte Brücke hinüberführt, auch ist eine Anfahrt im neuesten Style auf der Bastei erbaut. Man kömmt nun gegen die Burg an der Staats-Kanzlei vorbei, zu der eine eiserne Brücke hinüberführt; auf dem Walle selbst ist ein Gärtchen des Fürsten Metternich. Unten ist der Ballplatz. Die Anfahrt bei der Burg heißt Bellaria. Man steht nun wieder an dem äußeren Burgplatze, auf welchem man jenseits den Rundgang begonnen hat, und schließt mit einem Besuche des Volksgartens. Unter Tags ist derselbe ein Haupttummelplatz der Kinder, Abends kömmt dann die elegante Welt. Ein zweites Kaffehaus von Corti ist eine sehr freundliche Halle im Halbkreise gebaut. Die beliebten Orchester von Strauß und Lanner spielen hier zuweilen. Mitten im Volksgarten steht der Theseustempel, von Nobile nach den Verhältnissen des atheniensischen erbaut, 76' lang, 48' breit, und für Canova's Meisterwerk bestimmt, die Marmorgruppe des Theseus. Im Winter ist der Tempel verschlossen, er wird aber bereitwillig geöffnet, wenn man sich in der Wachstube der Hof-Burgwache (nicht der Grenadier-Hauptwache) in der Durchfahrt in den Schwei13 zerhof meldet. Das kleine Haus dicht an der Stadtmauer ist dem Kunstvereine eingeräumt, der darin die von ihm angekauften Kunstwerke ausstellt; auch für andere Expositionen dient das Gebäude. In den folgenden Blättern wird eine Anweisung gegeben, die Sehenswürdigkeiten Wiens in der Art zu besuchen, daß der Weg zu den Anstalten, an den Einlaßtagen derselben, zugleich so instruktiv gemacht wird als möglich. Für die Nachmittage werden Ausflüge in die Umgebungen vorgeschlagen, wie sie sich am besten vereinigen lassen. Nur auf das Wichtigste wird aufmerksam gemacht, und es wird leicht sein, auch darin wieder eine Auswahl nach Neigung und Zeitverhältnissen zu treffen. Alles Angegebene zu besehen ist natürlich nur bei sehr flüchtigen Durchgehen der Anstalten möglich. \n"
     ]
    }
   ],
   "source": [
    "Sonntag_text = text[1503:14026]\n",
    "print(Sonntag_text)"
   ]
  },
  {
   "cell_type": "code",
   "execution_count": 22,
   "metadata": {},
   "outputs": [],
   "source": [
    "import spacy\n",
    "nlp = spacy.load(\"de_core_news_sm\")\n",
    "nlp_Sonntag = nlp(Sonntag_text)"
   ]
  },
  {
   "cell_type": "code",
   "execution_count": 23,
   "metadata": {},
   "outputs": [],
   "source": [
    "def build_locations(nlp_text):\n",
    "    clean_text = ([word for word in nlp_text if not (word.is_punct or word.is_digit)])\n",
    "    lemma_list = []\n",
    "    for word in clean_text: \n",
    "        lemma = word.lemma_\n",
    "        lemma_list.append(lemma)\n",
    "\n",
    "    lemma_text = ' '.join(str(word) for word in lemma_list)\n",
    "    nlp_lemma = nlp(lemma_text)    \n",
    "\n",
    "    locations = []\n",
    "    for word in nlp_lemma.ents:    \n",
    "        if word.label_ in ['LOC']:\n",
    "            if str(word.text) != 'Wien':\n",
    "                locations.append(word.text) \n",
    "    return locations"
   ]
  },
  {
   "cell_type": "code",
   "execution_count": 25,
   "metadata": {},
   "outputs": [],
   "source": [
    "Sonntagsorte = build_locations(nlp_Sonntag)"
   ]
  },
  {
   "cell_type": "code",
   "execution_count": 26,
   "metadata": {},
   "outputs": [
    {
     "name": "stdout",
     "output_type": "stream",
     "text": [
      "87\n"
     ]
    }
   ],
   "source": [
    "print(len(Sonntagsorte))"
   ]
  },
  {
   "cell_type": "code",
   "execution_count": null,
   "metadata": {},
   "outputs": [],
   "source": [
    "from wordcloud import "
   ]
  },
  {
   "cell_type": "code",
   "execution_count": null,
   "metadata": {},
   "outputs": [],
   "source": [
    "from wordcloud import WordCloud\n",
    "\n",
    "SO_joined = ' '.join(Sonntagsorte)\n",
    "wordcloud = WordCloud().generate(SO_joined)\n",
    "\n",
    "fig, ax = plt.subplots(figsize=(16, 12))\n",
    "ax.imshow(wordcloud, interpolation='nearest')\n",
    "plt.tight_layout()"
   ]
  }
 ],
 "metadata": {
  "kernelspec": {
   "display_name": "Python 3",
   "language": "python",
   "name": "python3"
  },
  "language_info": {
   "codemirror_mode": {
    "name": "ipython",
    "version": 3
   },
   "file_extension": ".py",
   "mimetype": "text/x-python",
   "name": "python",
   "nbconvert_exporter": "python",
   "pygments_lexer": "ipython3",
   "version": "3.12.0"
  }
 },
 "nbformat": 4,
 "nbformat_minor": 2
}
